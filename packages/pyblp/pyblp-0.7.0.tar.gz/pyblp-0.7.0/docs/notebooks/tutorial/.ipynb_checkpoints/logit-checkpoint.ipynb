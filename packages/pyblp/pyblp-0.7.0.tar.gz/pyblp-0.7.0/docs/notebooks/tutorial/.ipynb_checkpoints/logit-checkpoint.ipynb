{
 "cells": [
  {
   "cell_type": "markdown",
   "metadata": {},
   "source": [
    "# Logit Benchmark"
   ]
  },
  {
   "cell_type": "code",
   "execution_count": 1,
   "metadata": {},
   "outputs": [
    {
     "data": {
      "text/plain": [
       "'0.5.0'"
      ]
     },
     "execution_count": 1,
     "metadata": {},
     "output_type": "execute_result"
    }
   ],
   "source": [
    "import pyblp\n",
    "import numpy as np\n",
    "\n",
    "pyblp.options.digits = 3\n",
    "pyblp.options.verbose = False\n",
    "pyblp.__version__"
   ]
  },
  {
   "cell_type": "markdown",
   "metadata": {},
   "source": [
    "Comparing results from the full BLP model with results from the simpler Logit model is straightforward. A Logit :class:`Problem` can be created by simply excluding the formulation for $X_2$ along with any agent information. We'll set up and solve a simpler version of the fake cereal problem from :ref:`references:Nevo (2000)`. Since we won't include any nonlinear characteristics or parameters, we don't have to worry about configuring an optimization routine."
   ]
  },
  {
   "cell_type": "code",
   "execution_count": 2,
   "metadata": {},
   "outputs": [
    {
     "data": {
      "text/plain": [
       "prices + Absorb[C(product_ids)]"
      ]
     },
     "execution_count": 2,
     "metadata": {},
     "output_type": "execute_result"
    }
   ],
   "source": [
    "logit_formulation = pyblp.Formulation('0 + prices', absorb='C(product_ids)')\n",
    "logit_formulation"
   ]
  },
  {
   "cell_type": "code",
   "execution_count": 3,
   "metadata": {},
   "outputs": [
    {
     "data": {
      "text/plain": [
       "Dimensions:\n",
       "===========================\n",
       " N     T    K1    MD    ED \n",
       "----  ---  ----  ----  ----\n",
       "2256  94    1     20    1  \n",
       "===========================\n",
       "\n",
       "Formulations:\n",
       "=====================================\n",
       "       Column Indices:           0   \n",
       "-----------------------------  ------\n",
       " X1: Linear Characteristics    prices\n",
       "====================================="
      ]
     },
     "execution_count": 3,
     "metadata": {},
     "output_type": "execute_result"
    }
   ],
   "source": [
    "product_data = np.recfromcsv(pyblp.data.NEVO_PRODUCTS_LOCATION, encoding='utf-8')\n",
    "problem = pyblp.Problem(logit_formulation, product_data)\n",
    "problem"
   ]
  },
  {
   "cell_type": "code",
   "execution_count": 4,
   "metadata": {},
   "outputs": [
    {
     "data": {
      "text/plain": [
       "Problem Results Summary:\n",
       "===========================================================================================================\n",
       "Cumulative  GMM   Optimization   Objective   Total Fixed Point  Total Contraction  Objective    Gradient   \n",
       "Total Time  Step   Iterations   Evaluations     Iterations         Evaluations       Value    Infinity Norm\n",
       "----------  ----  ------------  -----------  -----------------  -----------------  ---------  -------------\n",
       " 0:00:00     2         0             1              0.0                0.0         +4.23E+05       NA      \n",
       "===========================================================================================================\n",
       "\n",
       "Linear Estimates (Robust SEs in Parentheses):\n",
       "==================\n",
       "Beta:    prices   \n",
       "-----  -----------\n",
       "        -3.00E+01 \n",
       "       (+1.01E+00)\n",
       "=================="
      ]
     },
     "execution_count": 4,
     "metadata": {},
     "output_type": "execute_result"
    }
   ],
   "source": [
    "results = problem.solve()\n",
    "results"
   ]
  },
  {
   "cell_type": "markdown",
   "metadata": {},
   "source": [
    "Logit :class:`ProblemResults` can be to compute the same types of post-estimation outputs as :class:`ProblemResults` created by a full BLP problem."
   ]
  }
 ],
 "metadata": {
  "kernelspec": {
   "display_name": "Python 3",
   "language": "python",
   "name": "python3"
  },
  "language_info": {
   "codemirror_mode": {
    "name": "ipython",
    "version": 3
   },
   "file_extension": ".py",
   "mimetype": "text/x-python",
   "name": "python",
   "nbconvert_exporter": "python",
   "pygments_lexer": "ipython3",
   "version": "3.6.6"
  }
 },
 "nbformat": 4,
 "nbformat_minor": 2
}
