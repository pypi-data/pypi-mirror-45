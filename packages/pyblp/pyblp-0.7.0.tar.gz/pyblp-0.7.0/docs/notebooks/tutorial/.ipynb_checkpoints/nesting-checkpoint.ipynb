{
 "cells": [
  {
   "cell_type": "markdown",
   "metadata": {},
   "source": [
    "# Nesting Parameters"
   ]
  },
  {
   "cell_type": "code",
   "execution_count": 1,
   "metadata": {},
   "outputs": [
    {
     "data": {
      "text/plain": [
       "'0.5.0'"
      ]
     },
     "execution_count": 1,
     "metadata": {},
     "output_type": "execute_result"
    }
   ],
   "source": [
    "import pyblp\n",
    "import numpy as np\n",
    "\n",
    "pyblp.options.digits = 3\n",
    "pyblp.options.verbose = False\n",
    "pyblp.__version__"
   ]
  },
  {
   "cell_type": "markdown",
   "metadata": {},
   "source": [
    "It is also straightforward to incorporate parameters that measure within nesting group correlation. Incorporating such parameters into the Logit benchmark model gives the nested Logit model, and incorporating them into the full model gives the random coefficients nested logit (RCNL) model described, for example, by :ref:`references:Grigolon and Verboven (2014)`.\n",
    "\n",
    "As an example, we'll supplement a Logit benchmark model for the fake cereal problem with a nesting parameter that measures correlation within products that have the same `sugar` category. We'll have to add a new `nesting_ids` field to the product data and specify an initial value for $\\rho$, the nesting parameter."
   ]
  },
  {
   "cell_type": "code",
   "execution_count": 2,
   "metadata": {},
   "outputs": [
    {
     "data": {
      "text/plain": [
       "prices + Absorb[C(product_ids)]"
      ]
     },
     "execution_count": 2,
     "metadata": {},
     "output_type": "execute_result"
    }
   ],
   "source": [
    "logit_formulation = pyblp.Formulation('0 + prices', absorb='C(product_ids)')\n",
    "logit_formulation"
   ]
  },
  {
   "cell_type": "code",
   "execution_count": 3,
   "metadata": {},
   "outputs": [
    {
     "data": {
      "text/plain": [
       "Dimensions:\n",
       "================================\n",
       " N     T    K1    MD    ED    H \n",
       "----  ---  ----  ----  ----  ---\n",
       "2256  94    1     20    1    15 \n",
       "================================\n",
       "\n",
       "Formulations:\n",
       "=====================================\n",
       "       Column Indices:           0   \n",
       "-----------------------------  ------\n",
       " X1: Linear Characteristics    prices\n",
       "====================================="
      ]
     },
     "execution_count": 3,
     "metadata": {},
     "output_type": "execute_result"
    }
   ],
   "source": [
    "product_data = np.recfromcsv(pyblp.data.NEVO_PRODUCTS_LOCATION, encoding='utf-8')\n",
    "product_data = {k: product_data[k] for k in product_data.dtype.names}\n",
    "product_data['nesting_ids'] = product_data['sugar']\n",
    "problem = pyblp.Problem(logit_formulation, product_data)\n",
    "problem"
   ]
  },
  {
   "cell_type": "code",
   "execution_count": 5,
   "metadata": {},
   "outputs": [
    {
     "data": {
      "text/plain": [
       "Problem Results Summary:\n",
       "===========================================================================================================\n",
       "Cumulative  GMM   Optimization   Objective   Total Fixed Point  Total Contraction  Objective    Gradient   \n",
       "Total Time  Step   Iterations   Evaluations     Iterations         Evaluations       Value    Infinity Norm\n",
       "----------  ----  ------------  -----------  -----------------  -----------------  ---------  -------------\n",
       " 0:00:01     2         2             4               0                  0          +4.87E+05    +8.02E-08  \n",
       "===========================================================================================================\n",
       "\n",
       "Linear Estimates (Robust SEs in Parentheses):\n",
       "==================\n",
       "Beta:    prices   \n",
       "-----  -----------\n",
       "        -1.99E+01 \n",
       "       (+2.72E+00)\n",
       "==================\n",
       "\n",
       "Nonlinear Estimates (Robust SEs in Parentheses):\n",
       "=================\n",
       "Rho:  All Groups \n",
       "----  -----------\n",
       "       +8.69E-01 \n",
       "      (+2.13E-01)\n",
       "================="
      ]
     },
     "execution_count": 5,
     "metadata": {},
     "output_type": "execute_result"
    }
   ],
   "source": [
    "results = problem.solve(rho=0.7)\n",
    "results"
   ]
  },
  {
   "cell_type": "markdown",
   "metadata": {},
   "source": [
    "Nested :class:`ProblemResults` can be to compute the same types of post-estimation outputs as :class:`ProblemResults` created by a full BLP problem."
   ]
  }
 ],
 "metadata": {
  "kernelspec": {
   "display_name": "Python 3",
   "language": "python",
   "name": "python3"
  },
  "language_info": {
   "codemirror_mode": {
    "name": "ipython",
    "version": 3
   },
   "file_extension": ".py",
   "mimetype": "text/x-python",
   "name": "python",
   "nbconvert_exporter": "python",
   "pygments_lexer": "ipython3",
   "version": "3.6.6"
  }
 },
 "nbformat": 4,
 "nbformat_minor": 2
}
