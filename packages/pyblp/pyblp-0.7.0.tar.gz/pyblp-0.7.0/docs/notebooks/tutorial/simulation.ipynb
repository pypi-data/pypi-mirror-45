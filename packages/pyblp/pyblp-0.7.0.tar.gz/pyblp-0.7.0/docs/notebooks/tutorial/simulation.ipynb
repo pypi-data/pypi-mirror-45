{
 "cells": [
  {
   "cell_type": "markdown",
   "metadata": {},
   "source": [
    "# Problem Simulation Tutorial"
   ]
  },
  {
   "cell_type": "code",
   "execution_count": 1,
   "metadata": {},
   "outputs": [
    {
     "data": {
      "text/plain": [
       "'0.7.0'"
      ]
     },
     "execution_count": 1,
     "metadata": {},
     "output_type": "execute_result"
    }
   ],
   "source": [
    "import pyblp\n",
    "import numpy as np\n",
    "import pandas as pd\n",
    "\n",
    "pyblp.options.digits = 2\n",
    "pyblp.options.verbose = False\n",
    "pyblp.__version__"
   ]
  },
  {
   "cell_type": "markdown",
   "metadata": {},
   "source": [
    "Before configuring and solving a problem with real data, it may be a good idea to perform Monte Carlo analysis on simulated data to verify that it is possible to accurately estimate model parameters. For example, before configuring and solving the example problems in the prior tutorials, it may have been a good idea to simulate data according to the assumed models of supply and demand. During such Monte Carlo anaysis, the data would only be used to determine sample sizes and perhaps to choose reasonable true parameters.\n",
    "\n",
    "Simulations are configured with the :class:`Simulation` class, which requires many of the same inputs as :class:`Problem`. The two main differences are:\n",
    "\n",
    "1. Variables in formulations that cannot be loaded from `product_data` or `agent_data` will be drawn from independent uniform distributions.\n",
    "2. True parameters and the distribution of unobserved product characteristics are specified.\n",
    "\n",
    "First, we'll use :func:`build_id_data` to build market and firm IDs for a model in which there are $T = 50$ markets, and in each market $t$, a total of $J_t = 20$ products produced by $F = 10$ firms."
   ]
  },
  {
   "cell_type": "code",
   "execution_count": 2,
   "metadata": {},
   "outputs": [],
   "source": [
    "id_data = pyblp.build_id_data(T=50, J=20, F=10)"
   ]
  },
  {
   "cell_type": "markdown",
   "metadata": {},
   "source": [
    "Next, we'll create an :class:`Integration` configuration to build agent data according to a Gauss-Hermite product rule that exactly integrates polynomials of degree $2 \\times 9 - 1 = 17$ or less."
   ]
  },
  {
   "cell_type": "code",
   "execution_count": 3,
   "metadata": {},
   "outputs": [
    {
     "data": {
      "text/plain": [
       "Configured to construct nodes and weights according to the level-9 Gauss-Hermite product rule."
      ]
     },
     "execution_count": 3,
     "metadata": {},
     "output_type": "execute_result"
    }
   ],
   "source": [
    "integration = pyblp.Integration('product', 9)\n",
    "integration"
   ]
  },
  {
   "cell_type": "markdown",
   "metadata": {},
   "source": [
    "We'll then pass these data to :class:`Simulation`. We'll use :class:`Formulation` configurations to create an $X_1$ that consists of a constant, prices, and an exogenous characteristic; an $X_2$ that consists only of the same exogenous characteristic; and an $X_3$ that consists of the common exogenous characteristic and a cost-shifter."
   ]
  },
  {
   "cell_type": "code",
   "execution_count": 4,
   "metadata": {},
   "outputs": [
    {
     "data": {
      "text/plain": [
       "Dimensions:\n",
       "=================================================\n",
       " T    N     F    I    K1    K2    K3    MD    MS \n",
       "---  ----  ---  ---  ----  ----  ----  ----  ----\n",
       "50   1000  10   450   3     1     2     5     6  \n",
       "=================================================\n",
       "\n",
       "Formulations:\n",
       "===================================================\n",
       "       Column Indices:           0      1       2  \n",
       "-----------------------------  -----  ------  -----\n",
       " X1: Linear Characteristics      1    prices    x  \n",
       "X2: Nonlinear Characteristics    x                 \n",
       "  X3: Cost Characteristics       x      z          \n",
       "===================================================\n",
       "\n",
       "Nonlinear Coefficient True Values:\n",
       "==================\n",
       "Sigma:      x     \n",
       "------  ----------\n",
       "  x      +1.0E+00 \n",
       "==================\n",
       "\n",
       "Beta True Values:\n",
       "==================================\n",
       "    1         prices        x     \n",
       "----------  ----------  ----------\n",
       " +1.0E+00    -2.0E+00    +2.0E+00 \n",
       "==================================\n",
       "\n",
       "Gamma True Values:\n",
       "======================\n",
       "    x           z     \n",
       "----------  ----------\n",
       " +1.0E+00    +4.0E+00 \n",
       "======================"
      ]
     },
     "execution_count": 4,
     "metadata": {},
     "output_type": "execute_result"
    }
   ],
   "source": [
    "simulation = pyblp.Simulation(\n",
    "   product_formulations=(\n",
    "       pyblp.Formulation('1 + prices + x'),\n",
    "       pyblp.Formulation('0 + x'),\n",
    "       pyblp.Formulation('0 + x + z')\n",
    "   ),\n",
    "   beta=[1, -2, 2],\n",
    "   sigma=1,\n",
    "   gamma=[1, 4],\n",
    "   product_data=id_data,\n",
    "   integration=integration,\n",
    "   seed=0\n",
    ")\n",
    "simulation"
   ]
  },
  {
   "cell_type": "markdown",
   "metadata": {},
   "source": [
    "When :class:`Simulation` is initialized, it constructs :attr:`Simulation.agent_data` and simulates all :attr:`Simulation.product_data` except for prices and shares, which are initialized as zeros and need to be solved for.\n",
    "\n",
    "The excluded instruments in :attr:`Simulation.product_data` include basic instruments computed with :func:`build_blp_instruments` that are functions of all exogenous numerical variables in the problem. In this example, excluded demand-side instruments are the cost-shifter `z` and traditional BLP instruments constructed from `x`. Excluded supply-side instruments are traditional BLP instruments constructed from `x` and `z`.\n",
    "\n",
    "The :class:`Simulation` can be further configured with other arguments that determine how unobserved product characteristics are simulated and how marginal costs are specified.\n",
    "\n",
    "Since at this stage prices and shares are all zeros, we still need to solve the simulation with :meth:`Simulation.solve`. This method computes synthetic prices and shares. Just like :meth:`ProblemResults.compute_prices`, to do so it iterates over the $\\zeta$-markup equation from :ref:`references:Morrow and Skerlos (2011)`."
   ]
  },
  {
   "cell_type": "code",
   "execution_count": 5,
   "metadata": {},
   "outputs": [
    {
     "data": {
      "text/plain": [
       "Simulation Results Summary:\n",
       "=====================================\n",
       "Computation  Fixed Point  Contraction\n",
       "   Time      Iterations   Evaluations\n",
       "-----------  -----------  -----------\n",
       " 00:00:01        697          697    \n",
       "====================================="
      ]
     },
     "execution_count": 5,
     "metadata": {},
     "output_type": "execute_result"
    }
   ],
   "source": [
    "simulation_results = simulation.solve()\n",
    "simulation_results"
   ]
  },
  {
   "cell_type": "markdown",
   "metadata": {},
   "source": [
    "Now, we can try to recover the true parameters by creating and solving a :class:`Problem`. By default, the convenience method :meth:`SimulationResults.to_problem` uses the same formulations and unobserved agent data as the simulation, so estimation is relatively easy. However, we'll choose starting values that are half the true parameters so that the optimization routine has to do some work. Note that since we're jointly estimating the supply side, we need to provide an initial value for the linear coefficient on prices because this parameter cannot be concentrated out of the problem (unlike linear coefficients on exogenous characteristics)."
   ]
  },
  {
   "cell_type": "code",
   "execution_count": 6,
   "metadata": {},
   "outputs": [
    {
     "data": {
      "text/plain": [
       "Dimensions:\n",
       "=================================================\n",
       " T    N     F    I    K1    K2    K3    MD    MS \n",
       "---  ----  ---  ---  ----  ----  ----  ----  ----\n",
       "50   1000  10   450   3     1     2     5     6  \n",
       "=================================================\n",
       "\n",
       "Formulations:\n",
       "===================================================\n",
       "       Column Indices:           0      1       2  \n",
       "-----------------------------  -----  ------  -----\n",
       " X1: Linear Characteristics      1    prices    x  \n",
       "X2: Nonlinear Characteristics    x                 \n",
       "  X3: Cost Characteristics       x      z          \n",
       "==================================================="
      ]
     },
     "execution_count": 6,
     "metadata": {},
     "output_type": "execute_result"
    }
   ],
   "source": [
    "problem = simulation_results.to_problem()\n",
    "problem"
   ]
  },
  {
   "cell_type": "code",
   "execution_count": 7,
   "metadata": {},
   "outputs": [
    {
     "data": {
      "text/plain": [
       "Problem Results Summary:\n",
       "========================================================================================================================\n",
       "                                                                                                   Smallest    Largest  \n",
       "Computation  GMM   Optimization   Objective   Fixed Point  Contraction  Objective    Gradient      Hessian     Hessian  \n",
       "   Time      Step   Iterations   Evaluations  Iterations   Evaluations    Value    Infinity Norm  Eigenvalue  Eigenvalue\n",
       "-----------  ----  ------------  -----------  -----------  -----------  ---------  -------------  ----------  ----------\n",
       " 00:00:42     2         27           33          8318         26498     +9.3E+03     +2.2E-02      +9.5E+03    +4.9E+06 \n",
       "========================================================================================================================\n",
       "\n",
       "Nonlinear Coefficient Estimates (Robust SEs in Parentheses):\n",
       "==================\n",
       "Sigma:      x     \n",
       "------  ----------\n",
       "  x      +1.5E+00 \n",
       "        (+4.5E-01)\n",
       "==================\n",
       "\n",
       "Beta Estimates (Robust SEs in Parentheses):\n",
       "==================================\n",
       "    1         prices        x     \n",
       "----------  ----------  ----------\n",
       " +1.1E+00    -2.0E+00    +1.8E+00 \n",
       "(+1.2E-01)  (+2.3E-02)  (+1.7E-01)\n",
       "==================================\n",
       "\n",
       "Gamma Estimates (Robust SEs in Parentheses):\n",
       "======================\n",
       "    x           z     \n",
       "----------  ----------\n",
       " +9.3E-01    +4.2E+00 \n",
       "(+8.5E-02)  (+7.4E-02)\n",
       "======================"
      ]
     },
     "execution_count": 7,
     "metadata": {},
     "output_type": "execute_result"
    }
   ],
   "source": [
    "results = problem.solve(\n",
    "   sigma=0.5 * simulation.sigma, \n",
    "   pi=0.5 * simulation.pi,\n",
    "   beta=[None, 0.5 * simulation.beta[1], None]\n",
    ")\n",
    "results"
   ]
  },
  {
   "cell_type": "markdown",
   "metadata": {},
   "source": [
    "The parameters seem to have been estimated reasonably well."
   ]
  },
  {
   "cell_type": "code",
   "execution_count": 8,
   "metadata": {},
   "outputs": [
    {
     "data": {
      "text/plain": [
       "array([[ 1.        ,  1.05244587],\n",
       "       [-2.        , -1.96850864],\n",
       "       [ 2.        ,  1.84086991]])"
      ]
     },
     "execution_count": 8,
     "metadata": {},
     "output_type": "execute_result"
    }
   ],
   "source": [
    "np.c_[simulation.beta, results.beta]"
   ]
  },
  {
   "cell_type": "code",
   "execution_count": 9,
   "metadata": {},
   "outputs": [
    {
     "data": {
      "text/plain": [
       "array([[1.        , 0.93276371],\n",
       "       [4.        , 4.17298671]])"
      ]
     },
     "execution_count": 9,
     "metadata": {},
     "output_type": "execute_result"
    }
   ],
   "source": [
    "np.c_[simulation.gamma, results.gamma]"
   ]
  },
  {
   "cell_type": "code",
   "execution_count": 10,
   "metadata": {},
   "outputs": [
    {
     "data": {
      "text/plain": [
       "array([[1.        , 1.48688669]])"
      ]
     },
     "execution_count": 10,
     "metadata": {},
     "output_type": "execute_result"
    }
   ],
   "source": [
    "np.c_[simulation.sigma, results.sigma]"
   ]
  },
  {
   "cell_type": "markdown",
   "metadata": {},
   "source": [
    "In addition to checking that the configuration for a model based on actual data makes sense, the :class:`Simulation` class can also be a helpful tool for better understanding under what general conditions BLP models can be accurately estimated. Simulations are also used extensively in pyblp's test suite."
   ]
  }
 ],
 "metadata": {
  "kernelspec": {
   "display_name": "Python 3",
   "language": "python",
   "name": "python3"
  },
  "language_info": {
   "codemirror_mode": {
    "name": "ipython",
    "version": 3
   },
   "file_extension": ".py",
   "mimetype": "text/x-python",
   "name": "python",
   "nbconvert_exporter": "python",
   "pygments_lexer": "ipython3",
   "version": "3.6.6"
  }
 },
 "nbformat": 4,
 "nbformat_minor": 2
}
