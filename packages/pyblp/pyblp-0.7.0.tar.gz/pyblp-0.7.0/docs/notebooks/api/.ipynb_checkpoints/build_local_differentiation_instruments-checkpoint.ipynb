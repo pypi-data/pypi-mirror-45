{
 "cells": [
  {
   "cell_type": "markdown",
   "metadata": {},
   "source": [
    "# Building Local Differentiation Instruments Example"
   ]
  },
  {
   "cell_type": "code",
   "execution_count": 1,
   "metadata": {},
   "outputs": [
    {
     "data": {
      "text/plain": [
       "'0.6.1'"
      ]
     },
     "execution_count": 1,
     "metadata": {},
     "output_type": "execute_result"
    }
   ],
   "source": [
    "import pyblp\n",
    "import pandas as pd\n",
    "\n",
    "pyblp.__version__"
   ]
  },
  {
   "cell_type": "markdown",
   "metadata": {},
   "source": [
    "TODO"
   ]
  },
  {
   "cell_type": "code",
   "execution_count": 2,
   "metadata": {},
   "outputs": [
    {
     "data": {
      "text/plain": [
       "hpwt + air + mpd + space"
      ]
     },
     "execution_count": 2,
     "metadata": {},
     "output_type": "execute_result"
    }
   ],
   "source": [
    "formulation = pyblp.Formulation('0 + hpwt + air + mpd + space')\n",
    "formulation"
   ]
  },
  {
   "cell_type": "code",
   "execution_count": 3,
   "metadata": {},
   "outputs": [
    {
     "data": {
      "text/html": [
       "<div>\n",
       "<style scoped>\n",
       "    .dataframe tbody tr th:only-of-type {\n",
       "        vertical-align: middle;\n",
       "    }\n",
       "\n",
       "    .dataframe tbody tr th {\n",
       "        vertical-align: top;\n",
       "    }\n",
       "\n",
       "    .dataframe thead th {\n",
       "        text-align: right;\n",
       "    }\n",
       "</style>\n",
       "<table border=\"1\" class=\"dataframe\">\n",
       "  <thead>\n",
       "    <tr style=\"text-align: right;\">\n",
       "      <th></th>\n",
       "      <th>market_ids</th>\n",
       "      <th>clustering_ids</th>\n",
       "      <th>car_ids</th>\n",
       "      <th>firm_ids</th>\n",
       "      <th>region</th>\n",
       "      <th>shares</th>\n",
       "      <th>prices</th>\n",
       "      <th>hpwt</th>\n",
       "      <th>air</th>\n",
       "      <th>mpd</th>\n",
       "      <th>...</th>\n",
       "      <th>demand_instruments2</th>\n",
       "      <th>demand_instruments3</th>\n",
       "      <th>demand_instruments4</th>\n",
       "      <th>demand_instruments5</th>\n",
       "      <th>supply_instruments0</th>\n",
       "      <th>supply_instruments1</th>\n",
       "      <th>supply_instruments2</th>\n",
       "      <th>supply_instruments3</th>\n",
       "      <th>supply_instruments4</th>\n",
       "      <th>supply_instruments5</th>\n",
       "    </tr>\n",
       "  </thead>\n",
       "  <tbody>\n",
       "    <tr>\n",
       "      <th>0</th>\n",
       "      <td>1971</td>\n",
       "      <td>AMGREM71</td>\n",
       "      <td>129</td>\n",
       "      <td>15</td>\n",
       "      <td>US</td>\n",
       "      <td>0.001051</td>\n",
       "      <td>4.935802</td>\n",
       "      <td>0.528997</td>\n",
       "      <td>0</td>\n",
       "      <td>1.888146</td>\n",
       "      <td>...</td>\n",
       "      <td>0.566217</td>\n",
       "      <td>0.365328</td>\n",
       "      <td>0.659480</td>\n",
       "      <td>0.141017</td>\n",
       "      <td>-0.011161</td>\n",
       "      <td>1.478879</td>\n",
       "      <td>-0.546875</td>\n",
       "      <td>-0.163302</td>\n",
       "      <td>-0.833091</td>\n",
       "      <td>0.301411</td>\n",
       "    </tr>\n",
       "    <tr>\n",
       "      <th>1</th>\n",
       "      <td>1971</td>\n",
       "      <td>AMHORN71</td>\n",
       "      <td>130</td>\n",
       "      <td>15</td>\n",
       "      <td>US</td>\n",
       "      <td>0.000670</td>\n",
       "      <td>5.516049</td>\n",
       "      <td>0.494324</td>\n",
       "      <td>0</td>\n",
       "      <td>1.935989</td>\n",
       "      <td>...</td>\n",
       "      <td>0.566217</td>\n",
       "      <td>0.290959</td>\n",
       "      <td>0.173552</td>\n",
       "      <td>0.128205</td>\n",
       "      <td>-0.079317</td>\n",
       "      <td>1.088327</td>\n",
       "      <td>-0.546875</td>\n",
       "      <td>-0.095609</td>\n",
       "      <td>-0.390314</td>\n",
       "      <td>0.289947</td>\n",
       "    </tr>\n",
       "    <tr>\n",
       "      <th>2</th>\n",
       "      <td>1971</td>\n",
       "      <td>AMJAVL71</td>\n",
       "      <td>132</td>\n",
       "      <td>15</td>\n",
       "      <td>US</td>\n",
       "      <td>0.000341</td>\n",
       "      <td>7.108642</td>\n",
       "      <td>0.467613</td>\n",
       "      <td>0</td>\n",
       "      <td>1.716799</td>\n",
       "      <td>...</td>\n",
       "      <td>0.566217</td>\n",
       "      <td>0.599771</td>\n",
       "      <td>-0.546387</td>\n",
       "      <td>0.002634</td>\n",
       "      <td>0.021034</td>\n",
       "      <td>0.609213</td>\n",
       "      <td>-0.546875</td>\n",
       "      <td>-0.449818</td>\n",
       "      <td>0.400461</td>\n",
       "      <td>0.434632</td>\n",
       "    </tr>\n",
       "    <tr>\n",
       "      <th>3</th>\n",
       "      <td>1971</td>\n",
       "      <td>AMMATA71</td>\n",
       "      <td>134</td>\n",
       "      <td>15</td>\n",
       "      <td>US</td>\n",
       "      <td>0.000522</td>\n",
       "      <td>6.839506</td>\n",
       "      <td>0.426540</td>\n",
       "      <td>0</td>\n",
       "      <td>1.687871</td>\n",
       "      <td>...</td>\n",
       "      <td>0.566217</td>\n",
       "      <td>0.620544</td>\n",
       "      <td>-1.122968</td>\n",
       "      <td>0.089023</td>\n",
       "      <td>-0.090014</td>\n",
       "      <td>0.207461</td>\n",
       "      <td>-0.546875</td>\n",
       "      <td>-0.454159</td>\n",
       "      <td>0.934641</td>\n",
       "      <td>0.331099</td>\n",
       "    </tr>\n",
       "    <tr>\n",
       "      <th>4</th>\n",
       "      <td>1971</td>\n",
       "      <td>AMAMBS71</td>\n",
       "      <td>136</td>\n",
       "      <td>15</td>\n",
       "      <td>US</td>\n",
       "      <td>0.000442</td>\n",
       "      <td>8.928395</td>\n",
       "      <td>0.452489</td>\n",
       "      <td>0</td>\n",
       "      <td>1.504286</td>\n",
       "      <td>...</td>\n",
       "      <td>0.566217</td>\n",
       "      <td>0.877198</td>\n",
       "      <td>-1.258575</td>\n",
       "      <td>-0.153840</td>\n",
       "      <td>0.038013</td>\n",
       "      <td>0.385211</td>\n",
       "      <td>-0.546875</td>\n",
       "      <td>-0.728959</td>\n",
       "      <td>1.146654</td>\n",
       "      <td>0.520555</td>\n",
       "    </tr>\n",
       "  </tbody>\n",
       "</table>\n",
       "<p>5 rows × 25 columns</p>\n",
       "</div>"
      ],
      "text/plain": [
       "   market_ids clustering_ids  car_ids  firm_ids region    shares    prices  \\\n",
       "0        1971       AMGREM71      129        15     US  0.001051  4.935802   \n",
       "1        1971       AMHORN71      130        15     US  0.000670  5.516049   \n",
       "2        1971       AMJAVL71      132        15     US  0.000341  7.108642   \n",
       "3        1971       AMMATA71      134        15     US  0.000522  6.839506   \n",
       "4        1971       AMAMBS71      136        15     US  0.000442  8.928395   \n",
       "\n",
       "       hpwt  air       mpd         ...           demand_instruments2  \\\n",
       "0  0.528997    0  1.888146         ...                      0.566217   \n",
       "1  0.494324    0  1.935989         ...                      0.566217   \n",
       "2  0.467613    0  1.716799         ...                      0.566217   \n",
       "3  0.426540    0  1.687871         ...                      0.566217   \n",
       "4  0.452489    0  1.504286         ...                      0.566217   \n",
       "\n",
       "   demand_instruments3  demand_instruments4  demand_instruments5  \\\n",
       "0             0.365328             0.659480             0.141017   \n",
       "1             0.290959             0.173552             0.128205   \n",
       "2             0.599771            -0.546387             0.002634   \n",
       "3             0.620544            -1.122968             0.089023   \n",
       "4             0.877198            -1.258575            -0.153840   \n",
       "\n",
       "   supply_instruments0  supply_instruments1  supply_instruments2  \\\n",
       "0            -0.011161             1.478879            -0.546875   \n",
       "1            -0.079317             1.088327            -0.546875   \n",
       "2             0.021034             0.609213            -0.546875   \n",
       "3            -0.090014             0.207461            -0.546875   \n",
       "4             0.038013             0.385211            -0.546875   \n",
       "\n",
       "   supply_instruments3  supply_instruments4  supply_instruments5  \n",
       "0            -0.163302            -0.833091             0.301411  \n",
       "1            -0.095609            -0.390314             0.289947  \n",
       "2            -0.449818             0.400461             0.434632  \n",
       "3            -0.454159             0.934641             0.331099  \n",
       "4            -0.728959             1.146654             0.520555  \n",
       "\n",
       "[5 rows x 25 columns]"
      ]
     },
     "execution_count": 3,
     "metadata": {},
     "output_type": "execute_result"
    }
   ],
   "source": [
    "product_data = pd.read_csv(pyblp.data.BLP_PRODUCTS_LOCATION)\n",
    "product_data.head()"
   ]
  },
  {
   "cell_type": "code",
   "execution_count": 4,
   "metadata": {},
   "outputs": [
    {
     "data": {
      "text/plain": [
       "(2217, 8)"
      ]
     },
     "execution_count": 4,
     "metadata": {},
     "output_type": "execute_result"
    }
   ],
   "source": [
    "instruments = pyblp.build_differentiation_instruments(formulation, product_data)\n",
    "instruments.shape"
   ]
  }
 ],
 "metadata": {
  "kernelspec": {
   "display_name": "Python 3",
   "language": "python",
   "name": "python3"
  },
  "language_info": {
   "codemirror_mode": {
    "name": "ipython",
    "version": 3
   },
   "file_extension": ".py",
   "mimetype": "text/x-python",
   "name": "python",
   "nbconvert_exporter": "python",
   "pygments_lexer": "ipython3",
   "version": "3.6.6"
  }
 },
 "nbformat": 4,
 "nbformat_minor": 2
}
