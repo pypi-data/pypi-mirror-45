{
 "cells": [
  {
   "cell_type": "markdown",
   "metadata": {},
   "source": [
    "# Computing Fitted Values Example"
   ]
  },
  {
   "cell_type": "code",
   "execution_count": 1,
   "metadata": {},
   "outputs": [
    {
     "data": {
      "text/plain": [
       "'0.5.0'"
      ]
     },
     "execution_count": 1,
     "metadata": {},
     "output_type": "execute_result"
    }
   ],
   "source": [
    "import pyblp\n",
    "import numpy as np\n",
    "\n",
    "pyblp.__version__"
   ]
  },
  {
   "cell_type": "markdown",
   "metadata": {},
   "source": [
    "In this example, we'll load the fake cereal data from :ref:`references:Nevo (2000)` and compute the fitted values from a reduced form regression of endogenous prices onto the full set of instruments: excluded instruments and the absorbed product IDs that constitute $X_1$."
   ]
  },
  {
   "cell_type": "code",
   "execution_count": 2,
   "metadata": {},
   "outputs": [
    {
     "data": {
      "text/plain": [
       "demand_instruments0 + demand_instruments1 + demand_instruments2 + demand_instruments3 + demand_instruments4 + demand_instruments5 + demand_instruments6 + demand_instruments7 + demand_instruments8 + demand_instruments9 + demand_instruments10 + demand_instruments11 + demand_instruments12 + demand_instruments13 + demand_instruments14 + demand_instruments15 + demand_instruments16 + demand_instruments17 + demand_instruments18 + demand_instruments19 + Absorb[C(product_ids)]"
      ]
     },
     "execution_count": 2,
     "metadata": {},
     "output_type": "execute_result"
    }
   ],
   "source": [
    "instrument_formula = ' + '.join(f'demand_instruments{i}' for i in range(20))\n",
    "exogenous_formulation = pyblp.Formulation(instrument_formula, absorb='C(product_ids)')\n",
    "exogenous_formulation"
   ]
  },
  {
   "cell_type": "code",
   "execution_count": 4,
   "metadata": {},
   "outputs": [
    {
     "data": {
      "text/plain": [
       "('market_ids',\n",
       " 'city_ids',\n",
       " 'quarter',\n",
       " 'product_ids',\n",
       " 'firm_ids0',\n",
       " 'firm_ids1',\n",
       " 'brand_ids',\n",
       " 'shares',\n",
       " 'prices',\n",
       " 'sugar',\n",
       " 'mushy',\n",
       " 'demand_instruments0',\n",
       " 'demand_instruments1',\n",
       " 'demand_instruments2',\n",
       " 'demand_instruments3',\n",
       " 'demand_instruments4',\n",
       " 'demand_instruments5',\n",
       " 'demand_instruments6',\n",
       " 'demand_instruments7',\n",
       " 'demand_instruments8',\n",
       " 'demand_instruments9',\n",
       " 'demand_instruments10',\n",
       " 'demand_instruments11',\n",
       " 'demand_instruments12',\n",
       " 'demand_instruments13',\n",
       " 'demand_instruments14',\n",
       " 'demand_instruments15',\n",
       " 'demand_instruments16',\n",
       " 'demand_instruments17',\n",
       " 'demand_instruments18',\n",
       " 'demand_instruments19')"
      ]
     },
     "execution_count": 4,
     "metadata": {},
     "output_type": "execute_result"
    }
   ],
   "source": [
    "product_data = np.recfromcsv(pyblp.data.NEVO_PRODUCTS_LOCATION, encoding='utf-8')\n",
    "product_data.dtype.names"
   ]
  },
  {
   "cell_type": "code",
   "execution_count": 5,
   "metadata": {},
   "outputs": [
    {
     "data": {
      "text/plain": [
       "array([[0.07034819],\n",
       "       [0.11796604],\n",
       "       [0.13140315],\n",
       "       ...,\n",
       "       [0.13555609],\n",
       "       [0.09478951],\n",
       "       [0.1217416 ]])"
      ]
     },
     "execution_count": 5,
     "metadata": {},
     "output_type": "execute_result"
    }
   ],
   "source": [
    "expected_prices = pyblp.compute_fitted_values(product_data.prices, exogenous_formulation, product_data)\n",
    "expected_prices"
   ]
  }
 ],
 "metadata": {
  "kernelspec": {
   "display_name": "Python 3",
   "language": "python",
   "name": "python3"
  },
  "language_info": {
   "codemirror_mode": {
    "name": "ipython",
    "version": 3
   },
   "file_extension": ".py",
   "mimetype": "text/x-python",
   "name": "python",
   "nbconvert_exporter": "python",
   "pygments_lexer": "ipython3",
   "version": "3.6.6"
  }
 },
 "nbformat": 4,
 "nbformat_minor": 2
}
