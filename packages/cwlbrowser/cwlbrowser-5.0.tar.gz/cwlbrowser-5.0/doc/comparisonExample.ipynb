{
 "cells": [
  {
   "cell_type": "markdown",
   "metadata": {},
   "source": [
    "## Similarity checking \n",
    "Similarity checking on two workflows can be very useful especially when working on two versions of the same workflow. To carry out similarity checking we use the SimilarityChecker object from the similaritychecker module"
   ]
  },
  {
   "cell_type": "markdown",
   "metadata": {},
   "source": [
    "To compare two workflows we first import the `similaritychecker` module. "
   ]
  },
  {
   "cell_type": "code",
   "execution_count": 2,
   "metadata": {},
   "outputs": [],
   "source": [
    "import cwlbrowser.browser as b\n",
    "import cwlbrowser.similaritychecker as s\n"
   ]
  },
  {
   "cell_type": "markdown",
   "metadata": {},
   "source": [
    "Let us then load two workflows to compare "
   ]
  },
  {
   "cell_type": "code",
   "execution_count": 3,
   "metadata": {},
   "outputs": [],
   "source": [
    "met = b.load('https://github.com/mr-c/ebi-metagenomics-cwl/blob/master/workflows/emg-pipeline-v4-single.cwl')\n",
    "met_local = b.load('metagenomics_edited.cwl', link=False)"
   ]
  },
  {
   "cell_type": "markdown",
   "metadata": {},
   "source": [
    "We then create a `SimilarityChecker` object"
   ]
  },
  {
   "cell_type": "code",
   "execution_count": 4,
   "metadata": {},
   "outputs": [],
   "source": [
    "simchecker = s.SimilarityChecker()"
   ]
  },
  {
   "cell_type": "markdown",
   "metadata": {},
   "source": [
    "We then call the `similaritycheck` method on the two workflows"
   ]
  },
  {
   "cell_type": "code",
   "execution_count": 5,
   "metadata": {},
   "outputs": [],
   "source": [
    "simchecker.similarityCheck(met, met_local)"
   ]
  },
  {
   "cell_type": "markdown",
   "metadata": {},
   "source": [
    "We can then display the results by calling the `displayStats` method. This method displays a tabular representation of the differences and similarities of the two worfklows. Cells coloured green are similar items. Yellow cells are inputs or outputs that differ. And red cells are steps that differ. The reason for this is that the differences in inputs and outputs do not matter as compared ti differences in steps. At the bottom there is an 'Overall match' which is a measurement of the differences betweeen the workflows in a percentage. This is calculating the ratio of the differing items to all the items. The steps difference ratio has a higher weighting than the input and output difference ratio. (70% for steps and 15% for input/output)"
   ]
  },
  {
   "cell_type": "code",
   "execution_count": 6,
   "metadata": {},
   "outputs": [
    {
     "data": {
      "text/html": [
       "<table style=\"width:100%\"><caption>workflows/emg-pipeline-v4-single.cwl and metagenomics_edited.cwl inputs</caption><tr><th>workflows/emg-pipeline-v4-single.cwl</th><th>metagenomics_edited.cwl</th></tr><tr><td style=\"border: 1px solid black; background-color:limegreen\">reads</td><td style=\"border: 1px solid black; background-color:limegreen\">reads</td></tr><tr><td style=\"border: 1px solid black; background-color:limegreen\">fraggenescan_model</td><td style=\"border: 1px solid black; background-color:limegreen\">fraggenescan_model</td></tr><tr><td style=\"border: 1px solid black; background-color:limegreen\">ncRNA_ribosomal_models</td><td style=\"border: 1px solid black; background-color:limegreen\">ncRNA_ribosomal_models</td></tr><tr><td style=\"border: 1px solid black; background-color:limegreen\">ncRNA_ribosomal_model_clans</td><td style=\"border: 1px solid black; background-color:limegreen\">ncRNA_ribosomal_model_clans</td></tr><tr><td style=\"border: 1px solid black; background-color:limegreen\">ncRNA_other_models</td><td style=\"border: 1px solid black; background-color:limegreen\">ncRNA_other_models</td></tr><tr><td style=\"border: 1px solid black; background-color:limegreen\">ncRNA_other_model_clans</td><td style=\"border: 1px solid black; background-color:limegreen\">ncRNA_other_model_clans</td></tr><tr><td style=\"border: 1px solid black; background-color:limegreen\">mapseq_ref</td><td style=\"border: 1px solid black; background-color:limegreen\">mapseq_ref</td></tr><tr><td style=\"border: 1px solid black; background-color:limegreen\">mapseq_taxonomy</td><td style=\"border: 1px solid black; background-color:limegreen\">mapseq_taxonomy</td></tr><tr><td style=\"border: 1px solid black; background-color:limegreen\">mapseq_taxonomy_otu_table</td><td style=\"border: 1px solid black; background-color:limegreen\">mapseq_taxonomy_otu_table</td></tr><tr><td style=\"border: 1px solid black; background-color:limegreen\">sequencing_run_id</td><td style=\"border: 1px solid black; background-color:limegreen\">sequencing_run_id</td></tr><tr><td style=\"border: 1px solid black; background-color:limegreen\">go_summary_config</td><td style=\"border: 1px solid black; background-color:yellow\">scattered_taxonomy</td></tr><tr><td style=\"border: 1px solid black\"></td><td style=\"border: 1px solid black; background-color:limegreen\">go_summary_config</td></tr></table>"
      ],
      "text/plain": [
       "<IPython.core.display.HTML object>"
      ]
     },
     "metadata": {},
     "output_type": "display_data"
    },
    {
     "data": {
      "text/html": [
       "<table style=\"width:100%\"><caption>workflows/emg-pipeline-v4-single.cwl and metagenomics_edited.cwl outputs</caption><tr><th>workflows/emg-pipeline-v4-single.cwl</th><th>metagenomics_edited.cwl</th></tr><tr><td style=\"border: 1px solid black; background-color:limegreen\">processed_nucleotide_reads</td><td style=\"border: 1px solid black; background-color:limegreen\">processed_nucleotide_reads</td></tr><tr><td style=\"border: 1px solid black; background-color:limegreen\">SSU_sequences</td><td style=\"border: 1px solid black; background-color:limegreen\">SSU_sequences</td></tr><tr><td style=\"border: 1px solid black; background-color:limegreen\">ssu_classifications</td><td style=\"border: 1px solid black; background-color:limegreen\">ssu_classifications</td></tr><tr><td style=\"border: 1px solid black; background-color:limegreen\">LSU_sequences</td><td style=\"border: 1px solid black; background-color:limegreen\">LSU_sequences</td></tr><tr><td style=\"border: 1px solid black; background-color:limegreen\">5S_sequences</td><td style=\"border: 1px solid black; background-color:limegreen\">5S_sequences</td></tr><tr><td style=\"border: 1px solid black; background-color:limegreen\">predicted_CDS</td><td style=\"border: 1px solid black; background-color:limegreen\">predicted_CDS</td></tr><tr><td style=\"border: 1px solid black; background-color:limegreen\">functional_annotations</td><td style=\"border: 1px solid black; background-color:limegreen\">functional_annotations</td></tr><tr><td style=\"border: 1px solid black; background-color:limegreen\">go_summary</td><td style=\"border: 1px solid black; background-color:limegreen\">go_summary</td></tr><tr><td style=\"border: 1px solid black; background-color:limegreen\">go_summary_slim</td><td style=\"border: 1px solid black; background-color:limegreen\">go_summary_slim</td></tr><tr><td style=\"border: 1px solid black; background-color:limegreen\">other_ncRNAs</td><td style=\"border: 1px solid black; background-color:limegreen\">other_ncRNAs</td></tr><tr><td style=\"border: 1px solid black; background-color:limegreen\">qc_stats_summary</td><td style=\"border: 1px solid black; background-color:limegreen\">qc_stats_summary</td></tr><tr><td style=\"border: 1px solid black; background-color:limegreen\">qc_stats_seq_len_pbcbin</td><td style=\"border: 1px solid black; background-color:limegreen\">qc_stats_seq_len_pbcbin</td></tr><tr><td style=\"border: 1px solid black; background-color:limegreen\">qc_stats_seq_len_bin</td><td style=\"border: 1px solid black; background-color:limegreen\">qc_stats_seq_len_bin</td></tr><tr><td style=\"border: 1px solid black; background-color:limegreen\">qc_stats_seq_len</td><td style=\"border: 1px solid black; background-color:limegreen\">qc_stats_seq_len</td></tr><tr><td style=\"border: 1px solid black; background-color:limegreen\">qc_stats_nuc_dist</td><td style=\"border: 1px solid black; background-color:limegreen\">qc_stats_nuc_dist</td></tr><tr><td style=\"border: 1px solid black; background-color:limegreen\">qc_stats_gc_pcbin</td><td style=\"border: 1px solid black; background-color:limegreen\">qc_stats_gc_pcbin</td></tr><tr><td style=\"border: 1px solid black; background-color:limegreen\">qc_stats_gc_bin</td><td style=\"border: 1px solid black; background-color:limegreen\">qc_stats_gc_bin</td></tr><tr><td style=\"border: 1px solid black; background-color:limegreen\">qc_stats_gc</td><td style=\"border: 1px solid black; background-color:limegreen\">qc_stats_gc</td></tr><tr><td style=\"border: 1px solid black; background-color:limegreen\">match_count</td><td style=\"border: 1px solid black; background-color:limegreen\">match_count</td></tr><tr><td style=\"border: 1px solid black; background-color:limegreen\">CDS_with_match_count</td><td style=\"border: 1px solid black; background-color:yellow\">specctral_scan</td></tr><tr><td style=\"border: 1px solid black; background-color:limegreen\">reads_with_match_count</td><td style=\"border: 1px solid black; background-color:limegreen\">CDS_with_match_count</td></tr><tr><td style=\"border: 1px solid black; background-color:limegreen\">stats_reads</td><td style=\"border: 1px solid black; background-color:limegreen\">reads_with_match_count</td></tr><tr><td style=\"border: 1px solid black; background-color:limegreen\">numberReadsWithOrf</td><td style=\"border: 1px solid black; background-color:limegreen\">stats_reads</td></tr><tr><td style=\"border: 1px solid black; background-color:limegreen\">numberOrfs</td><td style=\"border: 1px solid black; background-color:limegreen\">numberReadsWithOrf</td></tr><tr><td style=\"border: 1px solid black; background-color:limegreen\">readsWithOrf</td><td style=\"border: 1px solid black; background-color:limegreen\">numberOrfs</td></tr><tr><td style=\"border: 1px solid black; background-color:limegreen\">interproscan</td><td style=\"border: 1px solid black; background-color:limegreen\">readsWithOrf</td></tr><tr><td style=\"border: 1px solid black; background-color:limegreen\">no_functions_seqs</td><td style=\"border: 1px solid black; background-color:limegreen\">interproscan</td></tr><tr><td style=\"border: 1px solid black; background-color:limegreen\">pCDS_seqs</td><td style=\"border: 1px solid black; background-color:limegreen\">no_functions_seqs</td></tr><tr><td style=\"border: 1px solid black\"></td><td style=\"border: 1px solid black; background-color:limegreen\">pCDS_seqs</td></tr></table>"
      ],
      "text/plain": [
       "<IPython.core.display.HTML object>"
      ]
     },
     "metadata": {},
     "output_type": "display_data"
    },
    {
     "data": {
      "text/html": [
       "<table style=\"width:100%\"><caption>workflows/emg-pipeline-v4-single.cwl and metagenomics_edited.cwl steps</caption><tr><th>workflows/emg-pipeline-v4-single.cwl</th><th>metagenomics_edited.cwl</th></tr><tr><td style=\"border: 1px solid black; background-color:limegreen\">trim_and_reformat_reads</td><td style=\"border: 1px solid black; background-color:limegreen\">trim_and_reformat_reads</td></tr><tr><td style=\"border: 1px solid black; background-color:limegreen\">unified_processing</td><td style=\"border: 1px solid black; background-color:red\">sort</td></tr><tr><td style=\"border: 1px solid black\"></td><td style=\"border: 1px solid black; background-color:red\">trim_and_specify_reads</td></tr><tr><td style=\"border: 1px solid black\"></td><td style=\"border: 1px solid black; background-color:limegreen\">unified_processing</td></tr></table>"
      ],
      "text/plain": [
       "<IPython.core.display.HTML object>"
      ]
     },
     "metadata": {},
     "output_type": "display_data"
    },
    {
     "name": "stdout",
     "output_type": "stream",
     "text": [
      "Overall match: 63.23275862068966\n"
     ]
    }
   ],
   "source": [
    "b.displayStats(simchecker)"
   ]
  }
 ],
 "metadata": {
  "kernelspec": {
   "display_name": "Python 3",
   "language": "python",
   "name": "python3"
  },
  "language_info": {
   "codemirror_mode": {
    "name": "ipython",
    "version": 3
   },
   "file_extension": ".py",
   "mimetype": "text/x-python",
   "name": "python",
   "nbconvert_exporter": "python",
   "pygments_lexer": "ipython3",
   "version": "3.7.0"
  }
 },
 "nbformat": 4,
 "nbformat_minor": 2
}
