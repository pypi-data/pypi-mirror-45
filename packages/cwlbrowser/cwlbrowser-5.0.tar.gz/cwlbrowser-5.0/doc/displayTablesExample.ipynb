{
 "cells": [
  {
   "cell_type": "markdown",
   "metadata": {},
   "source": [
    "## Displaying Tables\n",
    "A tabular view of the workflow's attributes can be viewed using the fucntion `displayTables(workflow, attr)`. `workflow` is the `Workflow` object and `attr` is the attribute of the workflow you want to view ('steps', 'inputs', 'outputs')"
   ]
  },
  {
   "cell_type": "markdown",
   "metadata": {},
   "source": [
    "First load the workflow with `load(workflow)`. Here we are loading with a link"
   ]
  },
  {
   "cell_type": "code",
   "execution_count": 1,
   "metadata": {
    "scrolled": false
   },
   "outputs": [],
   "source": [
    "import cwlbrowser.browser as b \n",
    "link = 'https://github.com/EBI-Metagenomics/ebi-metagenomics-cwl/blob/5833078/workflows/functional_analysis.cwl'\n",
    "stellaris = b.load(link)\n"
   ]
  },
  {
   "cell_type": "markdown",
   "metadata": {},
   "source": [
    "We then call the function `displayTables` passing the reference to the object and the attribute that we would like to tabulate. By default, the attr is set to 'All' to display all the attributes. Here we are only displaying the steps of the workflow."
   ]
  },
  {
   "cell_type": "code",
   "execution_count": 2,
   "metadata": {},
   "outputs": [
    {
     "name": "stdout",
     "output_type": "stream",
     "text": [
      "\n"
     ]
    },
    {
     "data": {
      "text/html": [
       "<html><body><table style=\"width:100%;border: 1px solid black\"><caption>\n",
       " workflows/functional_analysis.cwl STEPS:</caption><tr><th style= \"border: 1px solid black\">Name</th><th style= \"border: 1px solid black\">Run</th></tr><tr style= \"border: 1px solid black\"><td style= \"border: 1px solid black\">remove_asterisks_and_reformat</td><td style= \"border: 1px solid black\">../tools/esl-reformat.cwl</td></tr><tr style= \"border: 1px solid black\"><td style= \"border: 1px solid black\">chunk_inputs</td><td style= \"border: 1px solid black\">../tools/fasta_chunker.cwl</td></tr><tr style= \"border: 1px solid black\"><td style= \"border: 1px solid black\">functional_analysis</td><td style= \"border: 1px solid black\">../tools/InterProScan5.21-60.cwl</td></tr><tr style= \"border: 1px solid black\"><td style= \"border: 1px solid black\">combine_annotations</td><td style= \"border: 1px solid black\">../tools/concatenate.cwl</td></tr><tr style= \"border: 1px solid black\"><td style= \"border: 1px solid black\">summarize_with_GO</td><td style= \"border: 1px solid black\">../tools/go_summary.cwl</td></tr></table></body></html>"
      ],
      "text/plain": [
       "<IPython.core.display.HTML object>"
      ]
     },
     "metadata": {},
     "output_type": "display_data"
    }
   ],
   "source": [
    "b.displayTables(stellaris, attr='steps')"
   ]
  }
 ],
 "metadata": {
  "kernelspec": {
   "display_name": "Python 3",
   "language": "python",
   "name": "python3"
  },
  "language_info": {
   "codemirror_mode": {
    "name": "ipython",
    "version": 3
   },
   "file_extension": ".py",
   "mimetype": "text/x-python",
   "name": "python",
   "nbconvert_exporter": "python",
   "pygments_lexer": "ipython3",
   "version": "3.7.0"
  }
 },
 "nbformat": 4,
 "nbformat_minor": 2
}
