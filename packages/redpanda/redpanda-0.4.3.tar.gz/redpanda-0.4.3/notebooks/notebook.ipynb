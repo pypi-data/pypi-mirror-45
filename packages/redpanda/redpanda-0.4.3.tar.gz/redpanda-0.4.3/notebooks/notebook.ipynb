{
 "cells": [
  {
   "cell_type": "markdown",
   "metadata": {},
   "source": [
    "# RedPanda Examples"
   ]
  },
  {
   "cell_type": "code",
   "execution_count": 1,
   "metadata": {},
   "outputs": [
    {
     "name": "stdout",
     "output_type": "stream",
     "text": [
      "RedPanda version: 0.3.1\n",
      "Pandas version: 0.20.3\n",
      "Python version: 3.6.1 (default, May  2 2017, 15:16:41) \n",
      "[GCC 6.3.0]\n"
     ]
    }
   ],
   "source": [
    "import pandas, redpanda, sqlalchemy, sys\n",
    "print(\"RedPanda version:\", redpanda.__version__)\n",
    "print(\"Pandas version:\", pandas.__version__)\n",
    "print(\"Python version:\", sys.version)"
   ]
  },
  {
   "cell_type": "markdown",
   "metadata": {},
   "source": [
    "## Opening a session\n",
    "\n",
    "Open a `RedPanda` session to begin exploring data:"
   ]
  },
  {
   "cell_type": "code",
   "execution_count": 2,
   "metadata": {},
   "outputs": [],
   "source": [
    "engine = redpanda.create_engine(\"sqlite://\")\n",
    "Session = redpanda.orm.sessionmaker(bind=engine)\n",
    "session = Session()"
   ]
  },
  {
   "cell_type": "markdown",
   "metadata": {},
   "source": [
    "Note that this is syntactic sugar for SQLAlchemy calls:"
   ]
  },
  {
   "cell_type": "code",
   "execution_count": 3,
   "metadata": {},
   "outputs": [],
   "source": [
    "engine = sqlalchemy.create_engine(\"sqlite://\")\n",
    "sessionmaker = sqlalchemy.orm.sessionmaker(class_=redpanda.orm.Session,\n",
    "                                           query_cls=redpanda.orm.Query)\n",
    "session = sessionmaker(bind=engine)"
   ]
  },
  {
   "cell_type": "markdown",
   "metadata": {},
   "source": [
    "## Creating An Example Model\n",
    "\n",
    "Define your models using the declarative API. `RedPanda` defines one such model in the `example` module:"
   ]
  },
  {
   "cell_type": "code",
   "execution_count": 4,
   "metadata": {},
   "outputs": [],
   "source": [
    "import sqlalchemy.ext.declarative\n",
    "Base = sqlalchemy.ext.declarative.declarative_base()\n",
    "class Widget(Base):\n",
    "    id        = sqlalchemy.Column(sqlalchemy.Integer, primary_key=True)\n",
    "    timestamp = sqlalchemy.Column(sqlalchemy.DateTime)\n",
    "    name      = sqlalchemy.Column(sqlalchemy.String)\n",
    "    kind      = sqlalchemy.Column(sqlalchemy.String)\n",
    "    units     = sqlalchemy.Column(sqlalchemy.Integer)\n",
    "\n",
    "    __read_sql__  = {\"index_col\": [\"timestamp\"], \"parse_dates\": [\"timestamp\"]}\n",
    "    __tablename__ = \"widgets\""
   ]
  },
  {
   "cell_type": "markdown",
   "metadata": {},
   "source": [
    "Defining the class attribute `__read_sql__` will configure default arguments passed to `pandas.read_sql()`. \n",
    "\n",
    "In this case we are configuring the `widgets` table to use the `timestamp` column as an index and that we wish for `pandas` to parse this column as a `datetime` object."
   ]
  },
  {
   "cell_type": "code",
   "execution_count": 5,
   "metadata": {},
   "outputs": [],
   "source": [
    "from redpanda.example import create_widgets\n",
    "create_widgets(session)"
   ]
  },
  {
   "cell_type": "markdown",
   "metadata": {},
   "source": [
    "## Querying Data\n",
    "\n",
    "Use the `frame()` method of a query to return the results as a `DataFrame`:"
   ]
  },
  {
   "cell_type": "code",
   "execution_count": 6,
   "metadata": {},
   "outputs": [
    {
     "data": {
      "text/html": [
       "<div>\n",
       "<style>\n",
       "    .dataframe thead tr:only-child th {\n",
       "        text-align: right;\n",
       "    }\n",
       "\n",
       "    .dataframe thead th {\n",
       "        text-align: left;\n",
       "    }\n",
       "\n",
       "    .dataframe tbody tr th {\n",
       "        vertical-align: top;\n",
       "    }\n",
       "</style>\n",
       "<table border=\"1\" class=\"dataframe\">\n",
       "  <thead>\n",
       "    <tr style=\"text-align: right;\">\n",
       "      <th></th>\n",
       "      <th>id</th>\n",
       "      <th>name</th>\n",
       "      <th>kind</th>\n",
       "      <th>units</th>\n",
       "    </tr>\n",
       "    <tr>\n",
       "      <th>timestamp</th>\n",
       "      <th></th>\n",
       "      <th></th>\n",
       "      <th></th>\n",
       "      <th></th>\n",
       "    </tr>\n",
       "  </thead>\n",
       "  <tbody>\n",
       "    <tr>\n",
       "      <th>2016-01-01 13:05:00</th>\n",
       "      <td>1</td>\n",
       "      <td>compromises</td>\n",
       "      <td>bopper</td>\n",
       "      <td>64</td>\n",
       "    </tr>\n",
       "    <tr>\n",
       "      <th>2016-01-02 21:23:00</th>\n",
       "      <td>2</td>\n",
       "      <td>tap</td>\n",
       "      <td>fizzer</td>\n",
       "      <td>82</td>\n",
       "    </tr>\n",
       "    <tr>\n",
       "      <th>2016-01-15 23:21:00</th>\n",
       "      <td>3</td>\n",
       "      <td>points</td>\n",
       "      <td>buzzer</td>\n",
       "      <td>62</td>\n",
       "    </tr>\n",
       "    <tr>\n",
       "      <th>2016-01-24 01:35:00</th>\n",
       "      <td>4</td>\n",
       "      <td>relocations</td>\n",
       "      <td>bopper</td>\n",
       "      <td>70</td>\n",
       "    </tr>\n",
       "    <tr>\n",
       "      <th>2016-01-27 04:17:00</th>\n",
       "      <td>5</td>\n",
       "      <td>keel</td>\n",
       "      <td>fizzer</td>\n",
       "      <td>90</td>\n",
       "    </tr>\n",
       "  </tbody>\n",
       "</table>\n",
       "</div>"
      ],
      "text/plain": [
       "                     id         name    kind  units\n",
       "timestamp                                          \n",
       "2016-01-01 13:05:00   1  compromises  bopper     64\n",
       "2016-01-02 21:23:00   2          tap  fizzer     82\n",
       "2016-01-15 23:21:00   3       points  buzzer     62\n",
       "2016-01-24 01:35:00   4  relocations  bopper     70\n",
       "2016-01-27 04:17:00   5         keel  fizzer     90"
      ]
     },
     "execution_count": 6,
     "metadata": {},
     "output_type": "execute_result"
    }
   ],
   "source": [
    "session.query(Widget).frame().head()"
   ]
  },
  {
   "cell_type": "markdown",
   "metadata": {},
   "source": [
    "### Querying with Filters\n",
    "\n",
    "Use SQLAlchemy filters to refine the query:"
   ]
  },
  {
   "cell_type": "code",
   "execution_count": 7,
   "metadata": {},
   "outputs": [
    {
     "data": {
      "text/html": [
       "<div>\n",
       "<style>\n",
       "    .dataframe thead tr:only-child th {\n",
       "        text-align: right;\n",
       "    }\n",
       "\n",
       "    .dataframe thead th {\n",
       "        text-align: left;\n",
       "    }\n",
       "\n",
       "    .dataframe tbody tr th {\n",
       "        vertical-align: top;\n",
       "    }\n",
       "</style>\n",
       "<table border=\"1\" class=\"dataframe\">\n",
       "  <thead>\n",
       "    <tr style=\"text-align: right;\">\n",
       "      <th></th>\n",
       "      <th>id</th>\n",
       "      <th>name</th>\n",
       "      <th>kind</th>\n",
       "      <th>units</th>\n",
       "    </tr>\n",
       "    <tr>\n",
       "      <th>timestamp</th>\n",
       "      <th></th>\n",
       "      <th></th>\n",
       "      <th></th>\n",
       "      <th></th>\n",
       "    </tr>\n",
       "  </thead>\n",
       "  <tbody>\n",
       "    <tr>\n",
       "      <th>2016-11-02 09:07:00</th>\n",
       "      <td>61</td>\n",
       "      <td>artilleries</td>\n",
       "      <td>buzzer</td>\n",
       "      <td>44</td>\n",
       "    </tr>\n",
       "    <tr>\n",
       "      <th>2016-11-08 16:32:00</th>\n",
       "      <td>62</td>\n",
       "      <td>users</td>\n",
       "      <td>fizzer</td>\n",
       "      <td>36</td>\n",
       "    </tr>\n",
       "    <tr>\n",
       "      <th>2016-11-09 10:08:00</th>\n",
       "      <td>63</td>\n",
       "      <td>carloads</td>\n",
       "      <td>buzzer</td>\n",
       "      <td>29</td>\n",
       "    </tr>\n",
       "    <tr>\n",
       "      <th>2016-11-10 07:41:00</th>\n",
       "      <td>64</td>\n",
       "      <td>vine</td>\n",
       "      <td>buzzer</td>\n",
       "      <td>54</td>\n",
       "    </tr>\n",
       "    <tr>\n",
       "      <th>2016-11-11 07:33:00</th>\n",
       "      <td>65</td>\n",
       "      <td>crosses</td>\n",
       "      <td>fizzer</td>\n",
       "      <td>4</td>\n",
       "    </tr>\n",
       "    <tr>\n",
       "      <th>2016-11-12 19:53:00</th>\n",
       "      <td>66</td>\n",
       "      <td>concerns</td>\n",
       "      <td>buzzer</td>\n",
       "      <td>90</td>\n",
       "    </tr>\n",
       "    <tr>\n",
       "      <th>2016-11-14 02:15:00</th>\n",
       "      <td>67</td>\n",
       "      <td>gum</td>\n",
       "      <td>bopper</td>\n",
       "      <td>44</td>\n",
       "    </tr>\n",
       "    <tr>\n",
       "      <th>2016-11-22 17:07:00</th>\n",
       "      <td>68</td>\n",
       "      <td>instruments</td>\n",
       "      <td>bopper</td>\n",
       "      <td>99</td>\n",
       "    </tr>\n",
       "    <tr>\n",
       "      <th>2016-11-28 20:44:00</th>\n",
       "      <td>69</td>\n",
       "      <td>rescuers</td>\n",
       "      <td>buzzer</td>\n",
       "      <td>34</td>\n",
       "    </tr>\n",
       "  </tbody>\n",
       "</table>\n",
       "</div>"
      ],
      "text/plain": [
       "                     id         name    kind  units\n",
       "timestamp                                          \n",
       "2016-11-02 09:07:00  61  artilleries  buzzer     44\n",
       "2016-11-08 16:32:00  62        users  fizzer     36\n",
       "2016-11-09 10:08:00  63     carloads  buzzer     29\n",
       "2016-11-10 07:41:00  64         vine  buzzer     54\n",
       "2016-11-11 07:33:00  65      crosses  fizzer      4\n",
       "2016-11-12 19:53:00  66     concerns  buzzer     90\n",
       "2016-11-14 02:15:00  67          gum  bopper     44\n",
       "2016-11-22 17:07:00  68  instruments  bopper     99\n",
       "2016-11-28 20:44:00  69     rescuers  buzzer     34"
      ]
     },
     "execution_count": 7,
     "metadata": {},
     "output_type": "execute_result"
    }
   ],
   "source": [
    "session.query(Widget).filter(Widget.timestamp.between(\"2016-11-01\", \"2016-11-30\")).frame()"
   ]
  },
  {
   "cell_type": "markdown",
   "metadata": {},
   "source": [
    "Alternatively, use the `within()` method to query an instrumented attribute with a pandas index:"
   ]
  },
  {
   "cell_type": "code",
   "execution_count": 8,
   "metadata": {},
   "outputs": [
    {
     "data": {
      "text/html": [
       "<div>\n",
       "<style>\n",
       "    .dataframe thead tr:only-child th {\n",
       "        text-align: right;\n",
       "    }\n",
       "\n",
       "    .dataframe thead th {\n",
       "        text-align: left;\n",
       "    }\n",
       "\n",
       "    .dataframe tbody tr th {\n",
       "        vertical-align: top;\n",
       "    }\n",
       "</style>\n",
       "<table border=\"1\" class=\"dataframe\">\n",
       "  <thead>\n",
       "    <tr style=\"text-align: right;\">\n",
       "      <th></th>\n",
       "      <th>id</th>\n",
       "      <th>name</th>\n",
       "      <th>kind</th>\n",
       "      <th>units</th>\n",
       "    </tr>\n",
       "    <tr>\n",
       "      <th>timestamp</th>\n",
       "      <th></th>\n",
       "      <th></th>\n",
       "      <th></th>\n",
       "      <th></th>\n",
       "    </tr>\n",
       "  </thead>\n",
       "  <tbody>\n",
       "    <tr>\n",
       "      <th>2016-10-31 19:30:00</th>\n",
       "      <td>60</td>\n",
       "      <td>acceptor</td>\n",
       "      <td>fizzer</td>\n",
       "      <td>39</td>\n",
       "    </tr>\n",
       "    <tr>\n",
       "      <th>2016-11-02 09:07:00</th>\n",
       "      <td>61</td>\n",
       "      <td>artilleries</td>\n",
       "      <td>buzzer</td>\n",
       "      <td>44</td>\n",
       "    </tr>\n",
       "    <tr>\n",
       "      <th>2016-11-08 16:32:00</th>\n",
       "      <td>62</td>\n",
       "      <td>users</td>\n",
       "      <td>fizzer</td>\n",
       "      <td>36</td>\n",
       "    </tr>\n",
       "    <tr>\n",
       "      <th>2016-11-09 10:08:00</th>\n",
       "      <td>63</td>\n",
       "      <td>carloads</td>\n",
       "      <td>buzzer</td>\n",
       "      <td>29</td>\n",
       "    </tr>\n",
       "    <tr>\n",
       "      <th>2016-11-10 07:41:00</th>\n",
       "      <td>64</td>\n",
       "      <td>vine</td>\n",
       "      <td>buzzer</td>\n",
       "      <td>54</td>\n",
       "    </tr>\n",
       "    <tr>\n",
       "      <th>2016-11-11 07:33:00</th>\n",
       "      <td>65</td>\n",
       "      <td>crosses</td>\n",
       "      <td>fizzer</td>\n",
       "      <td>4</td>\n",
       "    </tr>\n",
       "    <tr>\n",
       "      <th>2016-11-12 19:53:00</th>\n",
       "      <td>66</td>\n",
       "      <td>concerns</td>\n",
       "      <td>buzzer</td>\n",
       "      <td>90</td>\n",
       "    </tr>\n",
       "    <tr>\n",
       "      <th>2016-11-14 02:15:00</th>\n",
       "      <td>67</td>\n",
       "      <td>gum</td>\n",
       "      <td>bopper</td>\n",
       "      <td>44</td>\n",
       "    </tr>\n",
       "    <tr>\n",
       "      <th>2016-11-22 17:07:00</th>\n",
       "      <td>68</td>\n",
       "      <td>instruments</td>\n",
       "      <td>bopper</td>\n",
       "      <td>99</td>\n",
       "    </tr>\n",
       "    <tr>\n",
       "      <th>2016-11-28 20:44:00</th>\n",
       "      <td>69</td>\n",
       "      <td>rescuers</td>\n",
       "      <td>buzzer</td>\n",
       "      <td>34</td>\n",
       "    </tr>\n",
       "    <tr>\n",
       "      <th>2016-12-04 03:17:00</th>\n",
       "      <td>70</td>\n",
       "      <td>interruptions</td>\n",
       "      <td>buzzer</td>\n",
       "      <td>31</td>\n",
       "    </tr>\n",
       "  </tbody>\n",
       "</table>\n",
       "</div>"
      ],
      "text/plain": [
       "                     id           name    kind  units\n",
       "timestamp                                            \n",
       "2016-10-31 19:30:00  60       acceptor  fizzer     39\n",
       "2016-11-02 09:07:00  61    artilleries  buzzer     44\n",
       "2016-11-08 16:32:00  62          users  fizzer     36\n",
       "2016-11-09 10:08:00  63       carloads  buzzer     29\n",
       "2016-11-10 07:41:00  64           vine  buzzer     54\n",
       "2016-11-11 07:33:00  65        crosses  fizzer      4\n",
       "2016-11-12 19:53:00  66       concerns  buzzer     90\n",
       "2016-11-14 02:15:00  67            gum  bopper     44\n",
       "2016-11-22 17:07:00  68    instruments  bopper     99\n",
       "2016-11-28 20:44:00  69       rescuers  buzzer     34\n",
       "2016-12-04 03:17:00  70  interruptions  buzzer     31"
      ]
     },
     "execution_count": 8,
     "metadata": {},
     "output_type": "execute_result"
    }
   ],
   "source": [
    "index = pandas.period_range(\"2016-11-01\", \"2016-11-30\", freq=\"W\")\n",
    "session.query(Widget).filter(Widget.timestamp.within(index)).frame()"
   ]
  },
  {
   "cell_type": "markdown",
   "metadata": {},
   "source": [
    "### Overriding Defaults\n",
    "\n",
    "Pass arguments to `pandas.read_sql()` into the `frame()` method:"
   ]
  },
  {
   "cell_type": "code",
   "execution_count": 9,
   "metadata": {},
   "outputs": [
    {
     "data": {
      "text/html": [
       "<div>\n",
       "<style>\n",
       "    .dataframe thead tr:only-child th {\n",
       "        text-align: right;\n",
       "    }\n",
       "\n",
       "    .dataframe thead th {\n",
       "        text-align: left;\n",
       "    }\n",
       "\n",
       "    .dataframe tbody tr th {\n",
       "        vertical-align: top;\n",
       "    }\n",
       "</style>\n",
       "<table border=\"1\" class=\"dataframe\">\n",
       "  <thead>\n",
       "    <tr style=\"text-align: right;\">\n",
       "      <th></th>\n",
       "      <th>timestamp</th>\n",
       "      <th>name</th>\n",
       "      <th>kind</th>\n",
       "      <th>units</th>\n",
       "    </tr>\n",
       "    <tr>\n",
       "      <th>id</th>\n",
       "      <th></th>\n",
       "      <th></th>\n",
       "      <th></th>\n",
       "      <th></th>\n",
       "    </tr>\n",
       "  </thead>\n",
       "  <tbody>\n",
       "    <tr>\n",
       "      <th>1</th>\n",
       "      <td>2016-01-01 13:05:00</td>\n",
       "      <td>compromises</td>\n",
       "      <td>bopper</td>\n",
       "      <td>64</td>\n",
       "    </tr>\n",
       "    <tr>\n",
       "      <th>2</th>\n",
       "      <td>2016-01-02 21:23:00</td>\n",
       "      <td>tap</td>\n",
       "      <td>fizzer</td>\n",
       "      <td>82</td>\n",
       "    </tr>\n",
       "    <tr>\n",
       "      <th>3</th>\n",
       "      <td>2016-01-15 23:21:00</td>\n",
       "      <td>points</td>\n",
       "      <td>buzzer</td>\n",
       "      <td>62</td>\n",
       "    </tr>\n",
       "    <tr>\n",
       "      <th>4</th>\n",
       "      <td>2016-01-24 01:35:00</td>\n",
       "      <td>relocations</td>\n",
       "      <td>bopper</td>\n",
       "      <td>70</td>\n",
       "    </tr>\n",
       "    <tr>\n",
       "      <th>5</th>\n",
       "      <td>2016-01-27 04:17:00</td>\n",
       "      <td>keel</td>\n",
       "      <td>fizzer</td>\n",
       "      <td>90</td>\n",
       "    </tr>\n",
       "  </tbody>\n",
       "</table>\n",
       "</div>"
      ],
      "text/plain": [
       "             timestamp         name    kind  units\n",
       "id                                                \n",
       "1  2016-01-01 13:05:00  compromises  bopper     64\n",
       "2  2016-01-02 21:23:00          tap  fizzer     82\n",
       "3  2016-01-15 23:21:00       points  buzzer     62\n",
       "4  2016-01-24 01:35:00  relocations  bopper     70\n",
       "5  2016-01-27 04:17:00         keel  fizzer     90"
      ]
     },
     "execution_count": 9,
     "metadata": {},
     "output_type": "execute_result"
    }
   ],
   "source": [
    "session.query(Widget).frame(index_col=\"id\").head()"
   ]
  },
  {
   "cell_type": "markdown",
   "metadata": {},
   "source": [
    "## Writing DataFrame to Session\n",
    "\n",
    "Use the `add_dataframe()` method of the `RedPanda` session to place `DataFrame` rows into the session as models:"
   ]
  },
  {
   "cell_type": "code",
   "execution_count": 10,
   "metadata": {},
   "outputs": [
    {
     "data": {
      "text/html": [
       "<div>\n",
       "<style>\n",
       "    .dataframe thead tr:only-child th {\n",
       "        text-align: right;\n",
       "    }\n",
       "\n",
       "    .dataframe thead th {\n",
       "        text-align: left;\n",
       "    }\n",
       "\n",
       "    .dataframe tbody tr th {\n",
       "        vertical-align: top;\n",
       "    }\n",
       "</style>\n",
       "<table border=\"1\" class=\"dataframe\">\n",
       "  <thead>\n",
       "    <tr style=\"text-align: right;\">\n",
       "      <th></th>\n",
       "      <th>kind</th>\n",
       "      <th>name</th>\n",
       "      <th>timestamp</th>\n",
       "      <th>units</th>\n",
       "    </tr>\n",
       "  </thead>\n",
       "  <tbody>\n",
       "    <tr>\n",
       "      <th>0</th>\n",
       "      <td>newkind</td>\n",
       "      <td>newname</td>\n",
       "      <td>2017-08-31 15:38:27.635330</td>\n",
       "      <td>1000</td>\n",
       "    </tr>\n",
       "  </tbody>\n",
       "</table>\n",
       "</div>"
      ],
      "text/plain": [
       "      kind     name                  timestamp  units\n",
       "0  newkind  newname 2017-08-31 15:38:27.635330   1000"
      ]
     },
     "execution_count": 10,
     "metadata": {},
     "output_type": "execute_result"
    }
   ],
   "source": [
    "from datetime import datetime\n",
    "dfdata = {\n",
    "    \"kind\": \"newkind\", \n",
    "    \"name\": \"newname\", \n",
    "    \"units\": 1000, \n",
    "    \"timestamp\": datetime.utcnow()}\n",
    "addme = pandas.DataFrame(dfdata, index=[0])\n",
    "addme"
   ]
  },
  {
   "cell_type": "code",
   "execution_count": 11,
   "metadata": {},
   "outputs": [
    {
     "data": {
      "text/html": [
       "<div>\n",
       "<style>\n",
       "    .dataframe thead tr:only-child th {\n",
       "        text-align: right;\n",
       "    }\n",
       "\n",
       "    .dataframe thead th {\n",
       "        text-align: left;\n",
       "    }\n",
       "\n",
       "    .dataframe tbody tr th {\n",
       "        vertical-align: top;\n",
       "    }\n",
       "</style>\n",
       "<table border=\"1\" class=\"dataframe\">\n",
       "  <thead>\n",
       "    <tr style=\"text-align: right;\">\n",
       "      <th></th>\n",
       "      <th>id</th>\n",
       "      <th>name</th>\n",
       "      <th>kind</th>\n",
       "      <th>units</th>\n",
       "    </tr>\n",
       "    <tr>\n",
       "      <th>timestamp</th>\n",
       "      <th></th>\n",
       "      <th></th>\n",
       "      <th></th>\n",
       "      <th></th>\n",
       "    </tr>\n",
       "  </thead>\n",
       "  <tbody>\n",
       "    <tr>\n",
       "      <th>2017-08-31 15:38:27.635330</th>\n",
       "      <td>76</td>\n",
       "      <td>newname</td>\n",
       "      <td>newkind</td>\n",
       "      <td>1000</td>\n",
       "    </tr>\n",
       "  </tbody>\n",
       "</table>\n",
       "</div>"
      ],
      "text/plain": [
       "                            id     name     kind  units\n",
       "timestamp                                              \n",
       "2017-08-31 15:38:27.635330  76  newname  newkind   1000"
      ]
     },
     "execution_count": 11,
     "metadata": {},
     "output_type": "execute_result"
    }
   ],
   "source": [
    "session.add_dataframe(Widget, addme)\n",
    "session.commit()\n",
    "session.query(Widget).filter(Widget.kind==\"newkind\").frame()"
   ]
  },
  {
   "cell_type": "code",
   "execution_count": null,
   "metadata": {
    "collapsed": true
   },
   "outputs": [],
   "source": []
  }
 ],
 "metadata": {
  "kernelspec": {
   "display_name": "Python 3",
   "language": "python",
   "name": "python3"
  },
  "language_info": {
   "codemirror_mode": {
    "name": "ipython",
    "version": 3
   },
   "file_extension": ".py",
   "mimetype": "text/x-python",
   "name": "python",
   "nbconvert_exporter": "python",
   "pygments_lexer": "ipython3",
   "version": "3.6.1"
  }
 },
 "nbformat": 4,
 "nbformat_minor": 1
}
