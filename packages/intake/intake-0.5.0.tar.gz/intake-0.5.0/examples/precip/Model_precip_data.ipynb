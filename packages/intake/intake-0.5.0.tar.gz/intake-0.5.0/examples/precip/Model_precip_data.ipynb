{
 "cells": [
  {
   "cell_type": "code",
   "execution_count": null,
   "metadata": {},
   "outputs": [],
   "source": [
    "import intake\n",
    "import hvplot.intake\n",
    "\n",
    "intake.output_notebook()"
   ]
  },
  {
   "cell_type": "code",
   "execution_count": null,
   "metadata": {},
   "outputs": [],
   "source": [
    "cat = intake.Catalog('catalog.yml')\n",
    "southern_rockies = cat.southern_rockies\n",
    "southern_rockies.describe()['description']"
   ]
  },
  {
   "cell_type": "code",
   "execution_count": null,
   "metadata": {},
   "outputs": [],
   "source": [
    "df = southern_rockies.read()\n",
    "df.sample(5)"
   ]
  },
  {
   "cell_type": "code",
   "execution_count": null,
   "metadata": {},
   "outputs": [],
   "source": [
    "southern_rockies.hvplot(groupby=['emissions', 'model'])"
   ]
  },
  {
   "cell_type": "code",
   "execution_count": null,
   "metadata": {},
   "outputs": [],
   "source": [
    "southern_rockies.hvplot(by=['emissions', 'model']).options(legend_position='right')"
   ]
  },
  {
   "cell_type": "code",
   "execution_count": null,
   "metadata": {},
   "outputs": [],
   "source": [
    "from datetime import datetime\n",
    "import pandas as pd\n",
    "import holoviews as hv\n",
    "\n",
    "today_line = hv.VLine(datetime.today()).options(color='black')\n",
    "today_text = hv.Text(datetime.today(), 3.5, 'Today', halign='left').options(color='black')"
   ]
  },
  {
   "cell_type": "code",
   "execution_count": null,
   "metadata": {},
   "outputs": [],
   "source": [
    "southern_rockies.hvplot(groupby='model', by='emissions') * today_line * today_text"
   ]
  },
  {
   "cell_type": "code",
   "execution_count": null,
   "metadata": {},
   "outputs": [],
   "source": [
    "southern_rockies.hvplot(groupby='emissions', \n",
    "                        by='model', \n",
    "                        ylim=(0,6), \n",
    "                        xlim=(pd.Timestamp('2015'), pd.Timestamp('2025'))) * today_line * today_text"
   ]
  }
 ],
 "metadata": {
  "kernelspec": {
   "display_name": "Python 3",
   "language": "python",
   "name": "python3"
  },
  "language_info": {
   "codemirror_mode": {
    "name": "ipython",
    "version": 3
   },
   "file_extension": ".py",
   "mimetype": "text/x-python",
   "name": "python",
   "nbconvert_exporter": "python",
   "pygments_lexer": "ipython3",
   "version": "3.6.6"
  }
 },
 "nbformat": 4,
 "nbformat_minor": 2
}
