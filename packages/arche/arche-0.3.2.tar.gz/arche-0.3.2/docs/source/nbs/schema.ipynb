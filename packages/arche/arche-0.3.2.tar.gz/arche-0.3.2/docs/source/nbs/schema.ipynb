{
 "cells": [
  {
   "cell_type": "markdown",
   "metadata": {},
   "source": [
    "# Schema"
   ]
  },
  {
   "cell_type": "code",
   "execution_count": 1,
   "metadata": {},
   "outputs": [],
   "source": [
    "%cd -q ../../../src"
   ]
  },
  {
   "cell_type": "code",
   "execution_count": 2,
   "metadata": {},
   "outputs": [
    {
     "data": {
      "text/html": [
       "        <script type=\"text/javascript\">\n",
       "        window.PlotlyConfig = {MathJaxConfig: 'local'};\n",
       "        if (window.MathJax) {MathJax.Hub.Config({SVG: {font: \"STIX-Web\"}});}\n",
       "        if (typeof require !== 'undefined') {\n",
       "        require.undef(\"plotly\");\n",
       "        requirejs.config({\n",
       "            paths: {\n",
       "                'plotly': ['https://cdn.plot.ly/plotly-latest.min']\n",
       "            }\n",
       "        });\n",
       "        require(['plotly'], function(Plotly) {\n",
       "            window._Plotly = Plotly;\n",
       "        });\n",
       "        }\n",
       "        </script>\n",
       "        "
      ]
     },
     "metadata": {},
     "output_type": "display_data"
    },
    {
     "data": {
      "text/html": [
       "<script src='https://cdn.plot.ly/plotly-latest.min.js'></script>"
      ],
      "text/plain": [
       "<IPython.core.display.HTML object>"
      ]
     },
     "metadata": {},
     "output_type": "display_data"
    }
   ],
   "source": [
    "import arche\n",
    "from arche import *"
   ]
  },
  {
   "cell_type": "markdown",
   "metadata": {},
   "source": [
    "## Creating schema"
   ]
  },
  {
   "cell_type": "markdown",
   "metadata": {},
   "source": [
    "A schema can be inferred from a job item. `basic_json_schema()` returns Python dict representacion."
   ]
  },
  {
   "cell_type": "code",
   "execution_count": 3,
   "metadata": {},
   "outputs": [
    {
     "data": {
      "text/plain": [
       "{'$schema': 'http://json-schema.org/draft-07/schema#',\n",
       " 'additionalProperties': False,\n",
       " 'definitions': {'float': {'pattern': '^-?[0-9]+\\\\.[0-9]{2}$'},\n",
       "                 'url': {'pattern': '^https?://(www\\\\.)?[a-z0-9.-]*\\\\.[a-z]{2,}([^<>%\\\\x20\\\\x00-\\\\x1f\\\\x7F]|%[0-9a-fA-F]{2})*$'}},\n",
       " 'properties': {'_key': {'type': 'string'},\n",
       "                '_type': {'type': 'string'},\n",
       "                'category': {'type': 'string'},\n",
       "                'description': {'type': 'string'},\n",
       "                'price': {'type': 'string'},\n",
       "                'title': {'type': 'string'}},\n",
       " 'required': ['_key', '_type', 'category', 'description', 'price', 'title'],\n",
       " 'type': 'object'}"
      ]
     },
     "execution_count": 3,
     "metadata": {},
     "output_type": "execute_result"
    }
   ],
   "source": [
    "schema = basic_json_schema(\"381798/1/1\"); schema"
   ]
  },
  {
   "cell_type": "markdown",
   "metadata": {},
   "source": [
    "But there's also a `json()` method, notice the difference in boolean values."
   ]
  },
  {
   "cell_type": "code",
   "execution_count": 4,
   "metadata": {},
   "outputs": [
    {
     "name": "stdout",
     "output_type": "stream",
     "text": [
      "{\n",
      "    \"$schema\": \"http://json-schema.org/draft-07/schema#\",\n",
      "    \"definitions\": {\n",
      "        \"float\": {\n",
      "            \"pattern\": \"^-?[0-9]+\\\\.[0-9]{2}$\"\n",
      "        },\n",
      "        \"url\": {\n",
      "            \"pattern\": \"^https?://(www\\\\.)?[a-z0-9.-]*\\\\.[a-z]{2,}([^<>%\\\\x20\\\\x00-\\\\x1f\\\\x7F]|%[0-9a-fA-F]{2})*$\"\n",
      "        }\n",
      "    },\n",
      "    \"additionalProperties\": false,\n",
      "    \"type\": \"object\",\n",
      "    \"properties\": {\n",
      "        \"category\": {\n",
      "            \"type\": \"string\"\n",
      "        },\n",
      "        \"price\": {\n",
      "            \"type\": \"string\"\n",
      "        },\n",
      "        \"_type\": {\n",
      "            \"type\": \"string\"\n",
      "        },\n",
      "        \"description\": {\n",
      "            \"type\": \"string\"\n",
      "        },\n",
      "        \"title\": {\n",
      "            \"type\": \"string\"\n",
      "        },\n",
      "        \"_key\": {\n",
      "            \"type\": \"string\"\n",
      "        }\n",
      "    },\n",
      "    \"required\": [\n",
      "        \"_key\",\n",
      "        \"_type\",\n",
      "        \"category\",\n",
      "        \"description\",\n",
      "        \"price\",\n",
      "        \"title\"\n",
      "    ]\n",
      "}\n"
     ]
    }
   ],
   "source": [
    "schema.json()"
   ]
  },
  {
   "cell_type": "markdown",
   "metadata": {},
   "source": [
    "## Setting schema"
   ]
  },
  {
   "cell_type": "code",
   "execution_count": 5,
   "metadata": {},
   "outputs": [],
   "source": [
    "a = Arche(\"381798/1/1\")"
   ]
  },
  {
   "cell_type": "markdown",
   "metadata": {},
   "source": [
    "You can set JSON schemas by different ways, by passing a `schema` argument to `Arche` instance or by setting `schema` property"
   ]
  },
  {
   "cell_type": "markdown",
   "metadata": {},
   "source": [
    "### From a dict"
   ]
  },
  {
   "cell_type": "code",
   "execution_count": 6,
   "metadata": {},
   "outputs": [
    {
     "data": {
      "text/plain": [
       "{'$schema': 'http://json-schema.org/draft-07/schema#',\n",
       " 'definitions': {'float': {'pattern': '^-?[0-9]+\\\\.[0-9]{2}$'},\n",
       "  'url': {'pattern': '^https?://(www\\\\.)?[a-z0-9.-]*\\\\.[a-z]{2,}([^<>%\\\\x20\\\\x00-\\\\x1f\\\\x7F]|%[0-9a-fA-F]{2})*$'}},\n",
       " 'additionalProperties': False,\n",
       " 'type': 'object',\n",
       " 'properties': {'category': {'type': 'string', 'tag': ['category']},\n",
       "  'price': {'type': 'string', 'pattern': '^£\\\\d{2}.\\\\d{2}$'},\n",
       "  '_type': {'type': 'string'},\n",
       "  'description': {'type': 'string'},\n",
       "  'title': {'type': 'string', 'tag': ['unique']},\n",
       "  '_key': {'type': 'string'}},\n",
       " 'required': ['_key', '_type', 'category', 'description', 'price', 'title']}"
      ]
     },
     "execution_count": 6,
     "metadata": {},
     "output_type": "execute_result"
    }
   ],
   "source": [
    "a.schema = {\n",
    "    \"$schema\": \"http://json-schema.org/draft-07/schema#\",\n",
    "    \"definitions\": {\n",
    "        \"float\": {\n",
    "            \"pattern\": \"^-?[0-9]+\\\\.[0-9]{2}$\"\n",
    "        },\n",
    "        \"url\": {\n",
    "            \"pattern\": \"^https?://(www\\\\.)?[a-z0-9.-]*\\\\.[a-z]{2,}([^<>%\\\\x20\\\\x00-\\\\x1f\\\\x7F]|%[0-9a-fA-F]{2})*$\"\n",
    "        }\n",
    "    },\n",
    "    \"additionalProperties\": False,\n",
    "    \"type\": \"object\",\n",
    "    \"properties\": {\n",
    "        \"category\": {\"type\": \"string\", \"tag\": [\"category\"]},\n",
    "        \"price\": {\"type\": \"string\", \"pattern\": \"^£\\d{2}.\\d{2}$\"},\n",
    "        \"_type\": {\"type\": \"string\"},\n",
    "        \"description\": {\"type\": \"string\"},\n",
    "        \"title\": {\"type\": \"string\", \"tag\": [\"unique\"]},\n",
    "        \"_key\": {\"type\": \"string\"}\n",
    "    },\n",
    "    \"required\": [\n",
    "        \"_key\",\n",
    "        \"_type\",\n",
    "        \"category\",\n",
    "        \"description\",\n",
    "        \"price\",\n",
    "        \"title\"\n",
    "    ]\n",
    "}\n",
    "a.schema"
   ]
  },
  {
   "cell_type": "markdown",
   "metadata": {},
   "source": [
    "### From a url"
   ]
  },
  {
   "cell_type": "code",
   "execution_count": 7,
   "metadata": {},
   "outputs": [
    {
     "data": {
      "text/plain": [
       "({'$schema': 'http://json-schema.org/draft-07/schema#',\n",
       "  '$id': 'http://json-schema.org/draft-07/schema#',\n",
       "  'title': 'Core schema meta-schema',\n",
       "  'definitions': {'schemaArray': {'type': 'array',\n",
       "    'minItems': 1,\n",
       "    'items': {'$ref': '#'}},\n",
       "   'nonNegativeInteger': {'type': 'integer', 'minimum': 0},\n",
       "   'nonNegativeIntegerDefault0': {'allOf': [{'$ref': '#/definitions/nonNegativeInteger'},\n",
       "     {'default': 0}]},\n",
       "   'simpleTypes': {'enum': ['array',\n",
       "     'boolean',\n",
       "     'integer',\n",
       "     'null',\n",
       "     'number',\n",
       "     'object',\n",
       "     'string']},\n",
       "   'stringArray': {'type': 'array',\n",
       "    'items': {'type': 'string'},\n",
       "    'uniqueItems': True,\n",
       "    'default': []}},\n",
       "  'type': ['object', 'boolean'],\n",
       "  'properties': {'$id': {'type': 'string', 'format': 'uri-reference'},\n",
       "   '$schema': {'type': 'string', 'format': 'uri'},\n",
       "   '$ref': {'type': 'string', 'format': 'uri-reference'},\n",
       "   '$comment': {'type': 'string'},\n",
       "   'title': {'type': 'string'},\n",
       "   'description': {'type': 'string'},\n",
       "   'default': True,\n",
       "   'readOnly': {'type': 'boolean', 'default': False},\n",
       "   'examples': {'type': 'array', 'items': True},\n",
       "   'multipleOf': {'type': 'number', 'exclusiveMinimum': 0},\n",
       "   'maximum': {'type': 'number'},\n",
       "   'exclusiveMaximum': {'type': 'number'},\n",
       "   'minimum': {'type': 'number'},\n",
       "   'exclusiveMinimum': {'type': 'number'},\n",
       "   'maxLength': {'$ref': '#/definitions/nonNegativeInteger'},\n",
       "   'minLength': {'$ref': '#/definitions/nonNegativeIntegerDefault0'},\n",
       "   'pattern': {'type': 'string', 'format': 'regex'},\n",
       "   'additionalItems': {'$ref': '#'},\n",
       "   'items': {'anyOf': [{'$ref': '#'}, {'$ref': '#/definitions/schemaArray'}],\n",
       "    'default': True},\n",
       "   'maxItems': {'$ref': '#/definitions/nonNegativeInteger'},\n",
       "   'minItems': {'$ref': '#/definitions/nonNegativeIntegerDefault0'},\n",
       "   'uniqueItems': {'type': 'boolean', 'default': False},\n",
       "   'contains': {'$ref': '#'},\n",
       "   'maxProperties': {'$ref': '#/definitions/nonNegativeInteger'},\n",
       "   'minProperties': {'$ref': '#/definitions/nonNegativeIntegerDefault0'},\n",
       "   'required': {'$ref': '#/definitions/stringArray'},\n",
       "   'additionalProperties': {'$ref': '#'},\n",
       "   'definitions': {'type': 'object',\n",
       "    'additionalProperties': {'$ref': '#'},\n",
       "    'default': {}},\n",
       "   'properties': {'type': 'object',\n",
       "    'additionalProperties': {'$ref': '#'},\n",
       "    'default': {}},\n",
       "   'patternProperties': {'type': 'object',\n",
       "    'additionalProperties': {'$ref': '#'},\n",
       "    'propertyNames': {'format': 'regex'},\n",
       "    'default': {}},\n",
       "   'dependencies': {'type': 'object',\n",
       "    'additionalProperties': {'anyOf': [{'$ref': '#'},\n",
       "      {'$ref': '#/definitions/stringArray'}]}},\n",
       "   'propertyNames': {'$ref': '#'},\n",
       "   'const': True,\n",
       "   'enum': {'type': 'array',\n",
       "    'items': True,\n",
       "    'minItems': 1,\n",
       "    'uniqueItems': True},\n",
       "   'type': {'anyOf': [{'$ref': '#/definitions/simpleTypes'},\n",
       "     {'type': 'array',\n",
       "      'items': {'$ref': '#/definitions/simpleTypes'},\n",
       "      'minItems': 1,\n",
       "      'uniqueItems': True}]},\n",
       "   'format': {'type': 'string'},\n",
       "   'contentMediaType': {'type': 'string'},\n",
       "   'contentEncoding': {'type': 'string'},\n",
       "   'if': {'$ref': '#'},\n",
       "   'then': {'$ref': '#'},\n",
       "   'else': {'$ref': '#'},\n",
       "   'allOf': {'$ref': '#/definitions/schemaArray'},\n",
       "   'anyOf': {'$ref': '#/definitions/schemaArray'},\n",
       "   'oneOf': {'$ref': '#/definitions/schemaArray'},\n",
       "   'not': {'$ref': '#'}},\n",
       "  'default': True},\n",
       " 'http://json-schema.org/draft-07/schema')"
      ]
     },
     "execution_count": 7,
     "metadata": {},
     "output_type": "execute_result"
    }
   ],
   "source": [
    "a.schema = \"http://json-schema.org/draft-07/schema\"\n",
    "a.schema, a.schema_source"
   ]
  },
  {
   "cell_type": "markdown",
   "metadata": {},
   "source": [
    "### From a private repo"
   ]
  },
  {
   "cell_type": "markdown",
   "metadata": {},
   "source": [
    "For github, you just specify the raw link which will contain a token on the end. The token expires after 5 minutes.\n",
    "\n",
    "```a.schema = \"https://raw.githubusercontent.com/manycoding/repo/master/schema.json?token=AJ6jjTtZtWZr5zyw7DuWduieMJ2ms1ks5ctRC6wA%3%3D\"```"
   ]
  },
  {
   "cell_type": "markdown",
   "metadata": {},
   "source": [
    "For bitbucket, you have to set up `BITBUCKET_USER` and `BITBUCKET_PASSWORD` environment variables.\n",
    "For example, in Jupyter it looks like:"
   ]
  },
  {
   "cell_type": "code",
   "execution_count": 8,
   "metadata": {},
   "outputs": [
    {
     "name": "stdout",
     "output_type": "stream",
     "text": [
      "env: BITBUCKET_USER=your_id\n",
      "env: BITBUCKET_PASSWORD=your_pass\n"
     ]
    }
   ],
   "source": [
    "%env BITBUCKET_USER=your_id\n",
    "%env BITBUCKET_PASSWORD=your_pass"
   ]
  },
  {
   "cell_type": "markdown",
   "metadata": {},
   "source": [
    "And then you can use raw links\n",
    "```a.schema = \"https://bitbucket.org/user/repo/raw/HEAD/schema.json\"```"
   ]
  },
  {
   "cell_type": "markdown",
   "metadata": {},
   "source": [
    "### From AWS S3"
   ]
  },
  {
   "cell_type": "markdown",
   "metadata": {},
   "source": [
    "To get schemas from private s3 bucket, you need to set `AWS_ACCESS_KEY_ID` and `AWS_SECRET_ACCESS_KEY`"
   ]
  },
  {
   "cell_type": "code",
   "execution_count": 9,
   "metadata": {},
   "outputs": [
    {
     "name": "stdout",
     "output_type": "stream",
     "text": [
      "env: AWS_ACCESS_KEY_ID=your_id\n",
      "env: AWS_SECRET_ACCESS_KEY=your_key\n"
     ]
    }
   ],
   "source": [
    "%env AWS_ACCESS_KEY_ID=your_id\n",
    "%env AWS_SECRET_ACCESS_KEY=your_key"
   ]
  },
  {
   "cell_type": "markdown",
   "metadata": {},
   "source": [
    "And then just specify s3 link\n",
    "\n",
    "```a.schema = \"s3://bucket/schema.json\"```"
   ]
  },
  {
   "cell_type": "code",
   "execution_count": null,
   "metadata": {},
   "outputs": [],
   "source": []
  }
 ],
 "metadata": {
  "kernelspec": {
   "display_name": "Python 3",
   "language": "python",
   "name": "python3"
  },
  "language_info": {
   "codemirror_mode": {
    "name": "ipython",
    "version": 3
   },
   "file_extension": ".py",
   "mimetype": "text/x-python",
   "name": "python",
   "nbconvert_exporter": "python",
   "pygments_lexer": "ipython3",
   "version": "3.7.2"
  }
 },
 "nbformat": 4,
 "nbformat_minor": 2
}
