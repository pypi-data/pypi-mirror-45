{
 "cells": [
  {
   "cell_type": "code",
   "execution_count": null,
   "metadata": {},
   "outputs": [],
   "source": [
    "from scikit_rest import serve, infer\n",
    "import pandas as pd\n",
    "import numpy as np\n",
    "import datetime\n",
    "from sklearn.linear_model import LinearRegression"
   ]
  },
  {
   "cell_type": "code",
   "execution_count": null,
   "metadata": {},
   "outputs": [],
   "source": [
    "df = pd.read_csv('titanic.csv')"
   ]
  },
  {
   "cell_type": "code",
   "execution_count": null,
   "metadata": {},
   "outputs": [],
   "source": [
    "df['class'] = df['class'].astype(int)\n",
    "df['sex'] = df['sex'].astype(str)\n",
    "df['age'] = df['age'].astype(float)\n",
    "df['embarked'] = df['embarked'].astype(str)\n",
    "df['date'] = pd.to_datetime(df['date'])\n",
    "df['is_englishman'] = df['is_englishman'].astype(bool)"
   ]
  },
  {
   "cell_type": "code",
   "execution_count": null,
   "metadata": {},
   "outputs": [],
   "source": [
    "col_list = ['class', 'sex', 'age', 'embarked', 'date', 'is_englishman']\n",
    "\n",
    "y = df['survived']\n",
    "df = df[col_list]"
   ]
  },
  {
   "cell_type": "code",
   "execution_count": null,
   "metadata": {},
   "outputs": [],
   "source": [
    "col_types = {\n",
    "    'class' : int,\n",
    "    'sex' : str,\n",
    "    'age' : float,\n",
    "    'embarked': ['C', 'S', 'Q'],\n",
    "    'date': datetime.datetime,\n",
    "    'is_englishman': bool\n",
    "}"
   ]
  },
  {
   "cell_type": "code",
   "execution_count": null,
   "metadata": {},
   "outputs": [],
   "source": [
    "def transform_sex(value):\n",
    "    if value == 'male':\n",
    "        return 0\n",
    "    else:\n",
    "        return 1\n",
    "    \n",
    "def transform_embarked(value):\n",
    "    if value == 'S':\n",
    "        return 0\n",
    "    elif value == 'C':\n",
    "        return 1\n",
    "    elif value == 'Q':\n",
    "        return 2\n",
    "    else:\n",
    "        return 0"
   ]
  },
  {
   "cell_type": "code",
   "execution_count": null,
   "metadata": {},
   "outputs": [],
   "source": [
    "def transform_fn(input_df):\n",
    "    df = input_df.copy()\n",
    "    df['sex'] = df['sex'].apply(lambda x : transform_sex(x))\n",
    "    df['embarked'] = df['embarked'].apply(lambda x : transform_embarked(x))\n",
    "    df['date'] = df['date'].dt.year\n",
    "    df = df.fillna(0.)\n",
    "    return df"
   ]
  },
  {
   "cell_type": "code",
   "execution_count": null,
   "metadata": {},
   "outputs": [],
   "source": [
    "transform_df = transform_fn(df)\n",
    "model = LinearRegression().fit(transform_df, y)"
   ]
  },
  {
   "cell_type": "code",
   "execution_count": null,
   "metadata": {},
   "outputs": [],
   "source": [
    "def predict_fn(input_df):\n",
    "    df = input_df.copy()\n",
    "    return model.predict(df).item()"
   ]
  },
  {
   "cell_type": "code",
   "execution_count": null,
   "metadata": {},
   "outputs": [],
   "source": [
    "serve(col_list, col_types, transform_fn, predict_fn, port=2345)"
   ]
  },
  {
   "cell_type": "code",
   "execution_count": null,
   "metadata": {},
   "outputs": [],
   "source": []
  }
 ],
 "metadata": {
  "kernelspec": {
   "display_name": "Python 3",
   "language": "python",
   "name": "python3"
  },
  "language_info": {
   "codemirror_mode": {
    "name": "ipython",
    "version": 3
   },
   "file_extension": ".py",
   "mimetype": "text/x-python",
   "name": "python",
   "nbconvert_exporter": "python",
   "pygments_lexer": "ipython3",
   "version": "3.6.5"
  }
 },
 "nbformat": 4,
 "nbformat_minor": 2
}
