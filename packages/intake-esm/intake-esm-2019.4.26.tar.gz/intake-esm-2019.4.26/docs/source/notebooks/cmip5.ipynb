{
 "cells": [
  {
   "cell_type": "markdown",
   "metadata": {},
   "source": [
    "## Building a CMIP5 Collection Catalog"
   ]
  },
  {
   "cell_type": "markdown",
   "metadata": {},
   "source": [
    "### Collection Definition"
   ]
  },
  {
   "cell_type": "markdown",
   "metadata": {},
   "source": [
    "Aspects of the collection catalog are defined in ``intake-esm`` configuration file that is stored in ``~/.intake_esm/config.yaml``.\n",
    "This configuration file is a YAML file with the following contents:"
   ]
  },
  {
   "cell_type": "code",
   "execution_count": 1,
   "metadata": {},
   "outputs": [
    {
     "name": "stdout",
     "output_type": "stream",
     "text": [
      "collections:\n",
      "  cesm:\n",
      "    collection_columns:\n",
      "    - resource\n",
      "    - resource_type\n",
      "    - direct_access\n",
      "    - experiment\n",
      "    - case\n",
      "    - component\n",
      "    - stream\n",
      "    - variable\n",
      "    - date_range\n",
      "    - ensemble\n",
      "    - file_fullpath\n",
      "    - file_basename\n",
      "    - file_dirname\n",
      "    - ctrl_branch_year\n",
      "    - year_offset\n",
      "    - sequence_order\n",
      "    - has_ocean_bgc\n",
      "    - grid\n",
      "    order_by_columns:\n",
      "      - sequence_order\n",
      "      - file_fullpath\n",
      "    required_columns:\n",
      "      - sequence_order\n",
      "      - file_fullpath\n",
      "    component_streams:\n",
      "      atm:\n",
      "      - cam.h0\n",
      "      - cam.h1\n",
      "      - cam.h2\n",
      "      - cam.h3\n",
      "      - cam.h4\n",
      "      - cam.h5\n",
      "      - cam.h6\n",
      "      - cam.h7\n",
      "      - cam.h8\n",
      "      glc:\n",
      "      - cism.h\n",
      "      - cism.h0\n",
      "      - cism.h1\n",
      "      - cism.h2\n",
      "      - cism.h3\n",
      "      - cism.h4\n",
      "      - cism.h5\n",
      "      - cism.h6\n",
      "      - cism.h7\n",
      "      - cism.h8\n",
      "      ice:\n",
      "      - cice.h2_06h\n",
      "      - cice.h1\n",
      "      - cice.h\n",
      "      lnd:\n",
      "      - clm2.h0\n",
      "      - clm2.h1\n",
      "      - clm2.h2\n",
      "      - clm2.h3\n",
      "      - clm2.h4\n",
      "      - clm2.h5\n",
      "      - clm2.h6\n",
      "      - clm2.h7\n",
      "      - clm2.h8\n",
      "      ocn:\n",
      "      - pop.h.nday1\n",
      "      - pop.h.nyear1\n",
      "      - pop.h.ecosys.nday1\n",
      "      - pop.h.ecosys.nyear1\n",
      "      - pop.h\n",
      "      - pop.h.sigma\n",
      "      rof:\n",
      "      - rtm.h0\n",
      "      - rtm.h1\n",
      "      - rtm.h2\n",
      "      - rtm.h3\n",
      "      - rtm.h4\n",
      "      - rtm.h5\n",
      "      - rtm.h6\n",
      "      - rtm.h7\n",
      "      - rtm.h8\n",
      "      - mosart.h0\n",
      "      - mosart.h1\n",
      "      - mosart.h2\n",
      "      - mosart.h3\n",
      "      - mosart.h4\n",
      "      - mosart.h5\n",
      "      - mosart.h6\n",
      "      - mosart.h7\n",
      "      - mosart.h8\n",
      "    replacements:\n",
      "      freq:\n",
      "        daily: day_1\n",
      "        monthly: month_1\n",
      "        yearly: year_1\n",
      "  mpige:\n",
      "    collection_columns:\n",
      "    - resource\n",
      "    - resource_type\n",
      "    - direct_access\n",
      "    - experiment\n",
      "    - case\n",
      "    - component\n",
      "    - stream\n",
      "    - date_range\n",
      "    - ensemble\n",
      "    - file_fullpath\n",
      "    - file_basename\n",
      "    - file_dirname\n",
      "    - ctrl_branch_year\n",
      "    - year_offset\n",
      "    - sequence_order\n",
      "    - grid\n",
      "    order_by_columns:\n",
      "      - sequence_order\n",
      "      - file_fullpath\n",
      "    required_columns:\n",
      "      - sequence_order\n",
      "      - file_fullpath\n",
      "    component_streams:\n",
      "      echam6: #grb output\n",
      "      - co2_mm\n",
      "      - BOT_mm\n",
      "      mpiom:\n",
      "      - data_2d_mm\n",
      "      - data_3d_ym\n",
      "      - monitoring_ym\n",
      "      hamocc:\n",
      "      - data_2d_mm\n",
      "      - data_3d_ym\n",
      "      - monitoring_ym\n",
      "      jsbach: #grb output\n",
      "      - surf\n",
      "      - land\n",
      "      - yasso_mm\n",
      "  cmip5:\n",
      "    collection_columns:\n",
      "    - activity\n",
      "    - ensemble_member\n",
      "    - experiment\n",
      "    - file_basename\n",
      "    - file_dirname\n",
      "    - file_fullpath\n",
      "    - frequency\n",
      "    - institute\n",
      "    - mip_table\n",
      "    - model\n",
      "    - modeling_realm\n",
      "    - product\n",
      "    - temporal_subset\n",
      "    - variable\n",
      "    - version\n",
      "    order_by_columns:\n",
      "      - file_fullpath\n",
      "    required_columns:\n",
      "      - modeling_realm\n",
      "      - frequency\n",
      "      - ensemble_member\n",
      "      - experiment\n",
      "      - file_fullpath\n",
      "  cmip6:\n",
      "    collection_columns:\n",
      "    - activity_id\n",
      "    - experiment_id\n",
      "    - file_basename\n",
      "    - file_dirname\n",
      "    - file_fullpath\n",
      "    - grid_label\n",
      "    - institution_id\n",
      "    - member_id\n",
      "    - mip_era\n",
      "    - source_id\n",
      "    - table_id\n",
      "    - time_range\n",
      "    - variable_id\n",
      "    - version\n",
      "    order_by_columns:\n",
      "      - member_id\n",
      "      - file_fullpath\n",
      "    required_columns:\n",
      "      - member_id\n",
      "      - experiment_id\n",
      "      - file_fullpath\n",
      "default_chunk_size: 128MiB\n",
      "data_cache_directory: $TMPDIR/.intake_esm/data_cache\n",
      "database_directory: ~/.intake_esm/collections\n",
      "sources:\n",
      "  cesm: intake_esm.cesm.CESMSource\n",
      "  cmip5: intake_esm.cmip.CMIP5Source\n",
      "  cmip6: intake_esm.cmip.CMIP6Source\n",
      "  mpige: intake_esm.mpige.MPIGESource\n"
     ]
    }
   ],
   "source": [
    "!cat ~/.intake_esm/config.yaml"
   ]
  },
  {
   "cell_type": "markdown",
   "metadata": {},
   "source": [
    "\n",
    "``collection_columns`` consists of a list of columns to include in a collection\n",
    "catalog database. This database is persisted on disk as an CSV file at the location specified by ``database_directory`` key.\n",
    "\n"
   ]
  },
  {
   "cell_type": "markdown",
   "metadata": {},
   "source": [
    "### Collection Catalog Definition\n",
    "\n",
    "\n",
    "Collections are built from a ``YAML`` input file or a dictionary containing nested dictionaries of entries.\n",
    "An example of such a dictionary is provided below for a CMIP5 collection catalog:\n"
   ]
  },
  {
   "cell_type": "code",
   "execution_count": 2,
   "metadata": {},
   "outputs": [],
   "source": [
    "collection_definition = {'name': 'cmip5_test_collection',\n",
    "                        'collection_type': 'cmip5',\n",
    "                        'data_sources': {'root_dir': {'name': 'GLADE',\n",
    "                        'loc_type': 'posix',\n",
    "                        'direct_access': True,\n",
    "                        'urlpath': '../../../tests/sample_data/cmip/cmip5'}}}\n"
   ]
  },
  {
   "cell_type": "markdown",
   "metadata": {},
   "source": [
    "### Building the Collection Catalog\n",
    "\n",
    "Let's begin by importing ``intake``:"
   ]
  },
  {
   "cell_type": "code",
   "execution_count": 3,
   "metadata": {},
   "outputs": [
    {
     "name": "stderr",
     "output_type": "stream",
     "text": [
      "/Users/abanihi/opt/miniconda3/envs/dev/lib/python3.6/site-packages/tqdm/autonotebook/__init__.py:14: TqdmExperimentalWarning: Using `tqdm.autonotebook.tqdm` in notebook mode. Use `tqdm.tqdm` instead to force console mode (e.g. in jupyter console)\n",
      "  \" (e.g. in jupyter console)\", TqdmExperimentalWarning)\n"
     ]
    }
   ],
   "source": [
    "%matplotlib inline\n",
    "import intake"
   ]
  },
  {
   "cell_type": "markdown",
   "metadata": {},
   "source": [
    "The main entry point in ``intake-esm`` is ``esm_metadatastore`` class.\n",
    "Since the class is in the top-level of the package i.e ``__init__.py``,\n",
    "and the package name starts with ``intake_``, ``intake-esm`` package is scanned\n",
    "when intake is imported. Now the plugin automatically appears in the set of known\n",
    "plugins in the intake registry, and an associated ``intake.open_esm_metadatastore``\n",
    "function is created at import time."
   ]
  },
  {
   "cell_type": "code",
   "execution_count": 4,
   "metadata": {},
   "outputs": [
    {
     "data": {
      "text/plain": [
       "{'yaml_file_cat': intake.catalog.local.YAMLFileCatalog,\n",
       " 'yaml_files_cat': intake.catalog.local.YAMLFilesCatalog,\n",
       " 'remote-xarray': intake_xarray.xarray_container.RemoteXarray,\n",
       " 'xarray_image': intake_xarray.image.ImageSource,\n",
       " 'netcdf': intake_xarray.netcdf.NetCDFSource,\n",
       " 'opendap': intake_xarray.opendap.OpenDapSource,\n",
       " 'rasterio': intake_xarray.raster.RasterIOSource,\n",
       " 'zarr': intake_xarray.xzarr.ZarrSource,\n",
       " 'esm_metadatastore': intake_esm.core.ESMMetadataStoreCatalog,\n",
       " 'csv': intake.source.csv.CSVSource,\n",
       " 'textfiles': intake.source.textfiles.TextFilesSource,\n",
       " 'catalog': intake.catalog.base.Catalog,\n",
       " 'intake_remote': intake.catalog.base.RemoteCatalog,\n",
       " 'numpy': intake.source.npy.NPySource}"
      ]
     },
     "execution_count": 4,
     "metadata": {},
     "output_type": "execute_result"
    }
   ],
   "source": [
    "intake.registry"
   ]
  },
  {
   "cell_type": "markdown",
   "metadata": {},
   "source": [
    "To build a collection catalog, we instatiate an ``esm_metadatastore`` class in ``intake-esm``\n",
    "with a collection input YAML file or dictionary. For this example, we will use ``collection_definition``\n",
    "dictionary defined above:"
   ]
  },
  {
   "cell_type": "code",
   "execution_count": 5,
   "metadata": {},
   "outputs": [
    {
     "name": "stdout",
     "output_type": "stream",
     "text": [
      "Getting list of directories\n"
     ]
    },
    {
     "data": {
      "application/vnd.jupyter.widget-view+json": {
       "model_id": "a9dde64c96c44e278ba289df6804bafb",
       "version_major": 2,
       "version_minor": 0
      },
      "text/plain": [
       "HBox(children=(IntProgress(value=0, description='directories', max=129, style=ProgressStyle(description_width=…"
      ]
     },
     "metadata": {},
     "output_type": "display_data"
    },
    {
     "name": "stdout",
     "output_type": "stream",
     "text": [
      "\n",
      "Found 30 directories\n",
      "<class 'pandas.core.frame.DataFrame'>\n",
      "RangeIndex: 32 entries, 0 to 31\n",
      "Data columns (total 15 columns):\n",
      "activity           32 non-null object\n",
      "ensemble_member    32 non-null object\n",
      "experiment         32 non-null object\n",
      "file_basename      32 non-null object\n",
      "file_dirname       32 non-null object\n",
      "file_fullpath      32 non-null object\n",
      "frequency          32 non-null object\n",
      "institute          32 non-null object\n",
      "mip_table          32 non-null object\n",
      "model              32 non-null object\n",
      "modeling_realm     32 non-null object\n",
      "product            32 non-null object\n",
      "temporal_subset    32 non-null object\n",
      "variable           32 non-null object\n",
      "version            32 non-null object\n",
      "dtypes: object(15)\n",
      "memory usage: 3.8+ KB\n",
      "None\n",
      "Persisting cmip5_test_collection at : /Users/abanihi/.intake_esm/collections/cmip5/cmip5_test_collection.cmip5.csv\n"
     ]
    }
   ],
   "source": [
    "col = intake.open_esm_metadatastore(collection_input_definition=collection_definition,\n",
    "                                       overwrite_existing=True)"
   ]
  },
  {
   "cell_type": "markdown",
   "metadata": {},
   "source": [
    "\n",
    "### Examining the Built Collection\n"
   ]
  },
  {
   "cell_type": "markdown",
   "metadata": {},
   "source": [
    "``Intake-esm`` builds a ``pandas.DataFrame`` to store the collection.\n",
    "The DataFrame is stored as an attribute on the collection object."
   ]
  },
  {
   "cell_type": "code",
   "execution_count": 6,
   "metadata": {},
   "outputs": [
    {
     "data": {
      "text/plain": [
       "intake_esm.core.ESMMetadataStoreCatalog"
      ]
     },
     "execution_count": 6,
     "metadata": {},
     "output_type": "execute_result"
    }
   ],
   "source": [
    "type(col)"
   ]
  },
  {
   "cell_type": "code",
   "execution_count": 7,
   "metadata": {},
   "outputs": [
    {
     "data": {
      "text/html": [
       "<div>\n",
       "<style scoped>\n",
       "    .dataframe tbody tr th:only-of-type {\n",
       "        vertical-align: middle;\n",
       "    }\n",
       "\n",
       "    .dataframe tbody tr th {\n",
       "        vertical-align: top;\n",
       "    }\n",
       "\n",
       "    .dataframe thead th {\n",
       "        text-align: right;\n",
       "    }\n",
       "</style>\n",
       "<table border=\"1\" class=\"dataframe\">\n",
       "  <thead>\n",
       "    <tr style=\"text-align: right;\">\n",
       "      <th></th>\n",
       "      <th>activity</th>\n",
       "      <th>ensemble_member</th>\n",
       "      <th>experiment</th>\n",
       "      <th>file_basename</th>\n",
       "      <th>file_dirname</th>\n",
       "      <th>file_fullpath</th>\n",
       "      <th>frequency</th>\n",
       "      <th>institute</th>\n",
       "      <th>mip_table</th>\n",
       "      <th>model</th>\n",
       "      <th>modeling_realm</th>\n",
       "      <th>product</th>\n",
       "      <th>temporal_subset</th>\n",
       "      <th>variable</th>\n",
       "      <th>version</th>\n",
       "    </tr>\n",
       "  </thead>\n",
       "  <tbody>\n",
       "    <tr>\n",
       "      <th>0</th>\n",
       "      <td>CMIP5</td>\n",
       "      <td>r3i1p1</td>\n",
       "      <td>historical</td>\n",
       "      <td>hfls_Amon_IPSL-CM5A-LR_historical_r3i1p1_18500...</td>\n",
       "      <td>../../../tests/sample_data/cmip/cmip5/output1/...</td>\n",
       "      <td>../../../tests/sample_data/cmip/cmip5/output1/...</td>\n",
       "      <td>mon</td>\n",
       "      <td>IPSL</td>\n",
       "      <td>Amon</td>\n",
       "      <td>IPSL-CM5A-LR</td>\n",
       "      <td>atmos</td>\n",
       "      <td>output1</td>\n",
       "      <td>185001-200512</td>\n",
       "      <td>hfls</td>\n",
       "      <td>v20110406</td>\n",
       "    </tr>\n",
       "    <tr>\n",
       "      <th>1</th>\n",
       "      <td>CMIP5</td>\n",
       "      <td>r3i1p1</td>\n",
       "      <td>rcp85</td>\n",
       "      <td>tasmax_Amon_IPSL-CM5A-LR_rcp85_r3i1p1_200601-2...</td>\n",
       "      <td>../../../tests/sample_data/cmip/cmip5/output1/...</td>\n",
       "      <td>../../../tests/sample_data/cmip/cmip5/output1/...</td>\n",
       "      <td>mon</td>\n",
       "      <td>IPSL</td>\n",
       "      <td>Amon</td>\n",
       "      <td>IPSL-CM5A-LR</td>\n",
       "      <td>atmos</td>\n",
       "      <td>output1</td>\n",
       "      <td>200601-210012</td>\n",
       "      <td>tasmax</td>\n",
       "      <td>v20110726</td>\n",
       "    </tr>\n",
       "    <tr>\n",
       "      <th>2</th>\n",
       "      <td>CMIP5</td>\n",
       "      <td>r7i1p1</td>\n",
       "      <td>historical</td>\n",
       "      <td>hfls_Amon_CNRM-CM5_historical_r7i1p1_195001-20...</td>\n",
       "      <td>../../../tests/sample_data/cmip/cmip5/output1/...</td>\n",
       "      <td>../../../tests/sample_data/cmip/cmip5/output1/...</td>\n",
       "      <td>mon</td>\n",
       "      <td>CNRM-CERFACS</td>\n",
       "      <td>Amon</td>\n",
       "      <td>CNRM-CM5</td>\n",
       "      <td>atmos</td>\n",
       "      <td>output1</td>\n",
       "      <td>195001-200512</td>\n",
       "      <td>hfls</td>\n",
       "      <td>v20110901</td>\n",
       "    </tr>\n",
       "    <tr>\n",
       "      <th>3</th>\n",
       "      <td>CMIP5</td>\n",
       "      <td>r8i1p1</td>\n",
       "      <td>historical</td>\n",
       "      <td>hfls_Amon_CNRM-CM5_historical_r8i1p1_195001-20...</td>\n",
       "      <td>../../../tests/sample_data/cmip/cmip5/output1/...</td>\n",
       "      <td>../../../tests/sample_data/cmip/cmip5/output1/...</td>\n",
       "      <td>mon</td>\n",
       "      <td>CNRM-CERFACS</td>\n",
       "      <td>Amon</td>\n",
       "      <td>CNRM-CM5</td>\n",
       "      <td>atmos</td>\n",
       "      <td>output1</td>\n",
       "      <td>195001-200512</td>\n",
       "      <td>hfls</td>\n",
       "      <td>v20110901</td>\n",
       "    </tr>\n",
       "    <tr>\n",
       "      <th>4</th>\n",
       "      <td>CMIP5</td>\n",
       "      <td>r10i1p1</td>\n",
       "      <td>rcp85</td>\n",
       "      <td>tasmax_Amon_CNRM-CM5_rcp85_r10i1p1_205601-2100...</td>\n",
       "      <td>../../../tests/sample_data/cmip/cmip5/output1/...</td>\n",
       "      <td>../../../tests/sample_data/cmip/cmip5/output1/...</td>\n",
       "      <td>mon</td>\n",
       "      <td>CNRM-CERFACS</td>\n",
       "      <td>Amon</td>\n",
       "      <td>CNRM-CM5</td>\n",
       "      <td>atmos</td>\n",
       "      <td>output1</td>\n",
       "      <td>205601-210012</td>\n",
       "      <td>tasmax</td>\n",
       "      <td>v20110915</td>\n",
       "    </tr>\n",
       "  </tbody>\n",
       "</table>\n",
       "</div>"
      ],
      "text/plain": [
       "  activity ensemble_member  experiment  \\\n",
       "0    CMIP5          r3i1p1  historical   \n",
       "1    CMIP5          r3i1p1       rcp85   \n",
       "2    CMIP5          r7i1p1  historical   \n",
       "3    CMIP5          r8i1p1  historical   \n",
       "4    CMIP5         r10i1p1       rcp85   \n",
       "\n",
       "                                       file_basename  \\\n",
       "0  hfls_Amon_IPSL-CM5A-LR_historical_r3i1p1_18500...   \n",
       "1  tasmax_Amon_IPSL-CM5A-LR_rcp85_r3i1p1_200601-2...   \n",
       "2  hfls_Amon_CNRM-CM5_historical_r7i1p1_195001-20...   \n",
       "3  hfls_Amon_CNRM-CM5_historical_r8i1p1_195001-20...   \n",
       "4  tasmax_Amon_CNRM-CM5_rcp85_r10i1p1_205601-2100...   \n",
       "\n",
       "                                        file_dirname  \\\n",
       "0  ../../../tests/sample_data/cmip/cmip5/output1/...   \n",
       "1  ../../../tests/sample_data/cmip/cmip5/output1/...   \n",
       "2  ../../../tests/sample_data/cmip/cmip5/output1/...   \n",
       "3  ../../../tests/sample_data/cmip/cmip5/output1/...   \n",
       "4  ../../../tests/sample_data/cmip/cmip5/output1/...   \n",
       "\n",
       "                                       file_fullpath frequency     institute  \\\n",
       "0  ../../../tests/sample_data/cmip/cmip5/output1/...       mon          IPSL   \n",
       "1  ../../../tests/sample_data/cmip/cmip5/output1/...       mon          IPSL   \n",
       "2  ../../../tests/sample_data/cmip/cmip5/output1/...       mon  CNRM-CERFACS   \n",
       "3  ../../../tests/sample_data/cmip/cmip5/output1/...       mon  CNRM-CERFACS   \n",
       "4  ../../../tests/sample_data/cmip/cmip5/output1/...       mon  CNRM-CERFACS   \n",
       "\n",
       "  mip_table         model modeling_realm  product temporal_subset variable  \\\n",
       "0      Amon  IPSL-CM5A-LR          atmos  output1   185001-200512     hfls   \n",
       "1      Amon  IPSL-CM5A-LR          atmos  output1   200601-210012   tasmax   \n",
       "2      Amon      CNRM-CM5          atmos  output1   195001-200512     hfls   \n",
       "3      Amon      CNRM-CM5          atmos  output1   195001-200512     hfls   \n",
       "4      Amon      CNRM-CM5          atmos  output1   205601-210012   tasmax   \n",
       "\n",
       "     version  \n",
       "0  v20110406  \n",
       "1  v20110726  \n",
       "2  v20110901  \n",
       "3  v20110901  \n",
       "4  v20110915  "
      ]
     },
     "execution_count": 7,
     "metadata": {},
     "output_type": "execute_result"
    }
   ],
   "source": [
    "col.df.head()"
   ]
  },
  {
   "cell_type": "code",
   "execution_count": 8,
   "metadata": {},
   "outputs": [
    {
     "data": {
      "text/plain": [
       "array(['IPSL-CM5A-LR', 'CNRM-CM5', 'CanESM2', 'MPI-ESM-LR',\n",
       "       'CSIRO-Mk3-6-0', 'NorESM1-M', 'BNU-ESM', 'HadGEM2-ES', 'FIO-ESM',\n",
       "       'CanCM4', 'EC-EARTH', 'CESM1-BGC', 'CMCC-CESM', 'IPSL-CM5A-MR',\n",
       "       'HadGEM2-AO', 'NorESM1-ME', 'MIROC-ESM', 'CESM1-CAM5', 'GISS-E2-H',\n",
       "       'GISS-E2-R', 'GISS-E2-R-CC', 'CMCC-CMS'], dtype=object)"
      ]
     },
     "execution_count": 8,
     "metadata": {},
     "output_type": "execute_result"
    }
   ],
   "source": [
    "col.df[\"model\"].unique()"
   ]
  },
  {
   "cell_type": "markdown",
   "metadata": {},
   "source": [
    "### Searching for Entries in the Built Collection Catalog"
   ]
  },
  {
   "cell_type": "markdown",
   "metadata": {},
   "source": [
    "One of the features supported in ``intake-esm`` is querying the collection catalog.\n",
    "This is achieved through the ``search()`` method. The ``search`` method allows the user to\n",
    "specify a query by using keyword arguments. This method returns a subset of the collection\n",
    "with all the entries that match the query."
   ]
  },
  {
   "cell_type": "code",
   "execution_count": 9,
   "metadata": {},
   "outputs": [],
   "source": [
    "cat = col.search(variable=['hfls'], frequency='mon',\n",
    "                     modeling_realm='atmos', institute=['CCCma', 'CNRM-CERFACS'])"
   ]
  },
  {
   "cell_type": "markdown",
   "metadata": {},
   "source": [
    "The query results are stored in a new `pandas.DataFrame` stored as an attribute `query_results` of the new ``intake`` catalog entry object:"
   ]
  },
  {
   "cell_type": "code",
   "execution_count": 10,
   "metadata": {},
   "outputs": [
    {
     "data": {
      "text/plain": [
       "intake.catalog.local.LocalCatalogEntry"
      ]
     },
     "execution_count": 10,
     "metadata": {},
     "output_type": "execute_result"
    }
   ],
   "source": [
    "type(cat)"
   ]
  },
  {
   "cell_type": "code",
   "execution_count": 11,
   "metadata": {},
   "outputs": [
    {
     "data": {
      "text/html": [
       "<div>\n",
       "<style scoped>\n",
       "    .dataframe tbody tr th:only-of-type {\n",
       "        vertical-align: middle;\n",
       "    }\n",
       "\n",
       "    .dataframe tbody tr th {\n",
       "        vertical-align: top;\n",
       "    }\n",
       "\n",
       "    .dataframe thead th {\n",
       "        text-align: right;\n",
       "    }\n",
       "</style>\n",
       "<table border=\"1\" class=\"dataframe\">\n",
       "  <thead>\n",
       "    <tr style=\"text-align: right;\">\n",
       "      <th></th>\n",
       "      <th>activity</th>\n",
       "      <th>ensemble_member</th>\n",
       "      <th>experiment</th>\n",
       "      <th>file_basename</th>\n",
       "      <th>file_dirname</th>\n",
       "      <th>file_fullpath</th>\n",
       "      <th>frequency</th>\n",
       "      <th>institute</th>\n",
       "      <th>mip_table</th>\n",
       "      <th>model</th>\n",
       "      <th>modeling_realm</th>\n",
       "      <th>product</th>\n",
       "      <th>temporal_subset</th>\n",
       "      <th>variable</th>\n",
       "      <th>version</th>\n",
       "    </tr>\n",
       "  </thead>\n",
       "  <tbody>\n",
       "    <tr>\n",
       "      <th>14</th>\n",
       "      <td>CMIP5</td>\n",
       "      <td>r4i1p1</td>\n",
       "      <td>historical</td>\n",
       "      <td>hfls_Amon_CanCM4_historical_r4i1p1_196101-2005...</td>\n",
       "      <td>../../../tests/sample_data/cmip/cmip5/output1/...</td>\n",
       "      <td>../../../tests/sample_data/cmip/cmip5/output1/...</td>\n",
       "      <td>mon</td>\n",
       "      <td>CCCma</td>\n",
       "      <td>Amon</td>\n",
       "      <td>CanCM4</td>\n",
       "      <td>atmos</td>\n",
       "      <td>output1</td>\n",
       "      <td>196101-200512</td>\n",
       "      <td>hfls</td>\n",
       "      <td>v20120612</td>\n",
       "    </tr>\n",
       "    <tr>\n",
       "      <th>2</th>\n",
       "      <td>CMIP5</td>\n",
       "      <td>r7i1p1</td>\n",
       "      <td>historical</td>\n",
       "      <td>hfls_Amon_CNRM-CM5_historical_r7i1p1_195001-20...</td>\n",
       "      <td>../../../tests/sample_data/cmip/cmip5/output1/...</td>\n",
       "      <td>../../../tests/sample_data/cmip/cmip5/output1/...</td>\n",
       "      <td>mon</td>\n",
       "      <td>CNRM-CERFACS</td>\n",
       "      <td>Amon</td>\n",
       "      <td>CNRM-CM5</td>\n",
       "      <td>atmos</td>\n",
       "      <td>output1</td>\n",
       "      <td>195001-200512</td>\n",
       "      <td>hfls</td>\n",
       "      <td>v20110901</td>\n",
       "    </tr>\n",
       "    <tr>\n",
       "      <th>3</th>\n",
       "      <td>CMIP5</td>\n",
       "      <td>r8i1p1</td>\n",
       "      <td>historical</td>\n",
       "      <td>hfls_Amon_CNRM-CM5_historical_r8i1p1_195001-20...</td>\n",
       "      <td>../../../tests/sample_data/cmip/cmip5/output1/...</td>\n",
       "      <td>../../../tests/sample_data/cmip/cmip5/output1/...</td>\n",
       "      <td>mon</td>\n",
       "      <td>CNRM-CERFACS</td>\n",
       "      <td>Amon</td>\n",
       "      <td>CNRM-CM5</td>\n",
       "      <td>atmos</td>\n",
       "      <td>output1</td>\n",
       "      <td>195001-200512</td>\n",
       "      <td>hfls</td>\n",
       "      <td>v20110901</td>\n",
       "    </tr>\n",
       "  </tbody>\n",
       "</table>\n",
       "</div>"
      ],
      "text/plain": [
       "   activity ensemble_member  experiment  \\\n",
       "14    CMIP5          r4i1p1  historical   \n",
       "2     CMIP5          r7i1p1  historical   \n",
       "3     CMIP5          r8i1p1  historical   \n",
       "\n",
       "                                        file_basename  \\\n",
       "14  hfls_Amon_CanCM4_historical_r4i1p1_196101-2005...   \n",
       "2   hfls_Amon_CNRM-CM5_historical_r7i1p1_195001-20...   \n",
       "3   hfls_Amon_CNRM-CM5_historical_r8i1p1_195001-20...   \n",
       "\n",
       "                                         file_dirname  \\\n",
       "14  ../../../tests/sample_data/cmip/cmip5/output1/...   \n",
       "2   ../../../tests/sample_data/cmip/cmip5/output1/...   \n",
       "3   ../../../tests/sample_data/cmip/cmip5/output1/...   \n",
       "\n",
       "                                        file_fullpath frequency     institute  \\\n",
       "14  ../../../tests/sample_data/cmip/cmip5/output1/...       mon         CCCma   \n",
       "2   ../../../tests/sample_data/cmip/cmip5/output1/...       mon  CNRM-CERFACS   \n",
       "3   ../../../tests/sample_data/cmip/cmip5/output1/...       mon  CNRM-CERFACS   \n",
       "\n",
       "   mip_table     model modeling_realm  product temporal_subset variable  \\\n",
       "14      Amon    CanCM4          atmos  output1   196101-200512     hfls   \n",
       "2       Amon  CNRM-CM5          atmos  output1   195001-200512     hfls   \n",
       "3       Amon  CNRM-CM5          atmos  output1   195001-200512     hfls   \n",
       "\n",
       "      version  \n",
       "14  v20120612  \n",
       "2   v20110901  \n",
       "3   v20110901  "
      ]
     },
     "execution_count": 11,
     "metadata": {},
     "output_type": "execute_result"
    }
   ],
   "source": [
    "cat.query_results.head()"
   ]
  },
  {
   "cell_type": "code",
   "execution_count": 12,
   "metadata": {},
   "outputs": [
    {
     "data": {
      "text/html": [
       "<div>\n",
       "<style scoped>\n",
       "    .dataframe tbody tr th:only-of-type {\n",
       "        vertical-align: middle;\n",
       "    }\n",
       "\n",
       "    .dataframe tbody tr th {\n",
       "        vertical-align: top;\n",
       "    }\n",
       "\n",
       "    .dataframe thead th {\n",
       "        text-align: right;\n",
       "    }\n",
       "</style>\n",
       "<table border=\"1\" class=\"dataframe\">\n",
       "  <thead>\n",
       "    <tr style=\"text-align: right;\">\n",
       "      <th></th>\n",
       "      <th></th>\n",
       "      <th></th>\n",
       "      <th>activity</th>\n",
       "      <th>experiment</th>\n",
       "      <th>file_basename</th>\n",
       "      <th>file_dirname</th>\n",
       "      <th>file_fullpath</th>\n",
       "      <th>frequency</th>\n",
       "      <th>mip_table</th>\n",
       "      <th>modeling_realm</th>\n",
       "      <th>product</th>\n",
       "      <th>temporal_subset</th>\n",
       "      <th>variable</th>\n",
       "      <th>version</th>\n",
       "    </tr>\n",
       "    <tr>\n",
       "      <th>institute</th>\n",
       "      <th>model</th>\n",
       "      <th>ensemble_member</th>\n",
       "      <th></th>\n",
       "      <th></th>\n",
       "      <th></th>\n",
       "      <th></th>\n",
       "      <th></th>\n",
       "      <th></th>\n",
       "      <th></th>\n",
       "      <th></th>\n",
       "      <th></th>\n",
       "      <th></th>\n",
       "      <th></th>\n",
       "      <th></th>\n",
       "    </tr>\n",
       "  </thead>\n",
       "  <tbody>\n",
       "    <tr>\n",
       "      <th>CCCma</th>\n",
       "      <th>CanCM4</th>\n",
       "      <th>r4i1p1</th>\n",
       "      <td>1</td>\n",
       "      <td>1</td>\n",
       "      <td>1</td>\n",
       "      <td>1</td>\n",
       "      <td>1</td>\n",
       "      <td>1</td>\n",
       "      <td>1</td>\n",
       "      <td>1</td>\n",
       "      <td>1</td>\n",
       "      <td>1</td>\n",
       "      <td>1</td>\n",
       "      <td>1</td>\n",
       "    </tr>\n",
       "    <tr>\n",
       "      <th rowspan=\"2\" valign=\"top\">CNRM-CERFACS</th>\n",
       "      <th rowspan=\"2\" valign=\"top\">CNRM-CM5</th>\n",
       "      <th>r7i1p1</th>\n",
       "      <td>1</td>\n",
       "      <td>1</td>\n",
       "      <td>1</td>\n",
       "      <td>1</td>\n",
       "      <td>1</td>\n",
       "      <td>1</td>\n",
       "      <td>1</td>\n",
       "      <td>1</td>\n",
       "      <td>1</td>\n",
       "      <td>1</td>\n",
       "      <td>1</td>\n",
       "      <td>1</td>\n",
       "    </tr>\n",
       "    <tr>\n",
       "      <th>r8i1p1</th>\n",
       "      <td>1</td>\n",
       "      <td>1</td>\n",
       "      <td>1</td>\n",
       "      <td>1</td>\n",
       "      <td>1</td>\n",
       "      <td>1</td>\n",
       "      <td>1</td>\n",
       "      <td>1</td>\n",
       "      <td>1</td>\n",
       "      <td>1</td>\n",
       "      <td>1</td>\n",
       "      <td>1</td>\n",
       "    </tr>\n",
       "  </tbody>\n",
       "</table>\n",
       "</div>"
      ],
      "text/plain": [
       "                                       activity  experiment  file_basename  \\\n",
       "institute    model    ensemble_member                                        \n",
       "CCCma        CanCM4   r4i1p1                  1           1              1   \n",
       "CNRM-CERFACS CNRM-CM5 r7i1p1                  1           1              1   \n",
       "                      r8i1p1                  1           1              1   \n",
       "\n",
       "                                       file_dirname  file_fullpath  frequency  \\\n",
       "institute    model    ensemble_member                                           \n",
       "CCCma        CanCM4   r4i1p1                      1              1          1   \n",
       "CNRM-CERFACS CNRM-CM5 r7i1p1                      1              1          1   \n",
       "                      r8i1p1                      1              1          1   \n",
       "\n",
       "                                       mip_table  modeling_realm  product  \\\n",
       "institute    model    ensemble_member                                       \n",
       "CCCma        CanCM4   r4i1p1                   1               1        1   \n",
       "CNRM-CERFACS CNRM-CM5 r7i1p1                   1               1        1   \n",
       "                      r8i1p1                   1               1        1   \n",
       "\n",
       "                                       temporal_subset  variable  version  \n",
       "institute    model    ensemble_member                                      \n",
       "CCCma        CanCM4   r4i1p1                         1         1        1  \n",
       "CNRM-CERFACS CNRM-CM5 r7i1p1                         1         1        1  \n",
       "                      r8i1p1                         1         1        1  "
      ]
     },
     "execution_count": 12,
     "metadata": {},
     "output_type": "execute_result"
    }
   ],
   "source": [
    "cat.query_results.groupby(['institute', 'model', 'ensemble_member']).count()"
   ]
  },
  {
   "cell_type": "markdown",
   "metadata": {},
   "source": [
    "### Loading Query Results into Xarray Datasets"
   ]
  },
  {
   "cell_type": "markdown",
   "metadata": {},
   "source": [
    "Once you are satisfied with the results of your query, you can use the ``to_xarray()`` method to load\n",
    "the data into an xarray dataset."
   ]
  },
  {
   "cell_type": "markdown",
   "metadata": {},
   "source": [
    "**NOTE**:\n",
    "    \n",
    "\n",
    "``to_xarray()`` method returns a dictionary of ``xarray`` datasets. The keys in this dictionary are constructed as follows:\n",
    "\n",
    "- For CMIP5 data, ``key=<institute>.<model>.<experiment>.<frequency>.<modeling_realm>``\n",
    "- For CMIP6 data, ``key=<institution_id>.<source_id>.<experiment_id>.<table_id>.<grid_label>``"
   ]
  },
  {
   "cell_type": "code",
   "execution_count": 13,
   "metadata": {},
   "outputs": [
    {
     "data": {
      "application/vnd.jupyter.widget-view+json": {
       "model_id": "3524193686b24cd0a642b9073fa88a19",
       "version_major": 2,
       "version_minor": 0
      },
      "text/plain": [
       "HBox(children=(IntProgress(value=0, description='dataset', max=2, style=ProgressStyle(description_width='initi…"
      ]
     },
     "metadata": {},
     "output_type": "display_data"
    },
    {
     "data": {
      "application/vnd.jupyter.widget-view+json": {
       "model_id": "7d9723641c10475e9403dbf8ad252b84",
       "version_major": 2,
       "version_minor": 0
      },
      "text/plain": [
       "HBox(children=(IntProgress(value=0, description='member', max=1, style=ProgressStyle(description_width='initia…"
      ]
     },
     "metadata": {},
     "output_type": "display_data"
    },
    {
     "data": {
      "application/vnd.jupyter.widget-view+json": {
       "model_id": "e31c266452724b8894561bef516b93aa",
       "version_major": 2,
       "version_minor": 0
      },
      "text/plain": [
       "HBox(children=(IntProgress(value=0, description='member', max=2, style=ProgressStyle(description_width='initia…"
      ]
     },
     "metadata": {},
     "output_type": "display_data"
    },
    {
     "name": "stdout",
     "output_type": "stream",
     "text": [
      "\n"
     ]
    },
    {
     "data": {
      "text/plain": [
       "{'CCCma.CanCM4.historical.mon.atmos': <xarray.Dataset>\n",
       " Dimensions:    (bnds: 2, lat: 5, lon: 5, time: 2)\n",
       " Coordinates:\n",
       "   * time       (time) float64 4.053e+04 4.056e+04\n",
       "     time_bnds  (time, bnds) float64 dask.array<shape=(2, 2), chunksize=(2, 2)>\n",
       "   * lat        (lat) float64 -87.86 -85.1 -82.31 -79.53 -76.74\n",
       "     lat_bnds   (lat, bnds) float64 dask.array<shape=(5, 2), chunksize=(5, 2)>\n",
       "   * lon        (lon) float64 0.0 2.812 5.625 8.438 11.25\n",
       "     lon_bnds   (lon, bnds) float64 dask.array<shape=(5, 2), chunksize=(5, 2)>\n",
       " Dimensions without coordinates: bnds\n",
       " Data variables:\n",
       "     hfls       (time, lat, lon) float32 dask.array<shape=(2, 5, 5), chunksize=(2, 5, 5)>\n",
       " Attributes:\n",
       "     institution:            CCCma (Canadian Centre for Climate Modelling and ...\n",
       "     institute_id:           CCCma\n",
       "     experiment_id:          historical\n",
       "     source:                 CanCM4 2010 atmosphere: CanAM4 (AGCM15i, T63L35) ...\n",
       "     model_id:               CanCM4\n",
       "     forcing:                GHG,Oz,SA,BC,OC,LU,Sl,Vl (GHG includes CO2,CH4,N2...\n",
       "     parent_experiment_id:   piControl\n",
       "     parent_experiment_rip:  r1i1p1\n",
       "     branch_time:            153665.0\n",
       "     contact:                cccma_info@ec.gc.ca\n",
       "     comment:                These experiments serve as unitialized comparison...\n",
       "     references:             http://www.cccma.ec.gc.ca/models\n",
       "     initialization_method:  1\n",
       "     physics_version:        1\n",
       "     tracking_id:            b921901e-b91d-40e1-b17e-35c7796c875a\n",
       "     branch_time_YMDH:       2271:01:01:00\n",
       "     CCCma_runid:            DHFP1N_E004\n",
       "     CCCma_parent_runid:     IGA\n",
       "     CCCma_data_licence:     1) GRANT OF LICENCE - The Government of Canada (E...\n",
       "     product:                output\n",
       "     experiment:             historical\n",
       "     frequency:              mon\n",
       "     creation_date:          2012-01-31T23:08:10Z\n",
       "     history:                2019-04-25 16:51:40.191065 xarray.open_dataset('....\n",
       "     Conventions:            CF-1.4\n",
       "     project_id:             CMIP5\n",
       "     table_id:               Table Amon (28 March 2011) 0afcb2d7f190557bfb8b99...\n",
       "     title:                  CanCM4 model output prepared for CMIP5 historical\n",
       "     parent_experiment:      pre-industrial control\n",
       "     modeling_realm:         atmos\n",
       "     realization:            4\n",
       "     cmor_version:           2.8.0,\n",
       " 'CNRM-CERFACS.CNRM-CM5.historical.mon.atmos': <xarray.Dataset>\n",
       " Dimensions:    (bnds: 2, lat: 5, lon: 5, member_id: 2, time: 2)\n",
       " Coordinates:\n",
       "   * time       (time) float64 3.654e+04 3.657e+04\n",
       "   * lat        (lat) float64 -88.93 -87.54 -86.14 -84.74 -83.34\n",
       "   * lon        (lon) float64 0.0 1.406 2.812 4.219 5.625\n",
       "   * member_id  (member_id) <U6 'r7i1p1' 'r8i1p1'\n",
       " Dimensions without coordinates: bnds\n",
       " Data variables:\n",
       "     time_bnds  (time, bnds) float64 dask.array<shape=(2, 2), chunksize=(2, 2)>\n",
       "     lat_bnds   (lat, bnds) float64 dask.array<shape=(5, 2), chunksize=(5, 2)>\n",
       "     lon_bnds   (lon, bnds) float64 dask.array<shape=(5, 2), chunksize=(5, 2)>\n",
       "     hfls       (member_id, time, lat, lon) float32 dask.array<shape=(2, 2, 5, 5), chunksize=(1, 2, 5, 5)>\n",
       " Attributes:\n",
       "     parent_experiment_id:   piControl\n",
       "     institute_id:           CNRM-CERFACS\n",
       "     contact:                for all but decadal predictions : contact.CMIP5@m...\n",
       "     Conventions:            CF-1.4\n",
       "     modeling_realm:         atmos\n",
       "     comment:                Soil layers depth scheme is specific for mrlsl an...\n",
       "     physics_version:        1\n",
       "     table_id:               Table Amon (31 January 2011) 53b766a395ac41696af4...\n",
       "     history:                2019-04-25 16:51:40.231815 xarray.open_dataset('....\n",
       "     frequency:              mon\n",
       "     initialization_method:  1\n",
       "     title:                  CNRM-CM5 model output prepared for CMIP5 historical\n",
       "     project_id:             CMIP5\n",
       "     product:                output\n",
       "     cmor_version:           2.5.3\n",
       "     parent_experiment:      pre-industrial control\n",
       "     references:             See http://www.cnrm.meteo.fr/cmip5 - Follow model...\n",
       "     source:                 CNRM-CM5 2010 Atmosphere: ARPEGE-Climat (V5.2.1, ...\n",
       "     forcing:                GHG, SA, Sl, Vl, BC, OC\n",
       "     experiment_id:          historical\n",
       "     experiment:             historical\n",
       "     institution:            CNRM (Centre National de Recherches Meteorologiqu...\n",
       "     model_id:               CNRM-CM5}"
      ]
     },
     "execution_count": 13,
     "metadata": {},
     "output_type": "execute_result"
    }
   ],
   "source": [
    "ds = cat.to_xarray(decode_times=False)\n",
    "ds"
   ]
  },
  {
   "cell_type": "code",
   "execution_count": 14,
   "metadata": {},
   "outputs": [
    {
     "data": {
      "text/plain": [
       "dict_keys(['CCCma.CanCM4.historical.mon.atmos', 'CNRM-CERFACS.CNRM-CM5.historical.mon.atmos'])"
      ]
     },
     "execution_count": 14,
     "metadata": {},
     "output_type": "execute_result"
    }
   ],
   "source": [
    "ds.keys()"
   ]
  },
  {
   "cell_type": "code",
   "execution_count": 15,
   "metadata": {},
   "outputs": [
    {
     "data": {
      "text/plain": [
       "<xarray.Dataset>\n",
       "Dimensions:    (bnds: 2, lat: 5, lon: 5, member_id: 2, time: 2)\n",
       "Coordinates:\n",
       "  * time       (time) float64 3.654e+04 3.657e+04\n",
       "  * lat        (lat) float64 -88.93 -87.54 -86.14 -84.74 -83.34\n",
       "  * lon        (lon) float64 0.0 1.406 2.812 4.219 5.625\n",
       "  * member_id  (member_id) <U6 'r7i1p1' 'r8i1p1'\n",
       "Dimensions without coordinates: bnds\n",
       "Data variables:\n",
       "    time_bnds  (time, bnds) float64 dask.array<shape=(2, 2), chunksize=(2, 2)>\n",
       "    lat_bnds   (lat, bnds) float64 dask.array<shape=(5, 2), chunksize=(5, 2)>\n",
       "    lon_bnds   (lon, bnds) float64 dask.array<shape=(5, 2), chunksize=(5, 2)>\n",
       "    hfls       (member_id, time, lat, lon) float32 dask.array<shape=(2, 2, 5, 5), chunksize=(1, 2, 5, 5)>\n",
       "Attributes:\n",
       "    parent_experiment_id:   piControl\n",
       "    institute_id:           CNRM-CERFACS\n",
       "    contact:                for all but decadal predictions : contact.CMIP5@m...\n",
       "    Conventions:            CF-1.4\n",
       "    modeling_realm:         atmos\n",
       "    comment:                Soil layers depth scheme is specific for mrlsl an...\n",
       "    physics_version:        1\n",
       "    table_id:               Table Amon (31 January 2011) 53b766a395ac41696af4...\n",
       "    history:                2019-04-25 16:51:40.231815 xarray.open_dataset('....\n",
       "    frequency:              mon\n",
       "    initialization_method:  1\n",
       "    title:                  CNRM-CM5 model output prepared for CMIP5 historical\n",
       "    project_id:             CMIP5\n",
       "    product:                output\n",
       "    cmor_version:           2.5.3\n",
       "    parent_experiment:      pre-industrial control\n",
       "    references:             See http://www.cnrm.meteo.fr/cmip5 - Follow model...\n",
       "    source:                 CNRM-CM5 2010 Atmosphere: ARPEGE-Climat (V5.2.1, ...\n",
       "    forcing:                GHG, SA, Sl, Vl, BC, OC\n",
       "    experiment_id:          historical\n",
       "    experiment:             historical\n",
       "    institution:            CNRM (Centre National de Recherches Meteorologiqu...\n",
       "    model_id:               CNRM-CM5"
      ]
     },
     "execution_count": 15,
     "metadata": {},
     "output_type": "execute_result"
    }
   ],
   "source": [
    "dset = ds['CNRM-CERFACS.CNRM-CM5.historical.mon.atmos']\n",
    "dset"
   ]
  },
  {
   "cell_type": "code",
   "execution_count": 16,
   "metadata": {},
   "outputs": [
    {
     "data": {
      "text/plain": [
       "<matplotlib.collections.QuadMesh at 0x11f87b5c0>"
      ]
     },
     "execution_count": 16,
     "metadata": {},
     "output_type": "execute_result"
    },
    {
     "data": {
      "image/png": "[encoded data removed]",
      "text/plain": [
       "<Figure size 432x288 with 2 Axes>"
      ]
     },
     "metadata": {
      "needs_background": "light"
     },
     "output_type": "display_data"
    }
   ],
   "source": [
    "dset['hfls'].isel(time=0, member_id=0).plot()"
   ]
  },
  {
   "cell_type": "code",
   "execution_count": 17,
   "metadata": {},
   "outputs": [],
   "source": [
    "%load_ext watermark"
   ]
  },
  {
   "cell_type": "code",
   "execution_count": 18,
   "metadata": {},
   "outputs": [
    {
     "name": "stdout",
     "output_type": "stream",
     "text": [
      "intake 0.4.1\n",
      "last updated: 2019-04-25 \n",
      "\n",
      "CPython 3.6.7\n",
      "IPython 7.1.1\n",
      "\n",
      "compiler   : GCC 4.2.1 Compatible Clang 4.0.1 (tags/RELEASE_401/final)\n",
      "system     : Darwin\n",
      "release    : 17.7.0\n",
      "machine    : x86_64\n",
      "processor  : i386\n",
      "CPU cores  : 8\n",
      "interpreter: 64bit\n",
      "Git hash   : 149e935866c2744d86be503a2289bd48562c1d20\n"
     ]
    }
   ],
   "source": [
    "%watermark --iversion -g  -m  -v -u -d"
   ]
  }
 ],
 "metadata": {
  "kernelspec": {
   "display_name": "Python 3",
   "language": "python",
   "name": "python3"
  },
  "language_info": {
   "codemirror_mode": {
    "name": "ipython",
    "version": 3
   },
   "file_extension": ".py",
   "mimetype": "text/x-python",
   "name": "python",
   "nbconvert_exporter": "python",
   "pygments_lexer": "ipython3",
   "version": "3.6.7"
  }
 },
 "nbformat": 4,
 "nbformat_minor": 2
}
