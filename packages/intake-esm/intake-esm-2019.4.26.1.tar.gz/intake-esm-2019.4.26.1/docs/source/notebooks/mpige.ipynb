{
 "cells": [
  {
   "cell_type": "markdown",
   "metadata": {},
   "source": [
    "## Building a MPI-GE Collection Catalog\n",
    "\n",
    "\n",
    "Building a MPI-GE collection catalog follows the same steps that are used when building a CMIP or CESM collection catalog:\n",
    "\n",
    "- Define a collection catalog in a YAML or nested dictionary\n",
    "- Pass this collection definition to ``intake_open_esm_metadatastore()`` class.\n",
    "- Use the built collection catalog\n",
    "\n",
    "For demonstration purposes, we are going to use data from MPI-GE project."
   ]
  },
  {
   "cell_type": "code",
   "execution_count": 1,
   "metadata": {},
   "outputs": [
    {
     "name": "stderr",
     "output_type": "stream",
     "text": [
      "/Users/abanihi/opt/miniconda3/envs/pangeo/lib/python3.6/site-packages/tqdm/autonotebook/__init__.py:14: TqdmExperimentalWarning: Using `tqdm.autonotebook.tqdm` in notebook mode. Use `tqdm.tqdm` instead to force console mode (e.g. in jupyter console)\n",
      "  \" (e.g. in jupyter console)\", TqdmExperimentalWarning)\n"
     ]
    }
   ],
   "source": [
    "import intake"
   ]
  },
  {
   "cell_type": "code",
   "execution_count": 2,
   "metadata": {},
   "outputs": [],
   "source": [
    "cdefinition = {\n",
    "    'name': 'mpige_test',\n",
    "    'collection_type': 'mpige',\n",
    "    'include_cache_dir': False,\n",
    "    'data_sources': {\n",
    "        'pictrl': {\n",
    "            'locations': [\n",
    "                {\n",
    "                    'name': 'SAMPLE-DATA',\n",
    "                    'loc_type': 'posix',\n",
    "                    'direct_access': True,\n",
    "                    'urlpath': '../../../tests/sample_data/mpi-ge/pictrl',\n",
    "                    'exclude_dirs': ['*/restart/*', '*/log/*'],\n",
    "                }\n",
    "            ],\n",
    "            'component_attrs': {'mpiom': {'grid': 'POP_gx1v6'}},\n",
    "            'case_members': [\n",
    "                {'case': 'pictrl0001', 'sequence_order': 0, 'ensemble': 1, 'year_offset': 1448}\n",
    "            ],\n",
    "        },\n",
    "        'hist': {\n",
    "            'locations': [\n",
    "                {\n",
    "                    'name': 'SAMPLE-DATA',\n",
    "                    'loc_type': 'posix',\n",
    "                    'direct_access': True,\n",
    "                    'urlpath': '../../../tests/sample_data/mpi-ge/hist',\n",
    "                    'exclude_dirs': ['*/restart/*', '*/log/*'],\n",
    "                }\n",
    "            ],\n",
    "            'component_attrs': {'mpiom': {'grid': 'POP_gx1v6'}},\n",
    "            'case_members': [\n",
    "                {'case': 'hist0001', 'sequence_order': 0, 'ensemble': 1},\n",
    "                {'case': 'hist0002', 'sequence_order': 0, 'ensemble': 2},\n",
    "                {'case': 'hist0003', 'sequence_order': 0, 'ensemble': 3},\n",
    "            ],\n",
    "        },\n",
    "        'rcp85': {\n",
    "            'locations': [\n",
    "                {\n",
    "                    'name': 'SAMPLE-DATA',\n",
    "                    'loc_type': 'posix',\n",
    "                    'direct_access': True,\n",
    "                    'urlpath': '../../../tests/sample_data/mpi-ge/rcp85',\n",
    "                    'exclude_dirs': ['*/restart/*', '*/log/*'],\n",
    "                }\n",
    "            ],\n",
    "            'component_attrs': {'mpiom': {'grid': 'POP_gx1v6'}},\n",
    "            'case_members': [\n",
    "                {'case': 'rcp850001', 'sequence_order': 1, 'ensemble': 1},\n",
    "                {'case': 'rcp850002', 'sequence_order': 1, 'ensemble': 2},\n",
    "                {'case': 'rcp850003', 'sequence_order': 1, 'ensemble': 3},\n",
    "            ],\n",
    "        },\n",
    "    },\n",
    "}\n"
   ]
  },
  {
   "cell_type": "markdown",
   "metadata": {},
   "source": [
    "### Building the Collection"
   ]
  },
  {
   "cell_type": "markdown",
   "metadata": {},
   "source": [
    "The build method loops over all the experiments and each of the ensemble members therein.\n",
    "It attempts to parse file name; it fails in some instances and skips these files with a warning."
   ]
  },
  {
   "cell_type": "code",
   "execution_count": 3,
   "metadata": {},
   "outputs": [
    {
     "name": "stderr",
     "output_type": "stream",
     "text": [
      "Working on experiment: pictrl\n",
      "Getting file listing : SAMPLE-DATA:posix:../../../tests/sample_data/mpi-ge/pictrl\n",
      "Building file database : SAMPLE-DATA:posix:../../../tests/sample_data/mpi-ge/pictrl\n",
      "Working on experiment: hist\n",
      "Getting file listing : SAMPLE-DATA:posix:../../../tests/sample_data/mpi-ge/hist\n",
      "Building file database : SAMPLE-DATA:posix:../../../tests/sample_data/mpi-ge/hist\n",
      "Working on experiment: rcp85\n",
      "Getting file listing : SAMPLE-DATA:posix:../../../tests/sample_data/mpi-ge/rcp85\n",
      "Building file database : SAMPLE-DATA:posix:../../../tests/sample_data/mpi-ge/rcp85\n",
      "None\n"
     ]
    },
    {
     "name": "stdout",
     "output_type": "stream",
     "text": [
      "<class 'pandas.core.frame.DataFrame'>\n",
      "RangeIndex: 84 entries, 0 to 83\n",
      "Data columns (total 16 columns):\n",
      "resource            84 non-null object\n",
      "resource_type       84 non-null object\n",
      "direct_access       84 non-null object\n",
      "experiment          84 non-null object\n",
      "case                84 non-null object\n",
      "component           84 non-null object\n",
      "stream              84 non-null object\n",
      "date_range          84 non-null object\n",
      "ensemble            84 non-null object\n",
      "file_fullpath       84 non-null object\n",
      "file_basename       84 non-null object\n",
      "file_dirname        84 non-null object\n",
      "ctrl_branch_year    0 non-null object\n",
      "year_offset         12 non-null object\n",
      "sequence_order      84 non-null object\n",
      "grid                42 non-null object\n",
      "dtypes: object(16)\n",
      "memory usage: 10.6+ KB\n",
      "Persisting mpige_test at : /Users/abanihi/.intake_esm/collections/mpige/mpige_test.mpige.csv\n"
     ]
    }
   ],
   "source": [
    "col = intake.open_esm_metadatastore(collection_input_definition=cdefinition,\n",
    "                                       overwrite_existing=True)"
   ]
  },
  {
   "cell_type": "markdown",
   "metadata": {},
   "source": [
    "### Using the Built Collection"
   ]
  },
  {
   "cell_type": "code",
   "execution_count": 4,
   "metadata": {},
   "outputs": [
    {
     "data": {
      "text/html": [
       "<div>\n",
       "<style scoped>\n",
       "    .dataframe tbody tr th:only-of-type {\n",
       "        vertical-align: middle;\n",
       "    }\n",
       "\n",
       "    .dataframe tbody tr th {\n",
       "        vertical-align: top;\n",
       "    }\n",
       "\n",
       "    .dataframe thead th {\n",
       "        text-align: right;\n",
       "    }\n",
       "</style>\n",
       "<table border=\"1\" class=\"dataframe\">\n",
       "  <thead>\n",
       "    <tr style=\"text-align: right;\">\n",
       "      <th></th>\n",
       "      <th>resource</th>\n",
       "      <th>resource_type</th>\n",
       "      <th>direct_access</th>\n",
       "      <th>experiment</th>\n",
       "      <th>case</th>\n",
       "      <th>component</th>\n",
       "      <th>stream</th>\n",
       "      <th>date_range</th>\n",
       "      <th>ensemble</th>\n",
       "      <th>file_fullpath</th>\n",
       "      <th>file_basename</th>\n",
       "      <th>file_dirname</th>\n",
       "      <th>ctrl_branch_year</th>\n",
       "      <th>year_offset</th>\n",
       "      <th>sequence_order</th>\n",
       "      <th>grid</th>\n",
       "    </tr>\n",
       "  </thead>\n",
       "  <tbody>\n",
       "    <tr>\n",
       "      <th>0</th>\n",
       "      <td>SAMPLE-DATA:posix:../../../tests/sample_data/m...</td>\n",
       "      <td>posix</td>\n",
       "      <td>True</td>\n",
       "      <td>rcp85</td>\n",
       "      <td>rcp850003</td>\n",
       "      <td>mpiom</td>\n",
       "      <td>data_2d_mm</td>\n",
       "      <td>20060101-20061231</td>\n",
       "      <td>3</td>\n",
       "      <td>../../../tests/sample_data/mpi-ge/rcp85/rcp850...</td>\n",
       "      <td>rcp850003_mpiom_data_2d_mm_20060101_20061231.nc</td>\n",
       "      <td>../../../tests/sample_data/mpi-ge/rcp85/rcp850...</td>\n",
       "      <td>NaN</td>\n",
       "      <td>NaN</td>\n",
       "      <td>1</td>\n",
       "      <td>POP_gx1v6</td>\n",
       "    </tr>\n",
       "    <tr>\n",
       "      <th>1</th>\n",
       "      <td>SAMPLE-DATA:posix:../../../tests/sample_data/m...</td>\n",
       "      <td>posix</td>\n",
       "      <td>True</td>\n",
       "      <td>rcp85</td>\n",
       "      <td>rcp850003</td>\n",
       "      <td>mpiom</td>\n",
       "      <td>data_2d_mm</td>\n",
       "      <td>20080101-20081231</td>\n",
       "      <td>3</td>\n",
       "      <td>../../../tests/sample_data/mpi-ge/rcp85/rcp850...</td>\n",
       "      <td>rcp850003_mpiom_data_2d_mm_20080101_20081231.nc</td>\n",
       "      <td>../../../tests/sample_data/mpi-ge/rcp85/rcp850...</td>\n",
       "      <td>NaN</td>\n",
       "      <td>NaN</td>\n",
       "      <td>1</td>\n",
       "      <td>POP_gx1v6</td>\n",
       "    </tr>\n",
       "    <tr>\n",
       "      <th>2</th>\n",
       "      <td>SAMPLE-DATA:posix:../../../tests/sample_data/m...</td>\n",
       "      <td>posix</td>\n",
       "      <td>True</td>\n",
       "      <td>rcp85</td>\n",
       "      <td>rcp850003</td>\n",
       "      <td>mpiom</td>\n",
       "      <td>monitoring_ym</td>\n",
       "      <td>20070101-20071231</td>\n",
       "      <td>3</td>\n",
       "      <td>../../../tests/sample_data/mpi-ge/rcp85/rcp850...</td>\n",
       "      <td>rcp850003_mpiom_monitoring_ym_20070101_2007123...</td>\n",
       "      <td>../../../tests/sample_data/mpi-ge/rcp85/rcp850...</td>\n",
       "      <td>NaN</td>\n",
       "      <td>NaN</td>\n",
       "      <td>1</td>\n",
       "      <td>POP_gx1v6</td>\n",
       "    </tr>\n",
       "    <tr>\n",
       "      <th>3</th>\n",
       "      <td>SAMPLE-DATA:posix:../../../tests/sample_data/m...</td>\n",
       "      <td>posix</td>\n",
       "      <td>True</td>\n",
       "      <td>rcp85</td>\n",
       "      <td>rcp850003</td>\n",
       "      <td>mpiom</td>\n",
       "      <td>monitoring_ym</td>\n",
       "      <td>20060101-20061231</td>\n",
       "      <td>3</td>\n",
       "      <td>../../../tests/sample_data/mpi-ge/rcp85/rcp850...</td>\n",
       "      <td>rcp850003_mpiom_monitoring_ym_20060101_2006123...</td>\n",
       "      <td>../../../tests/sample_data/mpi-ge/rcp85/rcp850...</td>\n",
       "      <td>NaN</td>\n",
       "      <td>NaN</td>\n",
       "      <td>1</td>\n",
       "      <td>POP_gx1v6</td>\n",
       "    </tr>\n",
       "    <tr>\n",
       "      <th>4</th>\n",
       "      <td>SAMPLE-DATA:posix:../../../tests/sample_data/m...</td>\n",
       "      <td>posix</td>\n",
       "      <td>True</td>\n",
       "      <td>rcp85</td>\n",
       "      <td>rcp850003</td>\n",
       "      <td>mpiom</td>\n",
       "      <td>monitoring_ym</td>\n",
       "      <td>20080101-20081231</td>\n",
       "      <td>3</td>\n",
       "      <td>../../../tests/sample_data/mpi-ge/rcp85/rcp850...</td>\n",
       "      <td>rcp850003_mpiom_monitoring_ym_20080101_2008123...</td>\n",
       "      <td>../../../tests/sample_data/mpi-ge/rcp85/rcp850...</td>\n",
       "      <td>NaN</td>\n",
       "      <td>NaN</td>\n",
       "      <td>1</td>\n",
       "      <td>POP_gx1v6</td>\n",
       "    </tr>\n",
       "  </tbody>\n",
       "</table>\n",
       "</div>"
      ],
      "text/plain": [
       "                                            resource resource_type  \\\n",
       "0  SAMPLE-DATA:posix:../../../tests/sample_data/m...         posix   \n",
       "1  SAMPLE-DATA:posix:../../../tests/sample_data/m...         posix   \n",
       "2  SAMPLE-DATA:posix:../../../tests/sample_data/m...         posix   \n",
       "3  SAMPLE-DATA:posix:../../../tests/sample_data/m...         posix   \n",
       "4  SAMPLE-DATA:posix:../../../tests/sample_data/m...         posix   \n",
       "\n",
       "   direct_access experiment       case component         stream  \\\n",
       "0           True      rcp85  rcp850003     mpiom     data_2d_mm   \n",
       "1           True      rcp85  rcp850003     mpiom     data_2d_mm   \n",
       "2           True      rcp85  rcp850003     mpiom  monitoring_ym   \n",
       "3           True      rcp85  rcp850003     mpiom  monitoring_ym   \n",
       "4           True      rcp85  rcp850003     mpiom  monitoring_ym   \n",
       "\n",
       "          date_range  ensemble  \\\n",
       "0  20060101-20061231         3   \n",
       "1  20080101-20081231         3   \n",
       "2  20070101-20071231         3   \n",
       "3  20060101-20061231         3   \n",
       "4  20080101-20081231         3   \n",
       "\n",
       "                                       file_fullpath  \\\n",
       "0  ../../../tests/sample_data/mpi-ge/rcp85/rcp850...   \n",
       "1  ../../../tests/sample_data/mpi-ge/rcp85/rcp850...   \n",
       "2  ../../../tests/sample_data/mpi-ge/rcp85/rcp850...   \n",
       "3  ../../../tests/sample_data/mpi-ge/rcp85/rcp850...   \n",
       "4  ../../../tests/sample_data/mpi-ge/rcp85/rcp850...   \n",
       "\n",
       "                                       file_basename  \\\n",
       "0    rcp850003_mpiom_data_2d_mm_20060101_20061231.nc   \n",
       "1    rcp850003_mpiom_data_2d_mm_20080101_20081231.nc   \n",
       "2  rcp850003_mpiom_monitoring_ym_20070101_2007123...   \n",
       "3  rcp850003_mpiom_monitoring_ym_20060101_2006123...   \n",
       "4  rcp850003_mpiom_monitoring_ym_20080101_2008123...   \n",
       "\n",
       "                                        file_dirname  ctrl_branch_year  \\\n",
       "0  ../../../tests/sample_data/mpi-ge/rcp85/rcp850...               NaN   \n",
       "1  ../../../tests/sample_data/mpi-ge/rcp85/rcp850...               NaN   \n",
       "2  ../../../tests/sample_data/mpi-ge/rcp85/rcp850...               NaN   \n",
       "3  ../../../tests/sample_data/mpi-ge/rcp85/rcp850...               NaN   \n",
       "4  ../../../tests/sample_data/mpi-ge/rcp85/rcp850...               NaN   \n",
       "\n",
       "   year_offset  sequence_order       grid  \n",
       "0          NaN               1  POP_gx1v6  \n",
       "1          NaN               1  POP_gx1v6  \n",
       "2          NaN               1  POP_gx1v6  \n",
       "3          NaN               1  POP_gx1v6  \n",
       "4          NaN               1  POP_gx1v6  "
      ]
     },
     "execution_count": 4,
     "metadata": {},
     "output_type": "execute_result"
    }
   ],
   "source": [
    "col.df.head()"
   ]
  },
  {
   "cell_type": "markdown",
   "metadata": {},
   "source": [
    "Now you can query the collection catalog and load data sets of interests into xarray objects:"
   ]
  },
  {
   "cell_type": "code",
   "execution_count": 5,
   "metadata": {},
   "outputs": [],
   "source": [
    "cat = col.search(\n",
    "            component=['mpiom', 'hamocc'],\n",
    "            stream='monitoring_ym',\n",
    "            experiment=['hist', 'rcp85'],\n",
    "        )"
   ]
  },
  {
   "cell_type": "code",
   "execution_count": 6,
   "metadata": {},
   "outputs": [
    {
     "name": "stdout",
     "output_type": "stream",
     "text": [
      "plugins:\n",
      "  source:\n",
      "  - module: intake_esm.mpige\n",
      "sources:\n",
      "  mpige_test_279e6e1b-8d04-4669-8ef0-4a69bd347f90:\n",
      "    args:\n",
      "      collection_name: mpige_test\n",
      "      query:\n",
      "        case: null\n",
      "        component:\n",
      "        - mpiom\n",
      "        - hamocc\n",
      "        ctrl_branch_year: null\n",
      "        date_range: null\n",
      "        direct_access: null\n",
      "        ensemble: null\n",
      "        experiment:\n",
      "        - hist\n",
      "        - rcp85\n",
      "        file_basename: null\n",
      "        file_dirname: null\n",
      "        file_fullpath: null\n",
      "        grid: null\n",
      "        resource: null\n",
      "        resource_type: null\n",
      "        sequence_order: null\n",
      "        stream: monitoring_ym\n",
      "        year_offset: null\n",
      "    description: Catalog entry from mpige_test collection\n",
      "    driver: mpige\n",
      "    metadata:\n",
      "      cache: {}\n",
      "      catalog_dir: ''\n",
      "\n"
     ]
    }
   ],
   "source": [
    "print(cat.yaml(True))"
   ]
  },
  {
   "cell_type": "markdown",
   "metadata": {},
   "source": [
    "#### Concatenate datasets along new experiment_id dimension\n"
   ]
  },
  {
   "cell_type": "code",
   "execution_count": 7,
   "metadata": {},
   "outputs": [
    {
     "data": {
      "application/vnd.jupyter.widget-view+json": {
       "model_id": "875fbb72ba164e5f9ae6e0c0ce0e54ae",
       "version_major": 2,
       "version_minor": 0
      },
      "text/plain": [
       "HBox(children=(IntProgress(value=0, description='experiment', max=2, style=ProgressStyle(description_width='in…"
      ]
     },
     "metadata": {},
     "output_type": "display_data"
    },
    {
     "name": "stdout",
     "output_type": "stream",
     "text": [
      "\n"
     ]
    },
    {
     "data": {
      "text/plain": [
       "<xarray.Dataset>\n",
       "Dimensions:                                    (depth: 1, experiment_id: 2, lat: 1, lon: 1, member_id: 3, time: 6)\n",
       "Coordinates:\n",
       "  * time                                       (time) datetime64[ns] 1850-12-31T23:15:00 ...\n",
       "  * lon                                        (lon) float64 0.0\n",
       "  * lat                                        (lat) float64 0.0\n",
       "  * depth                                      (depth) float64 0.0\n",
       "  * member_id                                  (member_id) int64 1 2 3\n",
       "  * experiment_id                              (experiment_id) <U5 'hist' ...\n",
       "Data variables:\n",
       "    global_primary_production                  (experiment_id, member_id, time, depth, lat, lon) float32 dask.array<shape=(2, 3, 6, 1, 1, 1), chunksize=(1, 1, 1, 1, 1, 1)>\n",
       "    global_zooplankton_grazing                 (experiment_id, member_id, time, depth, lat, lon) float32 dask.array<shape=(2, 3, 6, 1, 1, 1), chunksize=(1, 1, 1, 1, 1, 1)>\n",
       "    global_OM_export_at_90m                    (experiment_id, member_id, time, depth, lat, lon) float32 dask.array<shape=(2, 3, 6, 1, 1, 1), chunksize=(1, 1, 1, 1, 1, 1)>\n",
       "    global_calc_export_at_90m                  (experiment_id, member_id, time, depth, lat, lon) float32 dask.array<shape=(2, 3, 6, 1, 1, 1), chunksize=(1, 1, 1, 1, 1, 1)>\n",
       "    global_opal_export_at_90m                  (experiment_id, member_id, time, depth, lat, lon) float32 dask.array<shape=(2, 3, 6, 1, 1, 1), chunksize=(1, 1, 1, 1, 1, 1)>\n",
       "    global_opal_production                     (experiment_id, member_id, time, depth, lat, lon) float32 dask.array<shape=(2, 3, 6, 1, 1, 1), chunksize=(1, 1, 1, 1, 1, 1)>\n",
       "    global_caco3_production                    (experiment_id, member_id, time, depth, lat, lon) float32 dask.array<shape=(2, 3, 6, 1, 1, 1), chunksize=(1, 1, 1, 1, 1, 1)>\n",
       "    global_net_co2_flux                        (experiment_id, member_id, time, depth, lat, lon) float32 dask.array<shape=(2, 3, 6, 1, 1, 1), chunksize=(1, 1, 1, 1, 1, 1)>\n",
       "    global_surface_alkalinity                  (experiment_id, member_id, time, depth, lat, lon) float32 dask.array<shape=(2, 3, 6, 1, 1, 1), chunksize=(1, 1, 1, 1, 1, 1)>\n",
       "    global_surface_dissolved_inorganic_carbon  (experiment_id, member_id, time, depth, lat, lon) float32 dask.array<shape=(2, 3, 6, 1, 1, 1), chunksize=(1, 1, 1, 1, 1, 1)>\n",
       "    EU_N2_fixation                             (experiment_id, member_id, time, depth, lat, lon) float32 dask.array<shape=(2, 3, 6, 1, 1, 1), chunksize=(1, 1, 1, 1, 1, 1)>\n",
       "    EU_N2_flux                                 (experiment_id, member_id, time, depth, lat, lon) float32 dask.array<shape=(2, 3, 6, 1, 1, 1), chunksize=(1, 1, 1, 1, 1, 1)>\n",
       "    TOT_denit                                  (experiment_id, member_id, time, depth, lat, lon) float32 dask.array<shape=(2, 3, 6, 1, 1, 1), chunksize=(1, 1, 1, 1, 1, 1)>\n",
       "    gmsl_st                                    (experiment_id, member_id, time, depth, lat, lon) float32 dask.array<shape=(2, 3, 6, 1, 1, 1), chunksize=(1, 1, 1, 1, 1, 1)>\n",
       "    gmsl_eu                                    (experiment_id, member_id, time, depth, lat, lon) float32 dask.array<shape=(2, 3, 6, 1, 1, 1), chunksize=(1, 1, 1, 1, 1, 1)>\n",
       "    netwatertransport_bering_strait            (experiment_id, member_id, time, depth, lat, lon) float32 dask.array<shape=(2, 3, 6, 1, 1, 1), chunksize=(1, 1, 1, 1, 1, 1)>\n",
       "    netwatertransport_drake_passage            (experiment_id, member_id, time, depth, lat, lon) float32 dask.array<shape=(2, 3, 6, 1, 1, 1), chunksize=(1, 1, 1, 1, 1, 1)>\n",
       "    netwatertransport_equatorial_undercurrent  (experiment_id, member_id, time, depth, lat, lon) float32 dask.array<shape=(2, 3, 6, 1, 1, 1), chunksize=(1, 1, 1, 1, 1, 1)>\n",
       "    sicetransport_fram_strait                  (experiment_id, member_id, time, depth, lat, lon) float32 dask.array<shape=(2, 3, 6, 1, 1, 1), chunksize=(1, 1, 1, 1, 1, 1)>\n",
       "    netheattransport_atlantic_26n              (experiment_id, member_id, time, depth, lat, lon) float32 dask.array<shape=(2, 3, 6, 1, 1, 1), chunksize=(1, 1, 1, 1, 1, 1)>\n",
       "    eisab_arctic_ocean                         (experiment_id, member_id, time, depth, lat, lon) float32 dask.array<shape=(2, 3, 6, 1, 1, 1), chunksize=(1, 1, 1, 1, 1, 1)>\n",
       "    eiscb_arctic_ocean                         (experiment_id, member_id, time, depth, lat, lon) float32 dask.array<shape=(2, 3, 6, 1, 1, 1), chunksize=(1, 1, 1, 1, 1, 1)>\n",
       "    eisab_southern_ocean                       (experiment_id, member_id, time, depth, lat, lon) float32 dask.array<shape=(2, 3, 6, 1, 1, 1), chunksize=(1, 1, 1, 1, 1, 1)>\n",
       "    eiscb_southern_ocean                       (experiment_id, member_id, time, depth, lat, lon) float32 dask.array<shape=(2, 3, 6, 1, 1, 1), chunksize=(1, 1, 1, 1, 1, 1)>\n",
       "    tem_0m_tropical_pacific_ocean              (experiment_id, member_id, time, depth, lat, lon) float32 dask.array<shape=(2, 3, 6, 1, 1, 1), chunksize=(1, 1, 1, 1, 1, 1)>\n",
       "    hflb_global_ocean                          (experiment_id, member_id, time, depth, lat, lon) float32 dask.array<shape=(2, 3, 6, 1, 1, 1), chunksize=(1, 1, 1, 1, 1, 1)>\n",
       "    wflb_global_ocean                          (experiment_id, member_id, time, depth, lat, lon) float32 dask.array<shape=(2, 3, 6, 1, 1, 1), chunksize=(1, 1, 1, 1, 1, 1)>\n",
       "    tem_0m_global_ocean                        (experiment_id, member_id, time, depth, lat, lon) float32 dask.array<shape=(2, 3, 6, 1, 1, 1), chunksize=(1, 1, 1, 1, 1, 1)>\n",
       "    salt_0m_global_ocean                       (experiment_id, member_id, time, depth, lat, lon) float32 dask.array<shape=(2, 3, 6, 1, 1, 1), chunksize=(1, 1, 1, 1, 1, 1)>\n",
       "    tem_200m_global_ocean                      (experiment_id, member_id, time, depth, lat, lon) float32 dask.array<shape=(2, 3, 6, 1, 1, 1), chunksize=(1, 1, 1, 1, 1, 1)>\n",
       "    salt_200m_global_ocean                     (experiment_id, member_id, time, depth, lat, lon) float32 dask.array<shape=(2, 3, 6, 1, 1, 1), chunksize=(1, 1, 1, 1, 1, 1)>\n",
       "    tem_800m_global_ocean                      (experiment_id, member_id, time, depth, lat, lon) float32 dask.array<shape=(2, 3, 6, 1, 1, 1), chunksize=(1, 1, 1, 1, 1, 1)>\n",
       "    salt_800m_global_ocean                     (experiment_id, member_id, time, depth, lat, lon) float32 dask.array<shape=(2, 3, 6, 1, 1, 1), chunksize=(1, 1, 1, 1, 1, 1)>\n",
       "    tem_2000m_global_ocean                     (experiment_id, member_id, time, depth, lat, lon) float32 dask.array<shape=(2, 3, 6, 1, 1, 1), chunksize=(1, 1, 1, 1, 1, 1)>\n",
       "    salt_2000m_global_ocean                    (experiment_id, member_id, time, depth, lat, lon) float32 dask.array<shape=(2, 3, 6, 1, 1, 1), chunksize=(1, 1, 1, 1, 1, 1)>\n",
       "    amoc26n                                    (experiment_id, member_id, time, depth, lat, lon) float32 dask.array<shape=(2, 3, 6, 1, 1, 1), chunksize=(1, 1, 1, 1, 1, 1)>"
      ]
     },
     "execution_count": 7,
     "metadata": {},
     "output_type": "execute_result"
    }
   ],
   "source": [
    "ds = cat.to_xarray(merge_exp=False)\n",
    "ds"
   ]
  },
  {
   "cell_type": "markdown",
   "metadata": {},
   "source": [
    "#### Merge datasets"
   ]
  },
  {
   "cell_type": "code",
   "execution_count": 8,
   "metadata": {},
   "outputs": [],
   "source": [
    "cat2 = col.search(\n",
    "            component=['mpiom', 'hamocc'],\n",
    "            stream='monitoring_ym',\n",
    "            experiment=['hist', 'rcp85']\n",
    "        )"
   ]
  },
  {
   "cell_type": "code",
   "execution_count": 9,
   "metadata": {},
   "outputs": [
    {
     "data": {
      "application/vnd.jupyter.widget-view+json": {
       "model_id": "aa0335e533814994a239fad4069a4415",
       "version_major": 2,
       "version_minor": 0
      },
      "text/plain": [
       "HBox(children=(IntProgress(value=0, description='experiment', max=2, style=ProgressStyle(description_width='in…"
      ]
     },
     "metadata": {},
     "output_type": "display_data"
    },
    {
     "name": "stdout",
     "output_type": "stream",
     "text": [
      "\n"
     ]
    },
    {
     "data": {
      "text/plain": [
       "<xarray.Dataset>\n",
       "Dimensions:                                    (depth: 1, lat: 1, lon: 1, member_id: 3, time: 6)\n",
       "Coordinates:\n",
       "  * time                                       (time) datetime64[ns] 1850-12-31T23:15:00 ...\n",
       "  * lon                                        (lon) float64 0.0\n",
       "  * lat                                        (lat) float64 0.0\n",
       "  * depth                                      (depth) float64 0.0\n",
       "  * member_id                                  (member_id) int64 1 2 3\n",
       "Data variables:\n",
       "    global_primary_production                  (member_id, time, depth, lat, lon) float32 dask.array<shape=(3, 6, 1, 1, 1), chunksize=(1, 1, 1, 1, 1)>\n",
       "    global_zooplankton_grazing                 (member_id, time, depth, lat, lon) float32 dask.array<shape=(3, 6, 1, 1, 1), chunksize=(1, 1, 1, 1, 1)>\n",
       "    global_OM_export_at_90m                    (member_id, time, depth, lat, lon) float32 dask.array<shape=(3, 6, 1, 1, 1), chunksize=(1, 1, 1, 1, 1)>\n",
       "    global_calc_export_at_90m                  (member_id, time, depth, lat, lon) float32 dask.array<shape=(3, 6, 1, 1, 1), chunksize=(1, 1, 1, 1, 1)>\n",
       "    global_opal_export_at_90m                  (member_id, time, depth, lat, lon) float32 dask.array<shape=(3, 6, 1, 1, 1), chunksize=(1, 1, 1, 1, 1)>\n",
       "    global_opal_production                     (member_id, time, depth, lat, lon) float32 dask.array<shape=(3, 6, 1, 1, 1), chunksize=(1, 1, 1, 1, 1)>\n",
       "    global_caco3_production                    (member_id, time, depth, lat, lon) float32 dask.array<shape=(3, 6, 1, 1, 1), chunksize=(1, 1, 1, 1, 1)>\n",
       "    global_net_co2_flux                        (member_id, time, depth, lat, lon) float32 dask.array<shape=(3, 6, 1, 1, 1), chunksize=(1, 1, 1, 1, 1)>\n",
       "    global_surface_alkalinity                  (member_id, time, depth, lat, lon) float32 dask.array<shape=(3, 6, 1, 1, 1), chunksize=(1, 1, 1, 1, 1)>\n",
       "    global_surface_dissolved_inorganic_carbon  (member_id, time, depth, lat, lon) float32 dask.array<shape=(3, 6, 1, 1, 1), chunksize=(1, 1, 1, 1, 1)>\n",
       "    EU_N2_fixation                             (member_id, time, depth, lat, lon) float32 dask.array<shape=(3, 6, 1, 1, 1), chunksize=(1, 1, 1, 1, 1)>\n",
       "    EU_N2_flux                                 (member_id, time, depth, lat, lon) float32 dask.array<shape=(3, 6, 1, 1, 1), chunksize=(1, 1, 1, 1, 1)>\n",
       "    TOT_denit                                  (member_id, time, depth, lat, lon) float32 dask.array<shape=(3, 6, 1, 1, 1), chunksize=(1, 1, 1, 1, 1)>\n",
       "    gmsl_st                                    (member_id, time, depth, lat, lon) float32 dask.array<shape=(3, 6, 1, 1, 1), chunksize=(1, 1, 1, 1, 1)>\n",
       "    gmsl_eu                                    (member_id, time, depth, lat, lon) float32 dask.array<shape=(3, 6, 1, 1, 1), chunksize=(1, 1, 1, 1, 1)>\n",
       "    netwatertransport_bering_strait            (member_id, time, depth, lat, lon) float32 dask.array<shape=(3, 6, 1, 1, 1), chunksize=(1, 1, 1, 1, 1)>\n",
       "    netwatertransport_drake_passage            (member_id, time, depth, lat, lon) float32 dask.array<shape=(3, 6, 1, 1, 1), chunksize=(1, 1, 1, 1, 1)>\n",
       "    netwatertransport_equatorial_undercurrent  (member_id, time, depth, lat, lon) float32 dask.array<shape=(3, 6, 1, 1, 1), chunksize=(1, 1, 1, 1, 1)>\n",
       "    sicetransport_fram_strait                  (member_id, time, depth, lat, lon) float32 dask.array<shape=(3, 6, 1, 1, 1), chunksize=(1, 1, 1, 1, 1)>\n",
       "    netheattransport_atlantic_26n              (member_id, time, depth, lat, lon) float32 dask.array<shape=(3, 6, 1, 1, 1), chunksize=(1, 1, 1, 1, 1)>\n",
       "    eisab_arctic_ocean                         (member_id, time, depth, lat, lon) float32 dask.array<shape=(3, 6, 1, 1, 1), chunksize=(1, 1, 1, 1, 1)>\n",
       "    eiscb_arctic_ocean                         (member_id, time, depth, lat, lon) float32 dask.array<shape=(3, 6, 1, 1, 1), chunksize=(1, 1, 1, 1, 1)>\n",
       "    eisab_southern_ocean                       (member_id, time, depth, lat, lon) float32 dask.array<shape=(3, 6, 1, 1, 1), chunksize=(1, 1, 1, 1, 1)>\n",
       "    eiscb_southern_ocean                       (member_id, time, depth, lat, lon) float32 dask.array<shape=(3, 6, 1, 1, 1), chunksize=(1, 1, 1, 1, 1)>\n",
       "    tem_0m_tropical_pacific_ocean              (member_id, time, depth, lat, lon) float32 dask.array<shape=(3, 6, 1, 1, 1), chunksize=(1, 1, 1, 1, 1)>\n",
       "    hflb_global_ocean                          (member_id, time, depth, lat, lon) float32 dask.array<shape=(3, 6, 1, 1, 1), chunksize=(1, 1, 1, 1, 1)>\n",
       "    wflb_global_ocean                          (member_id, time, depth, lat, lon) float32 dask.array<shape=(3, 6, 1, 1, 1), chunksize=(1, 1, 1, 1, 1)>\n",
       "    tem_0m_global_ocean                        (member_id, time, depth, lat, lon) float32 dask.array<shape=(3, 6, 1, 1, 1), chunksize=(1, 1, 1, 1, 1)>\n",
       "    salt_0m_global_ocean                       (member_id, time, depth, lat, lon) float32 dask.array<shape=(3, 6, 1, 1, 1), chunksize=(1, 1, 1, 1, 1)>\n",
       "    tem_200m_global_ocean                      (member_id, time, depth, lat, lon) float32 dask.array<shape=(3, 6, 1, 1, 1), chunksize=(1, 1, 1, 1, 1)>\n",
       "    salt_200m_global_ocean                     (member_id, time, depth, lat, lon) float32 dask.array<shape=(3, 6, 1, 1, 1), chunksize=(1, 1, 1, 1, 1)>\n",
       "    tem_800m_global_ocean                      (member_id, time, depth, lat, lon) float32 dask.array<shape=(3, 6, 1, 1, 1), chunksize=(1, 1, 1, 1, 1)>\n",
       "    salt_800m_global_ocean                     (member_id, time, depth, lat, lon) float32 dask.array<shape=(3, 6, 1, 1, 1), chunksize=(1, 1, 1, 1, 1)>\n",
       "    tem_2000m_global_ocean                     (member_id, time, depth, lat, lon) float32 dask.array<shape=(3, 6, 1, 1, 1), chunksize=(1, 1, 1, 1, 1)>\n",
       "    salt_2000m_global_ocean                    (member_id, time, depth, lat, lon) float32 dask.array<shape=(3, 6, 1, 1, 1), chunksize=(1, 1, 1, 1, 1)>\n",
       "    amoc26n                                    (member_id, time, depth, lat, lon) float32 dask.array<shape=(3, 6, 1, 1, 1), chunksize=(1, 1, 1, 1, 1)>"
      ]
     },
     "execution_count": 9,
     "metadata": {},
     "output_type": "execute_result"
    }
   ],
   "source": [
    "ds = cat2.to_xarray(merge_exp=True)\n",
    "ds"
   ]
  },
  {
   "cell_type": "markdown",
   "metadata": {},
   "source": [
    "#### Workaround when merging or concatenating datasets does not work: return dictionary of datasets"
   ]
  },
  {
   "cell_type": "code",
   "execution_count": 10,
   "metadata": {},
   "outputs": [],
   "source": [
    "cat3 = col.search(component='mpiom', stream='monitoring_ym')"
   ]
  },
  {
   "cell_type": "code",
   "execution_count": 11,
   "metadata": {},
   "outputs": [
    {
     "data": {
      "application/vnd.jupyter.widget-view+json": {
       "model_id": "d75c75c15bf14ce2bafa1ab9f1d73dd1",
       "version_major": 2,
       "version_minor": 0
      },
      "text/plain": [
       "HBox(children=(IntProgress(value=0, description='experiment', max=3, style=ProgressStyle(description_width='in…"
      ]
     },
     "metadata": {},
     "output_type": "display_data"
    },
    {
     "name": "stdout",
     "output_type": "stream",
     "text": [
      "\n"
     ]
    },
    {
     "name": "stderr",
     "output_type": "stream",
     "text": [
      "/Users/abanihi/devel/ncar/intake-cesm/intake_esm/mpige.py:265: UserWarning: Could not merge datasets. Returning non-merged datasets\n",
      "  warn('Could not merge datasets. Returning non-merged datasets')\n"
     ]
    },
    {
     "data": {
      "text/plain": [
       "OrderedDict([('hist', <xarray.Dataset>\n",
       "              Dimensions:                                    (depth: 1, lat: 1, lon: 1, member_id: 3, time: 3)\n",
       "              Coordinates:\n",
       "                * lon                                        (lon) float64 0.0\n",
       "                * lat                                        (lat) float64 0.0\n",
       "                * depth                                      (depth) float64 0.0\n",
       "                * time                                       (time) datetime64[ns] 1850-12-31T23:15:00 ...\n",
       "                * member_id                                  (member_id) int64 1 2 3\n",
       "              Data variables:\n",
       "                  gmsl_st                                    (member_id, time, depth, lat, lon) float32 dask.array<shape=(3, 3, 1, 1, 1), chunksize=(1, 1, 1, 1, 1)>\n",
       "                  gmsl_eu                                    (member_id, time, depth, lat, lon) float32 dask.array<shape=(3, 3, 1, 1, 1), chunksize=(1, 1, 1, 1, 1)>\n",
       "                  netwatertransport_bering_strait            (member_id, time, depth, lat, lon) float32 dask.array<shape=(3, 3, 1, 1, 1), chunksize=(1, 1, 1, 1, 1)>\n",
       "                  netwatertransport_drake_passage            (member_id, time, depth, lat, lon) float32 dask.array<shape=(3, 3, 1, 1, 1), chunksize=(1, 1, 1, 1, 1)>\n",
       "                  netwatertransport_equatorial_undercurrent  (member_id, time, depth, lat, lon) float32 dask.array<shape=(3, 3, 1, 1, 1), chunksize=(1, 1, 1, 1, 1)>\n",
       "                  sicetransport_fram_strait                  (member_id, time, depth, lat, lon) float32 dask.array<shape=(3, 3, 1, 1, 1), chunksize=(1, 1, 1, 1, 1)>\n",
       "                  netheattransport_atlantic_26n              (member_id, time, depth, lat, lon) float32 dask.array<shape=(3, 3, 1, 1, 1), chunksize=(1, 1, 1, 1, 1)>\n",
       "                  eisab_arctic_ocean                         (member_id, time, depth, lat, lon) float32 dask.array<shape=(3, 3, 1, 1, 1), chunksize=(1, 1, 1, 1, 1)>\n",
       "                  eiscb_arctic_ocean                         (member_id, time, depth, lat, lon) float32 dask.array<shape=(3, 3, 1, 1, 1), chunksize=(1, 1, 1, 1, 1)>\n",
       "                  eisab_southern_ocean                       (member_id, time, depth, lat, lon) float32 dask.array<shape=(3, 3, 1, 1, 1), chunksize=(1, 1, 1, 1, 1)>\n",
       "                  eiscb_southern_ocean                       (member_id, time, depth, lat, lon) float32 dask.array<shape=(3, 3, 1, 1, 1), chunksize=(1, 1, 1, 1, 1)>\n",
       "                  tem_0m_tropical_pacific_ocean              (member_id, time, depth, lat, lon) float32 dask.array<shape=(3, 3, 1, 1, 1), chunksize=(1, 1, 1, 1, 1)>\n",
       "                  hflb_global_ocean                          (member_id, time, depth, lat, lon) float32 dask.array<shape=(3, 3, 1, 1, 1), chunksize=(1, 1, 1, 1, 1)>\n",
       "                  wflb_global_ocean                          (member_id, time, depth, lat, lon) float32 dask.array<shape=(3, 3, 1, 1, 1), chunksize=(1, 1, 1, 1, 1)>\n",
       "                  tem_0m_global_ocean                        (member_id, time, depth, lat, lon) float32 dask.array<shape=(3, 3, 1, 1, 1), chunksize=(1, 1, 1, 1, 1)>\n",
       "                  salt_0m_global_ocean                       (member_id, time, depth, lat, lon) float32 dask.array<shape=(3, 3, 1, 1, 1), chunksize=(1, 1, 1, 1, 1)>\n",
       "                  tem_200m_global_ocean                      (member_id, time, depth, lat, lon) float32 dask.array<shape=(3, 3, 1, 1, 1), chunksize=(1, 1, 1, 1, 1)>\n",
       "                  salt_200m_global_ocean                     (member_id, time, depth, lat, lon) float32 dask.array<shape=(3, 3, 1, 1, 1), chunksize=(1, 1, 1, 1, 1)>\n",
       "                  tem_800m_global_ocean                      (member_id, time, depth, lat, lon) float32 dask.array<shape=(3, 3, 1, 1, 1), chunksize=(1, 1, 1, 1, 1)>\n",
       "                  salt_800m_global_ocean                     (member_id, time, depth, lat, lon) float32 dask.array<shape=(3, 3, 1, 1, 1), chunksize=(1, 1, 1, 1, 1)>\n",
       "                  tem_2000m_global_ocean                     (member_id, time, depth, lat, lon) float32 dask.array<shape=(3, 3, 1, 1, 1), chunksize=(1, 1, 1, 1, 1)>\n",
       "                  salt_2000m_global_ocean                    (member_id, time, depth, lat, lon) float32 dask.array<shape=(3, 3, 1, 1, 1), chunksize=(1, 1, 1, 1, 1)>\n",
       "                  amoc26n                                    (member_id, time, depth, lat, lon) float32 dask.array<shape=(3, 3, 1, 1, 1), chunksize=(1, 1, 1, 1, 1)>),\n",
       "             ('pictrl', <xarray.Dataset>\n",
       "              Dimensions:                                    (depth: 1, lat: 1, lon: 1, member_id: 1, time: 3)\n",
       "              Coordinates:\n",
       "                * lon                                        (lon) float64 0.0\n",
       "                * lat                                        (lat) float64 0.0\n",
       "                * depth                                      (depth) float64 0.0\n",
       "                * time                                       (time) datetime64[ns] 1850-12-31T23:15:00 ...\n",
       "                * member_id                                  (member_id) int64 1\n",
       "              Data variables:\n",
       "                  gmsl_st                                    (member_id, time, depth, lat, lon) float32 dask.array<shape=(1, 3, 1, 1, 1), chunksize=(1, 1, 1, 1, 1)>\n",
       "                  gmsl_eu                                    (member_id, time, depth, lat, lon) float32 dask.array<shape=(1, 3, 1, 1, 1), chunksize=(1, 1, 1, 1, 1)>\n",
       "                  netwatertransport_bering_strait            (member_id, time, depth, lat, lon) float32 dask.array<shape=(1, 3, 1, 1, 1), chunksize=(1, 1, 1, 1, 1)>\n",
       "                  netwatertransport_drake_passage            (member_id, time, depth, lat, lon) float32 dask.array<shape=(1, 3, 1, 1, 1), chunksize=(1, 1, 1, 1, 1)>\n",
       "                  netwatertransport_equatorial_undercurrent  (member_id, time, depth, lat, lon) float32 dask.array<shape=(1, 3, 1, 1, 1), chunksize=(1, 1, 1, 1, 1)>\n",
       "                  sicetransport_fram_strait                  (member_id, time, depth, lat, lon) float32 dask.array<shape=(1, 3, 1, 1, 1), chunksize=(1, 1, 1, 1, 1)>\n",
       "                  netheattransport_atlantic_26n              (member_id, time, depth, lat, lon) float32 dask.array<shape=(1, 3, 1, 1, 1), chunksize=(1, 1, 1, 1, 1)>\n",
       "                  eisab_arctic_ocean                         (member_id, time, depth, lat, lon) float32 dask.array<shape=(1, 3, 1, 1, 1), chunksize=(1, 1, 1, 1, 1)>\n",
       "                  eiscb_arctic_ocean                         (member_id, time, depth, lat, lon) float32 dask.array<shape=(1, 3, 1, 1, 1), chunksize=(1, 1, 1, 1, 1)>\n",
       "                  eisab_southern_ocean                       (member_id, time, depth, lat, lon) float32 dask.array<shape=(1, 3, 1, 1, 1), chunksize=(1, 1, 1, 1, 1)>\n",
       "                  eiscb_southern_ocean                       (member_id, time, depth, lat, lon) float32 dask.array<shape=(1, 3, 1, 1, 1), chunksize=(1, 1, 1, 1, 1)>\n",
       "                  tem_0m_tropical_pacific_ocean              (member_id, time, depth, lat, lon) float32 dask.array<shape=(1, 3, 1, 1, 1), chunksize=(1, 1, 1, 1, 1)>\n",
       "                  hflb_global_ocean                          (member_id, time, depth, lat, lon) float32 dask.array<shape=(1, 3, 1, 1, 1), chunksize=(1, 1, 1, 1, 1)>\n",
       "                  wflb_global_ocean                          (member_id, time, depth, lat, lon) float32 dask.array<shape=(1, 3, 1, 1, 1), chunksize=(1, 1, 1, 1, 1)>\n",
       "                  tem_0m_global_ocean                        (member_id, time, depth, lat, lon) float32 dask.array<shape=(1, 3, 1, 1, 1), chunksize=(1, 1, 1, 1, 1)>\n",
       "                  salt_0m_global_ocean                       (member_id, time, depth, lat, lon) float32 dask.array<shape=(1, 3, 1, 1, 1), chunksize=(1, 1, 1, 1, 1)>\n",
       "                  tem_200m_global_ocean                      (member_id, time, depth, lat, lon) float32 dask.array<shape=(1, 3, 1, 1, 1), chunksize=(1, 1, 1, 1, 1)>\n",
       "                  salt_200m_global_ocean                     (member_id, time, depth, lat, lon) float32 dask.array<shape=(1, 3, 1, 1, 1), chunksize=(1, 1, 1, 1, 1)>\n",
       "                  tem_800m_global_ocean                      (member_id, time, depth, lat, lon) float32 dask.array<shape=(1, 3, 1, 1, 1), chunksize=(1, 1, 1, 1, 1)>\n",
       "                  salt_800m_global_ocean                     (member_id, time, depth, lat, lon) float32 dask.array<shape=(1, 3, 1, 1, 1), chunksize=(1, 1, 1, 1, 1)>\n",
       "                  tem_2000m_global_ocean                     (member_id, time, depth, lat, lon) float32 dask.array<shape=(1, 3, 1, 1, 1), chunksize=(1, 1, 1, 1, 1)>\n",
       "                  salt_2000m_global_ocean                    (member_id, time, depth, lat, lon) float32 dask.array<shape=(1, 3, 1, 1, 1), chunksize=(1, 1, 1, 1, 1)>\n",
       "                  amoc26n                                    (member_id, time, depth, lat, lon) float32 dask.array<shape=(1, 3, 1, 1, 1), chunksize=(1, 1, 1, 1, 1)>),\n",
       "             ('rcp85', <xarray.Dataset>\n",
       "              Dimensions:                                    (depth: 1, lat: 1, lon: 1, member_id: 3, time: 3)\n",
       "              Coordinates:\n",
       "                * lon                                        (lon) float64 0.0\n",
       "                * lat                                        (lat) float64 0.0\n",
       "                * depth                                      (depth) float64 0.0\n",
       "                * time                                       (time) datetime64[ns] 2006-12-31T23:15:00 ...\n",
       "                * member_id                                  (member_id) int64 1 2 3\n",
       "              Data variables:\n",
       "                  gmsl_st                                    (member_id, time, depth, lat, lon) float32 dask.array<shape=(3, 3, 1, 1, 1), chunksize=(1, 1, 1, 1, 1)>\n",
       "                  gmsl_eu                                    (member_id, time, depth, lat, lon) float32 dask.array<shape=(3, 3, 1, 1, 1), chunksize=(1, 1, 1, 1, 1)>\n",
       "                  netwatertransport_bering_strait            (member_id, time, depth, lat, lon) float32 dask.array<shape=(3, 3, 1, 1, 1), chunksize=(1, 1, 1, 1, 1)>\n",
       "                  netwatertransport_drake_passage            (member_id, time, depth, lat, lon) float32 dask.array<shape=(3, 3, 1, 1, 1), chunksize=(1, 1, 1, 1, 1)>\n",
       "                  netwatertransport_equatorial_undercurrent  (member_id, time, depth, lat, lon) float32 dask.array<shape=(3, 3, 1, 1, 1), chunksize=(1, 1, 1, 1, 1)>\n",
       "                  sicetransport_fram_strait                  (member_id, time, depth, lat, lon) float32 dask.array<shape=(3, 3, 1, 1, 1), chunksize=(1, 1, 1, 1, 1)>\n",
       "                  netheattransport_atlantic_26n              (member_id, time, depth, lat, lon) float32 dask.array<shape=(3, 3, 1, 1, 1), chunksize=(1, 1, 1, 1, 1)>\n",
       "                  eisab_arctic_ocean                         (member_id, time, depth, lat, lon) float32 dask.array<shape=(3, 3, 1, 1, 1), chunksize=(1, 1, 1, 1, 1)>\n",
       "                  eiscb_arctic_ocean                         (member_id, time, depth, lat, lon) float32 dask.array<shape=(3, 3, 1, 1, 1), chunksize=(1, 1, 1, 1, 1)>\n",
       "                  eisab_southern_ocean                       (member_id, time, depth, lat, lon) float32 dask.array<shape=(3, 3, 1, 1, 1), chunksize=(1, 1, 1, 1, 1)>\n",
       "                  eiscb_southern_ocean                       (member_id, time, depth, lat, lon) float32 dask.array<shape=(3, 3, 1, 1, 1), chunksize=(1, 1, 1, 1, 1)>\n",
       "                  tem_0m_tropical_pacific_ocean              (member_id, time, depth, lat, lon) float32 dask.array<shape=(3, 3, 1, 1, 1), chunksize=(1, 1, 1, 1, 1)>\n",
       "                  hflb_global_ocean                          (member_id, time, depth, lat, lon) float32 dask.array<shape=(3, 3, 1, 1, 1), chunksize=(1, 1, 1, 1, 1)>\n",
       "                  wflb_global_ocean                          (member_id, time, depth, lat, lon) float32 dask.array<shape=(3, 3, 1, 1, 1), chunksize=(1, 1, 1, 1, 1)>\n",
       "                  tem_0m_global_ocean                        (member_id, time, depth, lat, lon) float32 dask.array<shape=(3, 3, 1, 1, 1), chunksize=(1, 1, 1, 1, 1)>\n",
       "                  salt_0m_global_ocean                       (member_id, time, depth, lat, lon) float32 dask.array<shape=(3, 3, 1, 1, 1), chunksize=(1, 1, 1, 1, 1)>\n",
       "                  tem_200m_global_ocean                      (member_id, time, depth, lat, lon) float32 dask.array<shape=(3, 3, 1, 1, 1), chunksize=(1, 1, 1, 1, 1)>\n",
       "                  salt_200m_global_ocean                     (member_id, time, depth, lat, lon) float32 dask.array<shape=(3, 3, 1, 1, 1), chunksize=(1, 1, 1, 1, 1)>\n",
       "                  tem_800m_global_ocean                      (member_id, time, depth, lat, lon) float32 dask.array<shape=(3, 3, 1, 1, 1), chunksize=(1, 1, 1, 1, 1)>\n",
       "                  salt_800m_global_ocean                     (member_id, time, depth, lat, lon) float32 dask.array<shape=(3, 3, 1, 1, 1), chunksize=(1, 1, 1, 1, 1)>\n",
       "                  tem_2000m_global_ocean                     (member_id, time, depth, lat, lon) float32 dask.array<shape=(3, 3, 1, 1, 1), chunksize=(1, 1, 1, 1, 1)>\n",
       "                  salt_2000m_global_ocean                    (member_id, time, depth, lat, lon) float32 dask.array<shape=(3, 3, 1, 1, 1), chunksize=(1, 1, 1, 1, 1)>\n",
       "                  amoc26n                                    (member_id, time, depth, lat, lon) float32 dask.array<shape=(3, 3, 1, 1, 1), chunksize=(1, 1, 1, 1, 1)>)])"
      ]
     },
     "execution_count": 11,
     "metadata": {},
     "output_type": "execute_result"
    }
   ],
   "source": [
    "ds = cat3.to_xarray(merge_exp=True)\n",
    "ds"
   ]
  },
  {
   "cell_type": "code",
   "execution_count": 12,
   "metadata": {},
   "outputs": [],
   "source": [
    "%load_ext watermark"
   ]
  },
  {
   "cell_type": "code",
   "execution_count": 13,
   "metadata": {},
   "outputs": [
    {
     "name": "stdout",
     "output_type": "stream",
     "text": [
      "intake 0.4.1\n",
      "last updated: 2019-04-25 \n",
      "\n",
      "CPython 3.6.7\n",
      "IPython 7.1.1\n",
      "\n",
      "compiler   : GCC 4.2.1 Compatible Clang 4.0.1 (tags/RELEASE_401/final)\n",
      "system     : Darwin\n",
      "release    : 17.7.0\n",
      "machine    : x86_64\n",
      "processor  : i386\n",
      "CPU cores  : 8\n",
      "interpreter: 64bit\n",
      "Git hash   : 90b6eed2869c557066a5aea345f59da5178f00f5\n"
     ]
    }
   ],
   "source": [
    "%watermark --iversion -g  -m -v -u -d"
   ]
  }
 ],
 "metadata": {
  "kernelspec": {
   "display_name": "Python [conda env:pangeo]",
   "language": "python",
   "name": "conda-env-pangeo-py"
  },
  "language_info": {
   "codemirror_mode": {
    "name": "ipython",
    "version": 3
   },
   "file_extension": ".py",
   "mimetype": "text/x-python",
   "name": "python",
   "nbconvert_exporter": "python",
   "pygments_lexer": "ipython3",
   "version": "3.6.7"
  }
 },
 "nbformat": 4,
 "nbformat_minor": 2
}
