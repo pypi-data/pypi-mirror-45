{
 "cells": [
  {
   "cell_type": "markdown",
   "metadata": {},
   "source": [
    "## Building a CESM Collection Catalog\n",
    "\n",
    "\n",
    "Building a CESM collection catalog follows the same steps that are used when building a CMIP collection catalog:\n",
    "\n",
    "- Define a collection catalog in a YAML or nested dictionary\n",
    "- Pass this collection definition to ``intake_open_esm_metadatastore()`` class.\n",
    "- Use the built collection catalog\n",
    "\n",
    "For demonstration purposes, we are going to use data from CESM-LE project."
   ]
  },
  {
   "cell_type": "code",
   "execution_count": 1,
   "metadata": {},
   "outputs": [
    {
     "name": "stderr",
     "output_type": "stream",
     "text": [
      "/Users/abanihi/opt/miniconda3/envs/pangeo/lib/python3.6/site-packages/tqdm/autonotebook/__init__.py:14: TqdmExperimentalWarning: Using `tqdm.autonotebook.tqdm` in notebook mode. Use `tqdm.tqdm` instead to force console mode (e.g. in jupyter console)\n",
      "  \" (e.g. in jupyter console)\", TqdmExperimentalWarning)\n"
     ]
    }
   ],
   "source": [
    "import intake"
   ]
  },
  {
   "cell_type": "code",
   "execution_count": 2,
   "metadata": {},
   "outputs": [],
   "source": [
    "cdefinition = {'name': 'cesm1-le_test',\n",
    "                'collection_type': 'cesm',\n",
    "                'include_cache_dir': True,\n",
    "                'data_sources': {'CTRL': {'locations': [{'name': 'SAMPLE-DATA',\n",
    "                    'loc_type': 'posix',\n",
    "                    'direct_access': True,\n",
    "                    'urlpath': '../../../tests/sample_data/cesm-le'}],\n",
    "                'component_attrs': {'ocn': {'grid': 'POP_gx1v6'}},\n",
    "                'case_members': [{'case': 'b.e11.B1850C5CN.f09_g16.005',\n",
    "                    'sequence_order': 0,\n",
    "                    'ensemble': 0,\n",
    "                    'has_ocean_bgc': True,\n",
    "                    'year_offset': 1448}]},\n",
    "                '20C': {'locations': [{'name': 'SAMPLE-DATA',\n",
    "                    'loc_type': 'posix',\n",
    "                    'direct_access': True,\n",
    "                    'urlpath': '../../../tests/sample_data/cesm-le'}],\n",
    "                'component_attrs': {'ocn': {'grid': 'POP_gx1v6'}},\n",
    "                'case_members': [{'case': 'b.e11.B20TRC5CNBDRD.f09_g16.001',\n",
    "                    'sequence_order': 0,\n",
    "                    'ensemble': 1,\n",
    "                    'has_ocean_bgc': True}]}}}"
   ]
  },
  {
   "cell_type": "markdown",
   "metadata": {},
   "source": [
    "### Building the Collection"
   ]
  },
  {
   "cell_type": "markdown",
   "metadata": {},
   "source": [
    "The build method loops over all the experiments and each of the ensemble members therein.\n",
    "It attempts to parse file name; it fails in some instances and skips these files with a warning.\n",
    "If HPSS access is not available (such as from compute nodes on Cheyenne),\n",
    "this resource is omitted from the catalog."
   ]
  },
  {
   "cell_type": "code",
   "execution_count": 3,
   "metadata": {},
   "outputs": [
    {
     "name": "stderr",
     "output_type": "stream",
     "text": [
      "Working on experiment: CTRL\n",
      "Getting file listing : SAMPLE-DATA:posix:../../../tests/sample_data/cesm-le\n",
      "Building file database : SAMPLE-DATA:posix:../../../tests/sample_data/cesm-le\n",
      "Getting file listing : CACHE:posix:/var/folders/z7/sdhzbbr96bv2wjrsb92qsm3dwz5p3x/T//.intake_esm/data_cache\n",
      "Building file database : CACHE:posix:/var/folders/z7/sdhzbbr96bv2wjrsb92qsm3dwz5p3x/T//.intake_esm/data_cache\n",
      "/Users/abanihi/opt/miniconda3/envs/pangeo/lib/python3.6/site-packages/pandas/core/ops.py:1649: FutureWarning: elementwise comparison failed; returning scalar instead, but in the future will perform elementwise comparison\n",
      "  result = method(y)\n",
      "Working on experiment: 20C\n",
      "Getting file listing : SAMPLE-DATA:posix:../../../tests/sample_data/cesm-le\n",
      "Building file database : SAMPLE-DATA:posix:../../../tests/sample_data/cesm-le\n",
      "Getting file listing : CACHE:posix:/var/folders/z7/sdhzbbr96bv2wjrsb92qsm3dwz5p3x/T//.intake_esm/data_cache\n",
      "Building file database : CACHE:posix:/var/folders/z7/sdhzbbr96bv2wjrsb92qsm3dwz5p3x/T//.intake_esm/data_cache\n",
      "None\n"
     ]
    },
    {
     "name": "stdout",
     "output_type": "stream",
     "text": [
      "<class 'pandas.core.frame.DataFrame'>\n",
      "RangeIndex: 38 entries, 0 to 37\n",
      "Data columns (total 18 columns):\n",
      "resource            38 non-null object\n",
      "resource_type       38 non-null object\n",
      "direct_access       38 non-null object\n",
      "experiment          38 non-null object\n",
      "case                38 non-null object\n",
      "component           38 non-null object\n",
      "stream              38 non-null object\n",
      "variable            38 non-null object\n",
      "date_range          38 non-null object\n",
      "ensemble            38 non-null object\n",
      "file_fullpath       38 non-null object\n",
      "file_basename       38 non-null object\n",
      "file_dirname        38 non-null object\n",
      "ctrl_branch_year    0 non-null object\n",
      "year_offset         36 non-null object\n",
      "sequence_order      38 non-null object\n",
      "has_ocean_bgc       38 non-null object\n",
      "grid                38 non-null object\n",
      "dtypes: object(18)\n",
      "memory usage: 5.4+ KB\n",
      "Persisting cesm1-le_test at : /Users/abanihi/.intake_esm/collections/cesm/cesm1-le_test.cesm.csv\n"
     ]
    }
   ],
   "source": [
    "col = intake.open_esm_metadatastore(collection_input_definition=cdefinition,\n",
    "                                       overwrite_existing=True)"
   ]
  },
  {
   "cell_type": "markdown",
   "metadata": {},
   "source": [
    "### Using the Built Collection"
   ]
  },
  {
   "cell_type": "code",
   "execution_count": 4,
   "metadata": {},
   "outputs": [
    {
     "data": {
      "text/html": [
       "<div>\n",
       "<style scoped>\n",
       "    .dataframe tbody tr th:only-of-type {\n",
       "        vertical-align: middle;\n",
       "    }\n",
       "\n",
       "    .dataframe tbody tr th {\n",
       "        vertical-align: top;\n",
       "    }\n",
       "\n",
       "    .dataframe thead th {\n",
       "        text-align: right;\n",
       "    }\n",
       "</style>\n",
       "<table border=\"1\" class=\"dataframe\">\n",
       "  <thead>\n",
       "    <tr style=\"text-align: right;\">\n",
       "      <th></th>\n",
       "      <th>resource</th>\n",
       "      <th>resource_type</th>\n",
       "      <th>direct_access</th>\n",
       "      <th>experiment</th>\n",
       "      <th>case</th>\n",
       "      <th>component</th>\n",
       "      <th>stream</th>\n",
       "      <th>variable</th>\n",
       "      <th>date_range</th>\n",
       "      <th>ensemble</th>\n",
       "      <th>file_fullpath</th>\n",
       "      <th>file_basename</th>\n",
       "      <th>file_dirname</th>\n",
       "      <th>ctrl_branch_year</th>\n",
       "      <th>year_offset</th>\n",
       "      <th>sequence_order</th>\n",
       "      <th>has_ocean_bgc</th>\n",
       "      <th>grid</th>\n",
       "    </tr>\n",
       "  </thead>\n",
       "  <tbody>\n",
       "    <tr>\n",
       "      <th>0</th>\n",
       "      <td>SAMPLE-DATA:posix:../../../tests/sample_data/c...</td>\n",
       "      <td>posix</td>\n",
       "      <td>True</td>\n",
       "      <td>20C</td>\n",
       "      <td>b.e11.B20TRC5CNBDRD.f09_g16.001</td>\n",
       "      <td>ocn</td>\n",
       "      <td>pop.h</td>\n",
       "      <td>SHF</td>\n",
       "      <td>185001-200512</td>\n",
       "      <td>1</td>\n",
       "      <td>../../../tests/sample_data/cesm-le/b.e11.B20TR...</td>\n",
       "      <td>b.e11.B20TRC5CNBDRD.f09_g16.001.pop.h.SHF.1850...</td>\n",
       "      <td>../../../tests/sample_data/cesm-le/</td>\n",
       "      <td>NaN</td>\n",
       "      <td>NaN</td>\n",
       "      <td>0</td>\n",
       "      <td>True</td>\n",
       "      <td>POP_gx1v6</td>\n",
       "    </tr>\n",
       "    <tr>\n",
       "      <th>1</th>\n",
       "      <td>SAMPLE-DATA:posix:../../../tests/sample_data/c...</td>\n",
       "      <td>posix</td>\n",
       "      <td>True</td>\n",
       "      <td>20C</td>\n",
       "      <td>b.e11.B20TRC5CNBDRD.f09_g16.001</td>\n",
       "      <td>ocn</td>\n",
       "      <td>pop.h</td>\n",
       "      <td>STF_O2</td>\n",
       "      <td>185001-200512</td>\n",
       "      <td>1</td>\n",
       "      <td>../../../tests/sample_data/cesm-le/b.e11.B20TR...</td>\n",
       "      <td>b.e11.B20TRC5CNBDRD.f09_g16.001.pop.h.STF_O2.1...</td>\n",
       "      <td>../../../tests/sample_data/cesm-le/</td>\n",
       "      <td>NaN</td>\n",
       "      <td>NaN</td>\n",
       "      <td>0</td>\n",
       "      <td>True</td>\n",
       "      <td>POP_gx1v6</td>\n",
       "    </tr>\n",
       "    <tr>\n",
       "      <th>2</th>\n",
       "      <td>SAMPLE-DATA:posix:../../../tests/sample_data/c...</td>\n",
       "      <td>posix</td>\n",
       "      <td>True</td>\n",
       "      <td>CTRL</td>\n",
       "      <td>b.e11.B1850C5CN.f09_g16.005</td>\n",
       "      <td>ocn</td>\n",
       "      <td>pop.h</td>\n",
       "      <td>STF_O2</td>\n",
       "      <td>190001-199912</td>\n",
       "      <td>0</td>\n",
       "      <td>../../../tests/sample_data/cesm-le/b.e11.B1850...</td>\n",
       "      <td>b.e11.B1850C5CN.f09_g16.005.pop.h.STF_O2.19000...</td>\n",
       "      <td>../../../tests/sample_data/cesm-le/</td>\n",
       "      <td>NaN</td>\n",
       "      <td>1448.0</td>\n",
       "      <td>0</td>\n",
       "      <td>True</td>\n",
       "      <td>POP_gx1v6</td>\n",
       "    </tr>\n",
       "    <tr>\n",
       "      <th>3</th>\n",
       "      <td>SAMPLE-DATA:posix:../../../tests/sample_data/c...</td>\n",
       "      <td>posix</td>\n",
       "      <td>True</td>\n",
       "      <td>CTRL</td>\n",
       "      <td>b.e11.B1850C5CN.f09_g16.005</td>\n",
       "      <td>ocn</td>\n",
       "      <td>pop.h</td>\n",
       "      <td>SHF</td>\n",
       "      <td>090001-099912</td>\n",
       "      <td>0</td>\n",
       "      <td>../../../tests/sample_data/cesm-le/b.e11.B1850...</td>\n",
       "      <td>b.e11.B1850C5CN.f09_g16.005.pop.h.SHF.090001-0...</td>\n",
       "      <td>../../../tests/sample_data/cesm-le/</td>\n",
       "      <td>NaN</td>\n",
       "      <td>1448.0</td>\n",
       "      <td>0</td>\n",
       "      <td>True</td>\n",
       "      <td>POP_gx1v6</td>\n",
       "    </tr>\n",
       "    <tr>\n",
       "      <th>4</th>\n",
       "      <td>SAMPLE-DATA:posix:../../../tests/sample_data/c...</td>\n",
       "      <td>posix</td>\n",
       "      <td>True</td>\n",
       "      <td>CTRL</td>\n",
       "      <td>b.e11.B1850C5CN.f09_g16.005</td>\n",
       "      <td>ocn</td>\n",
       "      <td>pop.h</td>\n",
       "      <td>STF_O2</td>\n",
       "      <td>090001-099912</td>\n",
       "      <td>0</td>\n",
       "      <td>../../../tests/sample_data/cesm-le/b.e11.B1850...</td>\n",
       "      <td>b.e11.B1850C5CN.f09_g16.005.pop.h.STF_O2.09000...</td>\n",
       "      <td>../../../tests/sample_data/cesm-le/</td>\n",
       "      <td>NaN</td>\n",
       "      <td>1448.0</td>\n",
       "      <td>0</td>\n",
       "      <td>True</td>\n",
       "      <td>POP_gx1v6</td>\n",
       "    </tr>\n",
       "  </tbody>\n",
       "</table>\n",
       "</div>"
      ],
      "text/plain": [
       "                                            resource resource_type  \\\n",
       "0  SAMPLE-DATA:posix:../../../tests/sample_data/c...         posix   \n",
       "1  SAMPLE-DATA:posix:../../../tests/sample_data/c...         posix   \n",
       "2  SAMPLE-DATA:posix:../../../tests/sample_data/c...         posix   \n",
       "3  SAMPLE-DATA:posix:../../../tests/sample_data/c...         posix   \n",
       "4  SAMPLE-DATA:posix:../../../tests/sample_data/c...         posix   \n",
       "\n",
       "   direct_access experiment                             case component stream  \\\n",
       "0           True        20C  b.e11.B20TRC5CNBDRD.f09_g16.001       ocn  pop.h   \n",
       "1           True        20C  b.e11.B20TRC5CNBDRD.f09_g16.001       ocn  pop.h   \n",
       "2           True       CTRL      b.e11.B1850C5CN.f09_g16.005       ocn  pop.h   \n",
       "3           True       CTRL      b.e11.B1850C5CN.f09_g16.005       ocn  pop.h   \n",
       "4           True       CTRL      b.e11.B1850C5CN.f09_g16.005       ocn  pop.h   \n",
       "\n",
       "  variable     date_range  ensemble  \\\n",
       "0      SHF  185001-200512         1   \n",
       "1   STF_O2  185001-200512         1   \n",
       "2   STF_O2  190001-199912         0   \n",
       "3      SHF  090001-099912         0   \n",
       "4   STF_O2  090001-099912         0   \n",
       "\n",
       "                                       file_fullpath  \\\n",
       "0  ../../../tests/sample_data/cesm-le/b.e11.B20TR...   \n",
       "1  ../../../tests/sample_data/cesm-le/b.e11.B20TR...   \n",
       "2  ../../../tests/sample_data/cesm-le/b.e11.B1850...   \n",
       "3  ../../../tests/sample_data/cesm-le/b.e11.B1850...   \n",
       "4  ../../../tests/sample_data/cesm-le/b.e11.B1850...   \n",
       "\n",
       "                                       file_basename  \\\n",
       "0  b.e11.B20TRC5CNBDRD.f09_g16.001.pop.h.SHF.1850...   \n",
       "1  b.e11.B20TRC5CNBDRD.f09_g16.001.pop.h.STF_O2.1...   \n",
       "2  b.e11.B1850C5CN.f09_g16.005.pop.h.STF_O2.19000...   \n",
       "3  b.e11.B1850C5CN.f09_g16.005.pop.h.SHF.090001-0...   \n",
       "4  b.e11.B1850C5CN.f09_g16.005.pop.h.STF_O2.09000...   \n",
       "\n",
       "                          file_dirname  ctrl_branch_year  year_offset  \\\n",
       "0  ../../../tests/sample_data/cesm-le/               NaN          NaN   \n",
       "1  ../../../tests/sample_data/cesm-le/               NaN          NaN   \n",
       "2  ../../../tests/sample_data/cesm-le/               NaN       1448.0   \n",
       "3  ../../../tests/sample_data/cesm-le/               NaN       1448.0   \n",
       "4  ../../../tests/sample_data/cesm-le/               NaN       1448.0   \n",
       "\n",
       "   sequence_order  has_ocean_bgc       grid  \n",
       "0               0           True  POP_gx1v6  \n",
       "1               0           True  POP_gx1v6  \n",
       "2               0           True  POP_gx1v6  \n",
       "3               0           True  POP_gx1v6  \n",
       "4               0           True  POP_gx1v6  "
      ]
     },
     "execution_count": 4,
     "metadata": {},
     "output_type": "execute_result"
    }
   ],
   "source": [
    "col.df.head()"
   ]
  },
  {
   "cell_type": "markdown",
   "metadata": {},
   "source": [
    "Now you can query the collection catalog and load data sets of interests into xarray objects.\n"
   ]
  },
  {
   "cell_type": "code",
   "execution_count": 5,
   "metadata": {},
   "outputs": [],
   "source": [
    "cat = col.search(\n",
    "                variable=['STF_O2', 'SHF'],\n",
    "                ensemble=[1, 3, 9],\n",
    "                experiment=['20C', 'RCP85'],\n",
    "                direct_access=True,\n",
    "            )"
   ]
  },
  {
   "cell_type": "code",
   "execution_count": 6,
   "metadata": {},
   "outputs": [
    {
     "name": "stdout",
     "output_type": "stream",
     "text": [
      "plugins:\n",
      "  source:\n",
      "  - module: intake_esm.cesm\n",
      "sources:\n",
      "  cesm1-le_test_7c700660-ffcc-4ce1-a24f-a5bf45924d32:\n",
      "    args:\n",
      "      collection_name: cesm1-le_test\n",
      "      query:\n",
      "        case: null\n",
      "        component: null\n",
      "        ctrl_branch_year: null\n",
      "        date_range: null\n",
      "        direct_access: true\n",
      "        ensemble:\n",
      "        - 1\n",
      "        - 3\n",
      "        - 9\n",
      "        experiment:\n",
      "        - 20C\n",
      "        - RCP85\n",
      "        file_basename: null\n",
      "        file_dirname: null\n",
      "        file_fullpath: null\n",
      "        grid: null\n",
      "        has_ocean_bgc: null\n",
      "        resource: null\n",
      "        resource_type: null\n",
      "        sequence_order: null\n",
      "        stream: null\n",
      "        variable:\n",
      "        - STF_O2\n",
      "        - SHF\n",
      "        year_offset: null\n",
      "    description: Catalog entry from cesm1-le_test collection\n",
      "    driver: cesm\n",
      "    metadata:\n",
      "      cache: {}\n",
      "      catalog_dir: ''\n",
      "\n"
     ]
    }
   ],
   "source": [
    "print(cat.yaml(True))"
   ]
  },
  {
   "cell_type": "markdown",
   "metadata": {},
   "source": [
    "**NOTE**:\n",
    "    \n",
    "\n",
    "``to_xarray()`` method returns a dictionary of ``xarray`` datasets. The keys in this dictionary are constructed as follows:\n",
    "\n",
    "- For CESM data, ``key=<stream>.<component>``"
   ]
  },
  {
   "cell_type": "code",
   "execution_count": 7,
   "metadata": {},
   "outputs": [
    {
     "data": {
      "application/vnd.jupyter.widget-view+json": {
       "model_id": "305b596bcc0842d9bc7094c663234d9d",
       "version_major": 2,
       "version_minor": 0
      },
      "text/plain": [
       "HBox(children=(IntProgress(value=0, description='dataset', max=1, style=ProgressStyle(description_width='initi…"
      ]
     },
     "metadata": {},
     "output_type": "display_data"
    },
    {
     "data": {
      "application/vnd.jupyter.widget-view+json": {
       "model_id": "105caed643004b79b4cb41247a6d4258",
       "version_major": 2,
       "version_minor": 0
      },
      "text/plain": [
       "HBox(children=(IntProgress(value=0, description='member', max=1, style=ProgressStyle(description_width='initia…"
      ]
     },
     "metadata": {},
     "output_type": "display_data"
    },
    {
     "name": "stdout",
     "output_type": "stream",
     "text": [
      "\n"
     ]
    },
    {
     "data": {
      "text/plain": [
       "{'pop.h.ocn': <xarray.Dataset>\n",
       " Dimensions:               (d2: 2, lat_aux_grid: 395, moc_comp: 3, moc_z: 61, nchar: 256, nlat: 2, nlon: 2, time: 1872, transport_comp: 5, transport_reg: 2, z_t: 60, z_t_150m: 15, z_w: 60, z_w_bot: 60, z_w_top: 60)\n",
       " Coordinates:\n",
       "     ANGLE                 (nlat, nlon) float64 dask.array<shape=(2, 2), chunksize=(2, 2)>\n",
       "     ANGLET                (nlat, nlon) float64 dask.array<shape=(2, 2), chunksize=(2, 2)>\n",
       "     DXT                   (nlat, nlon) float64 dask.array<shape=(2, 2), chunksize=(2, 2)>\n",
       "     DXU                   (nlat, nlon) float64 dask.array<shape=(2, 2), chunksize=(2, 2)>\n",
       "     DYT                   (nlat, nlon) float64 dask.array<shape=(2, 2), chunksize=(2, 2)>\n",
       "     DYU                   (nlat, nlon) float64 dask.array<shape=(2, 2), chunksize=(2, 2)>\n",
       "     HT                    (nlat, nlon) float64 dask.array<shape=(2, 2), chunksize=(2, 2)>\n",
       "     HTE                   (nlat, nlon) float64 dask.array<shape=(2, 2), chunksize=(2, 2)>\n",
       "     HTN                   (nlat, nlon) float64 dask.array<shape=(2, 2), chunksize=(2, 2)>\n",
       "     HU                    (nlat, nlon) float64 dask.array<shape=(2, 2), chunksize=(2, 2)>\n",
       "     HUS                   (nlat, nlon) float64 dask.array<shape=(2, 2), chunksize=(2, 2)>\n",
       "     HUW                   (nlat, nlon) float64 dask.array<shape=(2, 2), chunksize=(2, 2)>\n",
       "     KMT                   (nlat, nlon) float64 dask.array<shape=(2, 2), chunksize=(2, 2)>\n",
       "     KMU                   (nlat, nlon) float64 dask.array<shape=(2, 2), chunksize=(2, 2)>\n",
       "     REGION_MASK           (nlat, nlon) float64 dask.array<shape=(2, 2), chunksize=(2, 2)>\n",
       "     T0_Kelvin             float64 ...\n",
       "     TAREA                 (nlat, nlon) float64 dask.array<shape=(2, 2), chunksize=(2, 2)>\n",
       "     TLAT                  (nlat, nlon) float64 dask.array<shape=(2, 2), chunksize=(2, 2)>\n",
       "     TLONG                 (nlat, nlon) float64 dask.array<shape=(2, 2), chunksize=(2, 2)>\n",
       "     UAREA                 (nlat, nlon) float64 dask.array<shape=(2, 2), chunksize=(2, 2)>\n",
       "     ULAT                  (nlat, nlon) float64 dask.array<shape=(2, 2), chunksize=(2, 2)>\n",
       "     ULONG                 (nlat, nlon) float64 dask.array<shape=(2, 2), chunksize=(2, 2)>\n",
       "     cp_air                float64 ...\n",
       "     cp_sw                 float64 ...\n",
       "     days_in_norm_year     float64 ...\n",
       "     dz                    (z_t) float32 dask.array<shape=(60,), chunksize=(60,)>\n",
       "     dzw                   (z_w) float32 dask.array<shape=(60,), chunksize=(60,)>\n",
       "     fwflux_factor         float64 ...\n",
       "     grav                  float64 ...\n",
       "     heat_to_PW            float64 ...\n",
       "     hflux_factor          float64 ...\n",
       "   * lat_aux_grid          (lat_aux_grid) float32 -79.48815 -78.952896 ...\n",
       "     latent_heat_fusion    float64 ...\n",
       "     latent_heat_vapor     float64 ...\n",
       "     mass_to_Sv            float64 ...\n",
       "     moc_components        (moc_comp, nchar) |S1 dask.array<shape=(3, 256), chunksize=(3, 256)>\n",
       "   * moc_z                 (moc_z) float32 0.0 1000.0 2000.0 3000.0 4000.0 ...\n",
       "     momentum_factor       float64 ...\n",
       "     nsurface_t            float64 ...\n",
       "     nsurface_u            float64 ...\n",
       "     ocn_ref_salinity      float64 ...\n",
       "     omega                 float64 ...\n",
       "     ppt_to_salt           float64 ...\n",
       "     radius                float64 ...\n",
       "     rho_air               float64 ...\n",
       "     rho_fw                float64 ...\n",
       "     rho_sw                float64 ...\n",
       "     salinity_factor       float64 ...\n",
       "     salt_to_Svppt         float64 ...\n",
       "     salt_to_mmday         float64 ...\n",
       "     salt_to_ppt           float64 ...\n",
       "     sea_ice_salinity      float64 ...\n",
       "     sflux_factor          float64 ...\n",
       "     sound                 float64 ...\n",
       "     stefan_boltzmann      float64 ...\n",
       "   * time                  (time) float64 6.753e+05 6.753e+05 6.753e+05 ...\n",
       "     time_bound            (time, d2) float64 dask.array<shape=(1872, 2), chunksize=(100, 2)>\n",
       "     transport_components  (transport_comp, nchar) |S1 dask.array<shape=(5, 256), chunksize=(5, 256)>\n",
       "     transport_regions     (transport_reg, nchar) |S1 dask.array<shape=(2, 256), chunksize=(2, 256)>\n",
       "     vonkar                float64 ...\n",
       "   * z_t                   (z_t) float32 500.0 1500.0 2500.0 3500.0 4500.0 ...\n",
       "   * z_t_150m              (z_t_150m) float32 500.0 1500.0 2500.0 3500.0 ...\n",
       "   * z_w                   (z_w) float32 0.0 1000.0 2000.0 3000.0 4000.0 ...\n",
       "   * z_w_bot               (z_w_bot) float32 1000.0 2000.0 3000.0 4000.0 ...\n",
       "   * z_w_top               (z_w_top) float32 0.0 1000.0 2000.0 3000.0 4000.0 ...\n",
       " Dimensions without coordinates: d2, moc_comp, nchar, nlat, nlon, transport_comp, transport_reg\n",
       " Data variables:\n",
       "     SHF                   (time, nlat, nlon) float32 dask.array<shape=(1872, 2, 2), chunksize=(100, 2, 2)>\n",
       "     STF_O2                (time, nlat, nlon) float32 dask.array<shape=(1872, 2, 2), chunksize=(100, 2, 2)>\n",
       " Attributes:\n",
       "     NCO:                       4.3.4\n",
       "     title:                     b.e11.B20TRC5CNBDRD.f09_g16.001\n",
       "     contents:                  Diagnostic and Prognostic Variables\n",
       "     tavg_sum:                  2592000.0\n",
       "     calendar:                  All years have exactly  365 days.\n",
       "     start_time:                This dataset was created on 2013-05-24 at 14:5...\n",
       "     Conventions:               CF-1.0; http://www.cgd.ucar.edu/cms/eaton/netc...\n",
       "     cell_methods:              cell_methods = time: mean ==> the variable val...\n",
       "     nco_openmp_thread_number:  1\n",
       "     history:                   2019-04-25 16:51:29.267116 xarray.open_dataset...\n",
       "     revision:                  $Id: tavg.F90 41939 2012-11-14 16:37:23Z mlevy...\n",
       "     tavg_sum_qflux:            2592000.0\n",
       "     source:                    CCSM POP2, the CCSM Ocean Component\n",
       "     nsteps_total:              750}"
      ]
     },
     "execution_count": 7,
     "metadata": {},
     "output_type": "execute_result"
    }
   ],
   "source": [
    "ds = cat.to_xarray(decode_times=False, chunks={'time': 100})\n",
    "ds"
   ]
  },
  {
   "cell_type": "code",
   "execution_count": 8,
   "metadata": {},
   "outputs": [],
   "source": [
    "%load_ext watermark"
   ]
  },
  {
   "cell_type": "code",
   "execution_count": 9,
   "metadata": {},
   "outputs": [
    {
     "name": "stdout",
     "output_type": "stream",
     "text": [
      "intake 0.4.1\n",
      "last updated: 2019-04-25 \n",
      "\n",
      "CPython 3.6.7\n",
      "IPython 7.1.1\n",
      "\n",
      "compiler   : GCC 4.2.1 Compatible Clang 4.0.1 (tags/RELEASE_401/final)\n",
      "system     : Darwin\n",
      "release    : 17.7.0\n",
      "machine    : x86_64\n",
      "processor  : i386\n",
      "CPU cores  : 8\n",
      "interpreter: 64bit\n",
      "Git hash   : 149e935866c2744d86be503a2289bd48562c1d20\n"
     ]
    }
   ],
   "source": [
    "%watermark --iversion -g  -m -v -u -d"
   ]
  }
 ],
 "metadata": {
  "kernelspec": {
   "display_name": "Python [conda env:pangeo]",
   "language": "python",
   "name": "conda-env-pangeo-py"
  },
  "language_info": {
   "codemirror_mode": {
    "name": "ipython",
    "version": 3
   },
   "file_extension": ".py",
   "mimetype": "text/x-python",
   "name": "python",
   "nbconvert_exporter": "python",
   "pygments_lexer": "ipython3",
   "version": "3.6.7"
  }
 },
 "nbformat": 4,
 "nbformat_minor": 2
}
