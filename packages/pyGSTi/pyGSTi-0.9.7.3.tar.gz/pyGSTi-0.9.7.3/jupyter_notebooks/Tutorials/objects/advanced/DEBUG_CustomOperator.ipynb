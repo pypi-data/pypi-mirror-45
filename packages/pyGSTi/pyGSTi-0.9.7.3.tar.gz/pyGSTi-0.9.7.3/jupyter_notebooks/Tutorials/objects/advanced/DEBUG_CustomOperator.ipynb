{
 "cells": [
  {
   "cell_type": "markdown",
   "metadata": {},
   "source": [
    "# Tutorial on creating a custom operator (e.g. gate)\n",
    "\n",
    "This tutorial demonstrates the process of creating your own gate operation.  One can view gate (or layer) operations in pyGSTi as simply parameterized process matrices: a mapping that associates with any given set of parameter values a process matrix.  This mapping is encapsulated by a `LinearOperator`-derived class in pyGSTi, and in addition to using the ones included with pyGSTi (e.g. `FullDenseOp`, see the [Operator tutorial](Operators.ipynb) for more examples) you're free to make your own.  That's exactly what we'll be doing here.\n",
    "\n",
    "There are lots of good reasons for doing this, the foremost being that you have a specific way you want to model a gate operation that is specific to your system's physics and not captured by pyGSTi's more generic built-in operation classes.  You also may want to make an operation whose parameters are exactly the \"knobs\" that you have access to in the lab.  Whatever the reason, pyGSTi has been designed to make the creation of custom operator types easy and straightforward.\n",
    "\n",
    "In this example, we'll be creating a custom 1-qubit gate operation.  It will be a $X(\\pi/2)$-rotation that may have some amount of depolarization and \"on-axis\" overrotation, but no other imperfections.  Thus, it will only have to parameters: the depolarization and the overrotation amounts.\n",
    "\n",
    "Here's a class which implements this operation.  We'll explain what different parts do below."
   ]
  },
  {
   "cell_type": "code",
   "execution_count": 4,
   "metadata": {},
   "outputs": [],
   "source": [
    "import pygsti\n",
    "import numpy as np\n",
    "\n",
    "class MyXPiOver2Op(pygsti.obj.DenseOperator):\n",
    "    def __init__(self):\n",
    "        self.from_vector([0,0])\n",
    "        \n",
    "    def num_params(self): \n",
    "        return 2\n",
    "    \n",
    "    def to_vector(self):\n",
    "        return np.array([self.depol_amt, self.over_rotation],'d')\n",
    "        \n",
    "    def from_vector(self,v):\n",
    "        self.depol_amt = v[0]\n",
    "        self.over_rotation = v[1]\n",
    "        \n",
    "        theta = (np.pi/2 + self.over_rotation)/2\n",
    "        a = 1.0-self.depol_amt\n",
    "        b = 2*np.cos(theta)*np.sin(theta)\n",
    "        c = np.sin(theta)**2 - np.cos(theta)**2\n",
    "        \n",
    "        self.base = np.array([[1,   0,   0,   0],\n",
    "                              [0,   a,   0,   0],\n",
    "                              [0,   0,   c,  -b],\n",
    "                              [0,   0,   b,   c]],'d')"
   ]
  },
  {
   "cell_type": "code",
   "execution_count": null,
   "metadata": {},
   "outputs": [],
   "source": []
  },
  {
   "cell_type": "code",
   "execution_count": null,
   "metadata": {},
   "outputs": [],
   "source": []
  },
  {
   "cell_type": "code",
   "execution_count": null,
   "metadata": {},
   "outputs": [],
   "source": []
  },
  {
   "cell_type": "code",
   "execution_count": 8,
   "metadata": {},
   "outputs": [
    {
     "data": {
      "text/plain": [
       "array([[ 1.00000000e+00,  0.00000000e+00,  1.46254688e-16,\n",
       "         1.71014125e-17],\n",
       "       [ 0.00000000e+00,  1.00000000e+00,  0.00000000e+00,\n",
       "         0.00000000e+00],\n",
       "       [-7.63615546e-17,  0.00000000e+00, -9.98334166e-02,\n",
       "        -9.95004165e-01],\n",
       "       [ 1.21168839e-16,  0.00000000e+00,  9.95004165e-01,\n",
       "        -9.98334166e-02]])"
      ]
     },
     "execution_count": 8,
     "metadata": {},
     "output_type": "execute_result"
    }
   ],
   "source": [
    "pygsti.construction.single_qubit_gate(np.pi/4 + 0.05,0,0)"
   ]
  },
  {
   "cell_type": "code",
   "execution_count": 44,
   "metadata": {},
   "outputs": [
    {
     "name": "stdout",
     "output_type": "stream",
     "text": [
      "0.7415636913464777\n",
      "0.6708824723277438\n",
      "0.5499167083234141\n",
      "0.4500832916765859\n",
      "0.49750208263901285\n",
      "0.09983341664682821\n",
      "0.9950041652780257\n"
     ]
    }
   ],
   "source": [
    "a = (np.pi/4+0.05) \n",
    "print(np.sin(a) )\n",
    "print(np.cos(a) )\n",
    "print(np.sin(a)**2 )\n",
    "print(np.cos(a)**2 )\n",
    "print(np.cos(a)*np.sin(a) )\n",
    "print(0.5 * 2*(np.sin(a)**2 - np.cos(a)**2) )\n",
    "print(0.5 * 2*(2*np.cos(a)*np.sin(a)) )\n",
    "X = np.array([[0,1],[1,0]],'d')"
   ]
  },
  {
   "cell_type": "code",
   "execution_count": 37,
   "metadata": {},
   "outputs": [
    {
     "name": "stdout",
     "output_type": "stream",
     "text": [
      "   0.4501       +0j        0  +0.4975j        0  -0.4975j   0.5499       +0j\n",
      "        0  +0.4975j   0.4501       +0j   0.5499       +0j        0  -0.4975j\n",
      "        0  -0.4975j   0.5499       +0j   0.4501       +0j        0  +0.4975j\n",
      "   0.5499       +0j        0  -0.4975j        0  +0.4975j   0.4501       +0j\n",
      "\n"
     ]
    }
   ],
   "source": [
    "import scipy.linalg as spl\n",
    "M = pygsti.tools.unitary_to_process_mx(spl.expm( -1j*(np.pi/4+0.05)*X ))\n",
    "pygsti.tools.print_mx(M)"
   ]
  },
  {
   "cell_type": "code",
   "execution_count": 35,
   "metadata": {},
   "outputs": [
    {
     "name": "stdout",
     "output_type": "stream",
     "text": [
      "   0.7071       +0j        0       +0j        0       +0j   0.7071       +0j\n",
      "        0       +0j   0.7071       +0j   0.7071       +0j        0       +0j\n",
      "        0       +0j        0  +0.7071j        0  -0.7071j        0       +0j\n",
      "   0.7071       +0j        0       +0j        0       +0j  -0.7071       +0j\n",
      "\n"
     ]
    }
   ],
   "source": [
    "basis = pygsti.obj.Basis(\"pp\",2)\n",
    "S = basis.get_from_std()\n",
    "pygsti.tools.print_mx(S)"
   ]
  },
  {
   "cell_type": "code",
   "execution_count": 40,
   "metadata": {},
   "outputs": [
    {
     "data": {
      "text/plain": [
       "array([[ 1.00000000e+00+0.00000000e+00j,  0.00000000e+00-4.76210391e-18j,\n",
       "         1.46254688e-16+0.00000000e+00j,  1.71014125e-17+0.00000000e+00j],\n",
       "       [ 0.00000000e+00+4.74049495e-34j,  1.00000000e+00+0.00000000e+00j,\n",
       "         0.00000000e+00+2.09603730e-17j,  0.00000000e+00-1.07545574e-17j],\n",
       "       [-7.63615546e-17+0.00000000e+00j,  0.00000000e+00+1.21168839e-16j,\n",
       "        -9.98334166e-02+0.00000000e+00j, -9.95004165e-01+0.00000000e+00j],\n",
       "       [ 1.21168839e-16+0.00000000e+00j,  0.00000000e+00-2.98986439e-17j,\n",
       "         9.95004165e-01+0.00000000e+00j, -9.98334166e-02+0.00000000e+00j]])"
      ]
     },
     "execution_count": 40,
     "metadata": {},
     "output_type": "execute_result"
    }
   ],
   "source": [
    "np.dot(S,np.dot(M,np.linalg.inv(S)))"
   ]
  },
  {
   "cell_type": "code",
   "execution_count": 42,
   "metadata": {},
   "outputs": [
    {
     "name": "stdout",
     "output_type": "stream",
     "text": [
      "   0.7071       +0j        0       +0j        0       +0j   0.7071       +0j\n",
      "        0       +0j   0.7071       +0j        0  -0.7071j        0       +0j\n",
      "        0       +0j   0.7071       +0j        0  +0.7071j        0       +0j\n",
      "   0.7071       +0j        0       +0j        0       +0j  -0.7071       +0j\n",
      "\n"
     ]
    }
   ],
   "source": [
    "pygsti.tools.print_mx(np.linalg.inv(S))"
   ]
  },
  {
   "cell_type": "code",
   "execution_count": null,
   "metadata": {},
   "outputs": [],
   "source": []
  }
 ],
 "metadata": {
  "kernelspec": {
   "display_name": "Python 3",
   "language": "python",
   "name": "python3"
  },
  "language_info": {
   "codemirror_mode": {
    "name": "ipython",
    "version": 3
   },
   "file_extension": ".py",
   "mimetype": "text/x-python",
   "name": "python",
   "nbconvert_exporter": "python",
   "pygments_lexer": "ipython3",
   "version": "3.7.0"
  }
 },
 "nbformat": 4,
 "nbformat_minor": 2
}
