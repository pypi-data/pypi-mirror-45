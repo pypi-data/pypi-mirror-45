{
 "cells": [
  {
   "cell_type": "markdown",
   "metadata": {},
   "source": [
    "<script>\n",
    "  jQuery(document).ready(function($) {\n",
    "\n",
    "  $(window).load(function(){\n",
    "    $('#preloader').fadeOut('slow',function(){$(this).remove();});\n",
    "  });\n",
    "\n",
    "  });\n",
    "</script>\n",
    "\n",
    "<style type=\"text/css\">\n",
    "  div#preloader { position: fixed;\n",
    "      left: 0;\n",
    "      top: 0;\n",
    "      z-index: 999;\n",
    "      width: 100%;\n",
    "      height: 100%;\n",
    "      overflow: visible;\n",
    "      background: #fff url('http://preloaders.net/preloaders/720/Moving%20line.gif') no-repeat center center;\n",
    "  }\n",
    "\n",
    "</style>\n",
    "\n",
    "<div id=\"preloader\"></div>"
   ]
  },
  {
   "cell_type": "markdown",
   "metadata": {},
   "source": [
    "<table width=60% >\n",
    "    <tr style=\"background-color: white;\">\n",
    "        <td><img src='https://www.creativedestructionlab.com/wp-content/uploads/2018/05/xanadu.jpg'></td>\n",
    "<!--         <td><img src='https://www.creativedestructionlab.com/wp-content/uploads/2016/10/creative-destruction-lab.png' ></td> -->\n",
    "    </tr>\n",
    "</table>\n",
    "\n",
    "---\n",
    "\n",
    "<img src='https://raw.githubusercontent.com/XanaduAI/strawberryfields/master/doc/_static/strawberry-fields-text.png'>\n",
    "\n",
    "---\n",
    "\n",
    "<br>\n",
    "\n",
    "<center> <h1> Quantum teleportation </h1></center>\n",
    "\n",
    "<div class=\"alert alert-info\">\n",
    "“A trick that quantum magicians use to produce phenomena that cannot be imitated by classical magicians.” - A. Peres\n",
    "</div>\n",
    "\n",
    "To get a feel for how Strawberry Fields works, let's walk through an example of quantum teleportation.\n"
   ]
  },
  {
   "cell_type": "markdown",
   "metadata": {},
   "source": [
    "## Background info\n",
    "Quantum teleportation is the reliable transfer of an unknown quantum state across spatially separated qubits or qumodes, through the use of a classical transmission channel and quantum entanglement. Considered a fundamental quantum information protocol, it has applications ranging from quantum communication to enabling distributed information processing in quantum computation.\n",
    "\n",
    "In general, all quantum teleportation circuits work on the same basic principle. Two distant observers, Alice and Bob, share a maximally entangled quantum state (in discrete variables, any one of the four Bell states; or in CV, a maximally entangled state for a fixed energy), and have access to a classical communication channel. Alice, in possession of an unknown state which she wishes to transport to Bob, makes a joint measurement of the unknown state and her half of the entangled state, by projecting onto the Bell basis. By transmitting the results of her measurement to Bob, Bob is then able to transform his half of the entangled state to an accurate replica of the original unknown state, by performing a conditional phase flip (for qubits) or displacement (for qumodes)."
   ]
  },
  {
   "cell_type": "markdown",
   "metadata": {},
   "source": [
    "## The teleportation circuit\n",
    "\n",
    "<img src='https://strawberryfields.readthedocs.io/en/stable/_images/teleport.svg' width=90%>"
   ]
  },
  {
   "cell_type": "markdown",
   "metadata": {},
   "source": [
    "$$\\newcommand{ket}[1]{\\left|#1\\right\\rangle}$$\n",
    "\n",
    "* Here, qumodes $q_1$ and $q_2$ are initially prepared as highly squeezed vacuum states in momentum and position space respectively. We do this by highly squeezing these two qumodes in the phase space:\n",
    "\n",
    "\\begin{align}\n",
    "&\\ket{0}_x \\approx S(2)\\ket{0}\\\\\n",
    "&\\ket{0}_p \\approx S(-2) \\ket{0}\n",
    "\\end{align}\n",
    "\n",
    "\n",
    "* They are then maximally entangled by a 50-50 beamsplitter. This is a beamsplitter with parameters $\\theta=\\pi/4$, $\\phi=0$.\n",
    "\n",
    "\n",
    "\n",
    "* These two qumodes are now spatially separated, with $\\ket{q_1}$ held by Alice, and $\\ket{q_2}$ held by Bob, with the two connected via the classical communication channels $c_0$ and $c_1$.\n",
    "\n",
    "\n",
    "* To teleport her unknown state $\\ket{\\psi}$ to Bob, Alice now performs a projective measurement of her entire system onto the maximally entangled basis states. This is done by entangling $\\ket{\\psi}$ and $\\ket{q_1}$ via another 50-50 beamsplitter, before performing two homodyne measurements, in the $x$ and $p$ quadratures respectively. The two resulting measurements are referred to as $m_1$ and $m_2$.\n",
    "\n",
    "\n",
    "* The results of these measurements are then transmitted to Bob, who performs both a position displacement (conditional on the $x$ measurement) using a $X$ gate, and a momentum displacement (conditional on the $p$ measurement) using a $Z$ gate, to recover exactly the transmitted state $\\ket{\\psi}$. In particular, Bob has to make the following displacements:\n",
    "\n",
    "\\begin{align}\n",
    "Z\\left(-\\sqrt{2}m_2\\right)X\\left(\\sqrt{2}m_1\\right)\\ket{q_2}\n",
    "\\end{align}"
   ]
  },
  {
   "cell_type": "markdown",
   "metadata": {},
   "source": [
    "## Importing Strawberry Fields"
   ]
  },
  {
   "cell_type": "markdown",
   "metadata": {},
   "source": [
    "We import the Strawberry Fields, as well as all quantum operations, using the following commands:"
   ]
  },
  {
   "cell_type": "code",
   "execution_count": 2,
   "metadata": {},
   "outputs": [],
   "source": [
    "import strawberryfields as sf\n",
    "from strawberryfields.ops import *"
   ]
  },
  {
   "cell_type": "markdown",
   "metadata": {},
   "source": [
    "The first import statement imports Strawberry Fields as sf, allowing us to access the engine and backends. The second import statement imports all available CV gates into the global namespace.\n",
    "\n",
    "In addition, we will also need some utilities from the `utils` subpackage, a module containing Strawberry Fields utilities and extensions. Finally, we import $\\pi$ and the square root from NumPy so that we can pass angle parameters to gates such as beamsplitters, and perform some custom classical processing."
   ]
  },
  {
   "cell_type": "code",
   "execution_count": 3,
   "metadata": {},
   "outputs": [],
   "source": [
    "from strawberryfields.utils import scale\n",
    "from numpy import pi, sqrt"
   ]
  },
  {
   "cell_type": "markdown",
   "metadata": {},
   "source": [
    "\n",
    "<div class=\"alert alert-success\" style=\"border: 0px; border-left: 3px solid #119a68; color: black; background-color: #daf0e9\">\n",
    "<p style=\"color: #119a68;\">**Available CV gates**</p>\n",
    "\n",
    "Check out our <a href=\"https://strawberryfields.readthedocs.io/en/stable/op_conventions.html\">documentation</a> to see the available CV gates, states, measurements, and other operations available in Strawberry Fields.\n",
    "</div>\n"
   ]
  },
  {
   "cell_type": "markdown",
   "metadata": {},
   "source": [
    "## Engine initialization\n",
    "\n",
    "We can now initialise our chosen backend, engine, and quantum register, using the \n",
    "`sf.Engine()` function, which has the following syntax:\n",
    "\n",
    "    eng, q = sf.Engine(num_subsystems)\n",
    "\n",
    "where\n",
    "\n",
    "* `num_subsystems` (*int*) is the number of modes we want to initialise in our quantum register\n",
    "\n",
    "returning\n",
    "\n",
    "* `eng` is the resulting engine; we use this engine object to manipulate our engine/circuit.\n",
    "* `q` (*tuple*) contains the **qumodes** in our quantum circuit. They are accessed by indexing; for example `q[0]` for the first qumode, `q[1]` for the second qumode, etc.\n",
    "\n",
    "<div class=\"alert alert-info\" style=\"border: 0px; border-left: 3px solid #31708f; color: black; background-color: #d9edf7\">\n",
    "<p style=\"color: #31708f;\">**Exercise**</p>\n",
    "\n",
    "Initialise an engine below, using the correct number of modes for quantum teleportation as per the circuit above.\n",
    "\n",
    "</div>"
   ]
  },
  {
   "cell_type": "code",
   "execution_count": 4,
   "metadata": {},
   "outputs": [],
   "source": [
    "eng, q = sf.Engine(3)"
   ]
  },
  {
   "cell_type": "markdown",
   "metadata": {},
   "source": [
    "## Circuit construction\n",
    "\n",
    "Now that we have created the engine and qumodes, we can start to construct our circuit. In Strawberry Fields, circuit construction *always* occurs within a `with eng:` context. Inside this context, operations are applied using the syntax\n",
    "\n",
    "```python3\n",
    "with eng:\n",
    "    Operation(arguments) | (sequence of qumodes)\n",
    "```\n",
    "\n",
    "For example, to apply prepare a squeezed state, followed by a beamsplitter, we can write\n",
    "\n",
    "```python3\n",
    "with eng:\n",
    "    Squeezed(0.5) | q[0]\n",
    "    BSgate(pi/4, 0) | (q[0], q[1])\n",
    "```\n",
    "\n",
    "Some operations in Strawberry Fields apply to one mode, and some apply to two. Be sure to check the documentation to double check the operation arguments, and to see how many qumodes they act on.\n",
    "\n",
    "<div class=\"alert alert-info\" style=\"border: 0px; border-left: 3px solid #31708f; color: black; background-color: #d9edf7\">\n",
    "<p style=\"color: #31708f;\">**Exercise**</p>\n",
    "\n",
    "The cell below corresponding to the teleportation circuit is partially complete. Using the above, and referring to the docs, fill in the cell below to finish constructing the teleportation circuit.\n",
    "</div>\n",
    "\n"
   ]
  },
  {
   "cell_type": "code",
   "execution_count": 5,
   "metadata": {},
   "outputs": [],
   "source": [
    "with eng:\n",
    "    # prepare the initial states\n",
    "    Coherent(1+0.5j) | q[0]  # This is the state we will teleport\n",
    "    Sgate(-2) | q[1]\n",
    "    Sgate(2) | q[2]\n",
    "    \n",
    "    # apply the gates\n",
    "    BSgate(pi/4, 0) | (q[1], q[2])  # a 50-50 beamsplitter\n",
    "    BSgate(pi/4, 0) | (q[0], q[1])  # a 50-50 beamsplitter\n",
    "    \n",
    "    # perform the homodyne measurements\n",
    "    MeasureX | q[0]\n",
    "    MeasureP | q[1]    \n",
    "    \n",
    "    # displacement gates conditioned on the measurements\n",
    "    Xgate(scale(q[0], sqrt(2))) | q[2]\n",
    "    Zgate(scale(q[1], sqrt(2))) | q[2]"
   ]
  },
  {
   "cell_type": "markdown",
   "metadata": {},
   "source": [
    "A couple of things to note:\n",
    "\n",
    "* **Operations must be applied in temporal order.** Different operation orderings can result in the same quantum circuit, providing the operations do not apply sequentially to the same mode.\n",
    "\n",
    "\n",
    "* **Gates are standard Python objects, and can be treated as such.** In this case, since both beamsplitters use the same parameters, a single instance can be created and stored under variable BS.\n",
    "\n",
    "\n",
    "* **The results of measured modes are passed to gates simply by passing the measured mode as an argument.** In order to perform additional classical processing to the measured mode, we can use the basic classical processing functions available in `strawberryfields.utils`; here we used the `scale()` function.\n"
   ]
  },
  {
   "cell_type": "markdown",
   "metadata": {},
   "source": [
    "## Running the engine\n",
    "\n",
    "Once the circuit is constructed, you can run the engine via the `eng.run()` method:\n",
    "\n",
    "```python3\n",
    "    state = eng.run(backend, return_state=True, modes=None, *args, **kwargs)\n",
    "```\n",
    "\n",
    "The eng.run method accepts the arguments\n",
    "\n",
    "* `backend`: a string representing the Strawberry Fields backend we wish to use; we have the choice of two Fock basis backends, the NumPy based (`'fock'`) and Tensorflow (`'tf'`), and one Gaussian representation backend (`'gaussian'`).\n",
    "\n",
    "    This is required the first time running the engine, but optional for subsequent runs - if not provided, the previously used backend will continue to be used.\n",
    "\n",
    "and returns\n",
    "\n",
    "* `state`: an object representing the quantum state after the circuit simulation.\n",
    "\n",
    "    Depending on backend used, the state returned might be a BaseFockState, which represents the state using the Fock/number basis, or might be a BaseGaussianState, which represents the state using Gaussian representation, as a vector of means and a covariance matrix. Many methods are provided for state manipulation, see Quantum states API for more details.\n",
    "\n",
    "For more details on the technical differences between the backends, see the [Backend API](https://strawberryfields.readthedocs.io/en/stable/code/backend.html) in the documentation.\n",
    "\n",
    "### How do we choose a backend?\n",
    "\n",
    "\n",
    "* **Fock backends** are backends which represent the quantum state and operations via the Fock basis. <br>These can represent all possible continuous-variable states and operations, but also introduce numerical error due to truncation of the Fock space, and can consume more memory.\n",
    "\n",
    "\n",
    "* The **gaussian backend**, due to its ability to represent states and operations as gaussian objects/transforms in the phase space, can be less computationally intensive then the Fock backends. <br>However, it cannot represent non-gaussian operations and states (such as the cubic phase gate, fock measurements, and fock states, amongst others).</li>\n",
    "\n",
    "In the Fock backends, due to the infinite Hilbert space, we must specify a **cutoff dimension**. For example, choosing `cutoff_dim=5`, a state $|\\psi\\rangle$ has approximation\n",
    "\n",
    "$$|{\\psi}\\rangle = \\sum_{n=0}^\\infty c_n|{n}\\rangle \\approx\\sum_{n=0}^{5-1} c_n|{n}\\rangle$$\n",
    "\n",
    "in our truncated Fock basis - i.e. all information of quantum amplitudes of Fock states $|n\\rangle$, with $n\\geq 5$, is discarded.\n",
    "\n",
    "<div class=\"alert\" style=\"border: 0px; border-left: 3px solid #F0AD4E; color: black; background-color: #FFF1E3\">\n",
    "<p style=\"color: #9B5831;\">**Warning**</p>\n",
    "To avoid significant numerical error when working with the Fock backend, we generally need to ensure that all initial states and gates we apply result in negligible amplitude in the Fock basis for Fock states $|{n}\\rangle, ~~n\\geq \\texttt{cutoff_dim}$.\n",
    "<br><br>\n",
    "\n",
    "For example, to prepare a squeezed vacuum state in the $x$ quadrature with `cutoff_dim=10`, a squeezing factor of $r=1$ provides an acceptable approximation, since $\\left|\\left\\langle{n}\\middle|{\\xi}\\right\\rangle\\right|^2<0.02$ for $n\\geq 10$.\n",
    "</div>\n",
    "\n",
    "<div class=\"alert alert-success\" style=\"border: 0px; border-left: 3px solid #119a68; color: black; background-color: #daf0e9\">\n",
    "<p style=\"color: #119a68;\">**Scaling**</p>\n",
    "As we are performing a classical simualation of a quantum system, we still need to consider how the simulation scales. Using the Fock backends, memory usage and computational time will scale like $\\sim D^N$, where $N$ is the number of modes and $D$ the cutoff dimension.\n",
    "<br><br>\n",
    "Ideally, we would like to choose a cutoff large enough that minimises truncation error, but small enough to reduce classical computational resources!\n",
    "</div>\n",
    "\n",
    "\n",
    "<div class=\"alert alert-info\" style=\"border: 0px; border-left: 3px solid #31708f; color: black; background-color: #d9edf7\">\n",
    "<p style=\"color: #31708f;\">**Exercise**</p>\n",
    "\n",
    "Run the engine using the Gaussian or the Fock backend.\n",
    "\n",
    "</div>"
   ]
  },
  {
   "cell_type": "code",
   "execution_count": 6,
   "metadata": {},
   "outputs": [],
   "source": [
    "state = eng.run('fock', cutoff_dim=15)"
   ]
  },
  {
   "cell_type": "markdown",
   "metadata": {},
   "source": [
    "## Results and visualization\n",
    "Once the engine has been run, we can extract results of measurements and the quantum state from the circuit. Any measurements performed on a mode are stored in the mode attribute `val`:"
   ]
  },
  {
   "cell_type": "code",
   "execution_count": 7,
   "metadata": {},
   "outputs": [
    {
     "data": {
      "text/plain": [
       "-1.0993109931099312"
      ]
     },
     "execution_count": 7,
     "metadata": {},
     "output_type": "execute_result"
    }
   ],
   "source": [
    "q[0].val"
   ]
  },
  {
   "cell_type": "code",
   "execution_count": 8,
   "metadata": {},
   "outputs": [
    {
     "data": {
      "text/plain": [
       "-0.038300383003829097"
      ]
     },
     "execution_count": 8,
     "metadata": {},
     "output_type": "execute_result"
    }
   ],
   "source": [
    "q[1].val"
   ]
  },
  {
   "cell_type": "markdown",
   "metadata": {},
   "source": [
    "The returned `state` object stores the resulting state of the circuit after the engine run, and also contains some convenient functions for state manipulation.\n",
    "\n",
    "<div class=\"alert alert-info\" style=\"border: 0px; border-left: 3px solid #31708f; color: black; background-color: #d9edf7\">\n",
    "<p style=\"color: #31708f;\">**Exercise**</p>\n",
    "\n",
    "Print the state object below to see some info about the state.\n",
    "\n",
    "</div>"
   ]
  },
  {
   "cell_type": "code",
   "execution_count": 9,
   "metadata": {},
   "outputs": [
    {
     "name": "stdout",
     "output_type": "stream",
     "text": [
      "<FockState: num_modes=3, cutoff=15, pure=False, hbar=2>\n"
     ]
    }
   ],
   "source": [
    "print(state)"
   ]
  },
  {
   "cell_type": "markdown",
   "metadata": {},
   "source": [
    "The actual state representation can also be returned; in the Fock backends, the state vector in the truncated Fock basis is available via `state.ket()`, while the density matrix is given by `state.dm()`. In the Gaussian backend, the vector of means and covariance matrix are accessible via `state.means()` and `state.cov()` respectively."
   ]
  },
  {
   "cell_type": "markdown",
   "metadata": {},
   "source": [
    "### Fock backend example\n",
    "To return the density matrix representing the Fock state, we can use the method state.dm(). In this case, the density matrix has dimension"
   ]
  },
  {
   "cell_type": "code",
   "execution_count": 11,
   "metadata": {},
   "outputs": [
    {
     "data": {
      "text/plain": [
       "(15, 15, 15, 15, 15, 15)"
      ]
     },
     "execution_count": 11,
     "metadata": {},
     "output_type": "execute_result"
    }
   ],
   "source": [
    "state.dm().shape"
   ]
  },
  {
   "cell_type": "markdown",
   "metadata": {},
   "source": [
    "Here, we use the convention that every pair of consecutive dimensions corresponds to a subsystem; i.e.,\n",
    "\n",
    "$$\\rho_{\\underbrace{ij}_{q[0]}\\underbrace{kl}_{q[1]}\\underbrace{mn}_{q[2]}}$$\n",
    "\n",
    "Thus we can calculate the reduced density matrix for mode `q[2]`, $\\rho_2$:"
   ]
  },
  {
   "cell_type": "code",
   "execution_count": null,
   "metadata": {},
   "outputs": [],
   "source": [
    "import numpy as np\n",
    "rho2 = np.einsum('kkllij->ij', state.dm())\n",
    "rho2.shape"
   ]
  },
  {
   "cell_type": "markdown",
   "metadata": {},
   "source": [
    "<div class=\"alert alert-success\" style=\"border: 0px; border-left: 3px solid #119a68; color: black; background-color: #daf0e9\">\n",
    "<p style=\"color: #119a68;\">**Note**</p>\n",
    "The Fock state also provides the method `reduced_dm()` for extracting the reduced density matrix automatically.\n",
    "</div>"
   ]
  },
  {
   "cell_type": "code",
   "execution_count": 15,
   "metadata": {},
   "outputs": [
    {
     "data": {
      "text/plain": [
       "array([[  5.20017225e-01 -1.73472348e-17j,\n",
       "          2.62001634e-01 -8.69150141e-02j,\n",
       "          2.80055494e-01 +2.94986447e-02j,\n",
       "          1.67123169e-01 -7.90550672e-02j,\n",
       "          1.22974690e-01 +4.66482169e-03j,\n",
       "          8.70370392e-02 -5.99165249e-02j,\n",
       "          6.12599236e-02 -7.23598638e-04j,\n",
       "          5.03755666e-02 -4.24049729e-02j,\n",
       "          4.56986981e-02 +4.90277701e-03j,\n",
       "          3.27242806e-02 -1.95025911e-02j,\n",
       "          3.94015196e-02 +1.75404805e-02j,\n",
       "          1.02001102e-02 +1.03391172e-02j,\n",
       "          8.68933695e-03 +1.84366657e-02j,\n",
       "         -1.62624603e-02 +1.79535624e-03j,\n",
       "          2.02890892e-03 -1.94914994e-02j],\n",
       "       [  2.62001634e-01 +8.69150141e-02j,\n",
       "          1.46531831e-01 -3.90312782e-18j,\n",
       "          1.36170724e-01 +6.16704962e-02j,\n",
       "          9.74152648e-02 -1.18977678e-02j,\n",
       "          6.11789861e-02 +2.29041217e-02j,\n",
       "          5.38664697e-02 -1.56406395e-02j,\n",
       "          3.09856883e-02 +9.87433272e-03j,\n",
       "          3.24683660e-02 -1.29453002e-02j,\n",
       "          2.22050503e-02 +1.01082009e-02j,\n",
       "          1.97471977e-02 -4.35654686e-03j,\n",
       "          1.69200768e-02 +1.54229856e-02j,\n",
       "          3.41108128e-03 +6.91401776e-03j,\n",
       "          1.29649055e-03 +1.07413180e-02j,\n",
       "         -8.49363133e-03 -1.81352782e-03j,\n",
       "          4.28001476e-03 -9.48134370e-03j],\n",
       "       [  2.80055494e-01 -2.94986447e-02j,\n",
       "          1.36170724e-01 -6.16704962e-02j,\n",
       "          1.52497352e-01 +4.33680869e-18j,\n",
       "          8.55197524e-02 -5.20554158e-02j,\n",
       "          6.64926885e-02 -4.46365547e-03j,\n",
       "          4.34749920e-02 -3.72053573e-02j,\n",
       "          3.29505104e-02 -3.86474216e-03j,\n",
       "          2.47243059e-02 -2.56948345e-02j,\n",
       "          2.48891693e-02 +4.80752896e-05j,\n",
       "          1.65173655e-02 -1.23594554e-02j,\n",
       "          2.22147111e-02 +7.21133132e-03j,\n",
       "          6.07977332e-03 +4.98952155e-03j,\n",
       "          5.72548958e-03 +9.43616022e-03j,\n",
       "         -8.65631093e-03 +1.88939879e-03j,\n",
       "         -1.30105816e-05 -1.06122476e-02j],\n",
       "       [  1.67123169e-01 +7.90550672e-02j,\n",
       "          9.74152648e-02 +1.18977678e-02j,\n",
       "          8.55197524e-02 +5.20554158e-02j,\n",
       "          6.57283175e-02 +1.82145965e-17j,\n",
       "          3.88124491e-02 +2.01942775e-02j,\n",
       "          3.70807154e-02 -6.02426302e-03j,\n",
       "          1.97977225e-02 +9.08042475e-03j,\n",
       "          2.26362739e-02 -5.96982079e-03j,\n",
       "          1.39413111e-02 +8.52295091e-03j,\n",
       "          1.34817921e-02 -1.29286990e-03j,\n",
       "          9.99628993e-03 +1.16271350e-02j,\n",
       "          1.70631874e-03 +4.87344709e-03j,\n",
       "         -1.02348873e-05 +7.24616404e-03j,\n",
       "         -5.49936768e-03 -1.89529159e-03j,\n",
       "          3.61522540e-03 -5.95573660e-03j],\n",
       "       [  1.22974690e-01 -4.66482169e-03j,\n",
       "          6.11789861e-02 -2.29041217e-02j,\n",
       "          6.64926885e-02 +4.46365547e-03j,\n",
       "          3.88124491e-02 -2.01942775e-02j,\n",
       "          2.91231408e-02 -8.67361738e-18j,\n",
       "          2.00452071e-02 -1.49499439e-02j,\n",
       "          1.44803754e-02 -7.20651010e-04j,\n",
       "          1.15325180e-02 -1.04799056e-02j,\n",
       "          1.08508979e-02 +7.49477487e-04j,\n",
       "          7.56375358e-03 -4.90556446e-03j,\n",
       "          9.47509547e-03 +3.79455523e-03j,\n",
       "          2.50488919e-03 +2.35351442e-03j,\n",
       "          2.22025775e-03 +4.28199092e-03j,\n",
       "         -3.82967314e-03 +5.70451977e-04j,\n",
       "          3.04951581e-04 -4.62758823e-03j],\n",
       "       [  8.70370392e-02 +5.99165249e-02j,\n",
       "          5.38664697e-02 +1.56406395e-02j,\n",
       "          4.34749920e-02 +3.72053573e-02j,\n",
       "          3.70807154e-02 +6.02426302e-03j,\n",
       "          2.00452071e-02 +1.49499439e-02j,\n",
       "          2.14712813e-02 -1.42572586e-17j,\n",
       "          1.03366535e-02 +6.93727377e-03j,\n",
       "          1.33174411e-02 -1.29317715e-03j,\n",
       "          7.08384615e-03 +6.08601067e-03j,\n",
       "          7.72426717e-03 +5.06285910e-04j,\n",
       "          4.57374650e-03 +7.47566316e-03j,\n",
       "          5.15951020e-04 +2.90575242e-03j,\n",
       "         -6.69913922e-04 +4.08699475e-03j,\n",
       "         -2.92876434e-03 -1.57327023e-03j,\n",
       "          2.58540115e-03 -3.02858665e-03j],\n",
       "       [  6.12599236e-02 +7.23598638e-04j,\n",
       "          3.09856883e-02 -9.87433272e-03j,\n",
       "          3.29505104e-02 +3.86474216e-03j,\n",
       "          1.97977225e-02 -9.08042475e-03j,\n",
       "          1.44803754e-02 +7.20651010e-04j,\n",
       "          1.03366535e-02 -6.93727377e-03j,\n",
       "          7.21764906e-03 -3.68628739e-18j,\n",
       "          5.99343135e-03 -4.92536320e-03j,\n",
       "          5.37665096e-03 +6.41154263e-04j,\n",
       "          3.88217713e-03 -2.25194078e-03j,\n",
       "          4.61723515e-03 +2.12115931e-03j,\n",
       "          1.18722337e-03 +1.23217902e-03j,\n",
       "          9.97981117e-04 +2.18399751e-03j,\n",
       "         -1.91827529e-03 +1.88870459e-04j,\n",
       "          2.66135083e-04 -2.29334643e-03j],\n",
       "       [  5.03755666e-02 +4.24049729e-02j,\n",
       "          3.24683660e-02 +1.29453002e-02j,\n",
       "          2.47243059e-02 +2.56948345e-02j,\n",
       "          2.26362739e-02 +5.96982079e-03j,\n",
       "          1.15325180e-02 +1.04799056e-02j,\n",
       "          1.33174411e-02 +1.29317715e-03j,\n",
       "          5.99343135e-03 +4.92536320e-03j,\n",
       "          8.33795348e-03 -4.01154804e-18j,\n",
       "          4.02716599e-03 +4.20146125e-03j,\n",
       "          4.76044043e-03 +7.79239875e-04j,\n",
       "          2.38659455e-03 +4.91220653e-03j,\n",
       "          1.45007401e-04 +1.83335136e-03j,\n",
       "         -6.61662767e-04 +2.49458771e-03j,\n",
       "         -1.72179429e-03 -1.15220626e-03j,\n",
       "          1.78598688e-03 -1.72274966e-03j],\n",
       "       [  4.56986981e-02 -4.90277701e-03j,\n",
       "          2.22050503e-02 -1.01082009e-02j,\n",
       "          2.48891693e-02 -4.80752896e-05j,\n",
       "          1.39413111e-02 -8.52295091e-03j,\n",
       "          1.08508979e-02 -7.49477487e-04j,\n",
       "          7.08384615e-03 -6.08601067e-03j,\n",
       "          5.37665096e-03 -6.41154263e-04j,\n",
       "          4.02716599e-03 -4.20146125e-03j,\n",
       "          4.06218896e-03 +1.08420217e-18j,\n",
       "          2.69191115e-03 -2.02240007e-03j,\n",
       "          3.62794754e-03 +1.16996174e-03j,\n",
       "          9.93855816e-04 +8.12425648e-04j,\n",
       "          9.37434806e-04 +1.53827546e-03j,\n",
       "         -1.41220521e-03 +3.11098655e-04j,\n",
       "         -5.46900937e-06 -1.73202615e-03j],\n",
       "       [  3.27242806e-02 +1.95025911e-02j,\n",
       "          1.97471977e-02 +4.35654686e-03j,\n",
       "          1.65173655e-02 +1.23594554e-02j,\n",
       "          1.34817921e-02 +1.29286990e-03j,\n",
       "          7.56375358e-03 +4.90556446e-03j,\n",
       "          7.72426717e-03 -5.06285910e-04j,\n",
       "          3.88217713e-03 +2.25194078e-03j,\n",
       "          4.76044043e-03 -7.79239875e-04j,\n",
       "          2.69191115e-03 +2.02240007e-03j,\n",
       "          2.79073371e-03 +3.02831219e-17j,\n",
       "          1.82167344e-03 +2.58151320e-03j,\n",
       "          2.54129455e-04 +1.03317491e-03j,\n",
       "         -1.44630691e-04 +1.48608771e-03j,\n",
       "         -1.09071659e-03 -4.96922717e-04j,\n",
       "          8.58681799e-04 -1.15049327e-03j],\n",
       "       [  3.94015196e-02 -1.75404805e-02j,\n",
       "          1.69200768e-02 -1.54229856e-02j,\n",
       "          2.22147111e-02 -7.21133132e-03j,\n",
       "          9.99628993e-03 -1.16271350e-02j,\n",
       "          9.47509547e-03 -3.79455523e-03j,\n",
       "          4.57374650e-03 -7.47566316e-03j,\n",
       "          4.61723515e-03 -2.12115931e-03j,\n",
       "          2.38659455e-03 -4.91220653e-03j,\n",
       "          3.62794754e-03 -1.16996174e-03j,\n",
       "          1.82167344e-03 -2.58151320e-03j,\n",
       "          3.57708958e-03 +2.88397778e-17j,\n",
       "          1.12160309e-03 +4.39335630e-04j,\n",
       "          1.28026731e-03 +1.10384324e-03j,\n",
       "         -1.17164242e-03 +6.84575654e-04j,\n",
       "         -5.03729795e-04 -1.54530022e-03j],\n",
       "       [  1.02001102e-02 -1.03391172e-02j,\n",
       "          3.41108128e-03 -6.91401776e-03j,\n",
       "          6.07977332e-03 -4.98952155e-03j,\n",
       "          1.70631874e-03 -4.87344709e-03j,\n",
       "          2.50488919e-03 -2.35351442e-03j,\n",
       "          5.15951020e-04 -2.90575242e-03j,\n",
       "          1.18722337e-03 -1.23217902e-03j,\n",
       "          1.45007401e-04 -1.83335136e-03j,\n",
       "          9.93855816e-04 -8.12425648e-04j,\n",
       "          2.54129455e-04 -1.03317491e-03j,\n",
       "          1.12160309e-03 -4.39335630e-04j,\n",
       "          4.05639627e-04 +3.08997619e-18j,\n",
       "          5.37003447e-04 +1.88870568e-04j,\n",
       "         -2.83291557e-04 +3.58550268e-04j,\n",
       "         -3.47738101e-04 -4.22664017e-04j],\n",
       "       [  8.68933695e-03 -1.84366657e-02j,\n",
       "          1.29649055e-03 -1.07413180e-02j,\n",
       "          5.72548958e-03 -9.43616022e-03j,\n",
       "         -1.02348873e-05 -7.24616404e-03j,\n",
       "          2.22025775e-03 -4.28199092e-03j,\n",
       "         -6.69913922e-04 -4.08699475e-03j,\n",
       "          9.97981117e-04 -2.18399751e-03j,\n",
       "         -6.61662767e-04 -2.49458771e-03j,\n",
       "          9.37434806e-04 -1.53827546e-03j,\n",
       "         -1.44630691e-04 -1.48608771e-03j,\n",
       "          1.28026731e-03 -1.10384324e-03j,\n",
       "          5.37003447e-04 -1.88870568e-04j,\n",
       "          7.98848958e-04 -8.78203760e-18j,\n",
       "         -2.08088520e-04 +6.06568369e-04j,\n",
       "         -6.57148203e-04 -3.97630139e-04j],\n",
       "       [ -1.62624603e-02 -1.79535624e-03j,\n",
       "         -8.49363133e-03 +1.81352782e-03j,\n",
       "         -8.65631093e-03 -1.88939879e-03j,\n",
       "         -5.49936768e-03 +1.89529159e-03j,\n",
       "         -3.82967314e-03 -5.70451977e-04j,\n",
       "         -2.92876434e-03 +1.57327023e-03j,\n",
       "         -1.91827529e-03 -1.88870459e-04j,\n",
       "         -1.72179429e-03 +1.15220626e-03j,\n",
       "         -1.41220521e-03 -3.11098655e-04j,\n",
       "         -1.09071659e-03 +4.96922717e-04j,\n",
       "         -1.17164242e-03 -6.84575654e-04j,\n",
       "         -2.83291557e-04 -3.58550268e-04j,\n",
       "         -2.08088520e-04 -6.06568369e-04j,\n",
       "          5.14773180e-04 -1.31188463e-17j,\n",
       "         -1.30744199e-04 +6.02551428e-04j],\n",
       "       [  2.02890892e-03 +1.94914994e-02j,\n",
       "          4.28001476e-03 +9.48134370e-03j,\n",
       "         -1.30105816e-05 +1.06122476e-02j,\n",
       "          3.61522540e-03 +5.95573660e-03j,\n",
       "          3.04951581e-04 +4.62758823e-03j,\n",
       "          2.58540115e-03 +3.02858665e-03j,\n",
       "          2.66135083e-04 +2.29334643e-03j,\n",
       "          1.78598688e-03 +1.72274966e-03j,\n",
       "         -5.46900937e-06 +1.73202615e-03j,\n",
       "          8.58681799e-04 +1.15049327e-03j,\n",
       "         -5.03729795e-04 +1.54530022e-03j,\n",
       "         -3.47738101e-04 +4.22664017e-04j,\n",
       "         -6.57148203e-04 +3.97630139e-04j,\n",
       "         -1.30744199e-04 -6.02551428e-04j,\n",
       "          7.38504422e-04 +1.40946282e-18j]])"
      ]
     },
     "execution_count": 15,
     "metadata": {},
     "output_type": "execute_result"
    }
   ],
   "source": [
    "state.reduced_dm([2])"
   ]
  },
  {
   "cell_type": "markdown",
   "metadata": {},
   "source": [
    "The diagonal values of the reduced density matrix contain the marginal Fock state probabilities $\\left|\\left\\langle{i}\\mid{\\rho_2}\\right\\rangle\\right|^2,~~ 0\\leq i< cutoff$:"
   ]
  },
  {
   "cell_type": "code",
   "execution_count": 15,
   "metadata": {},
   "outputs": [
    {
     "data": {
      "text/plain": [
       "array([  3.30124234e-01,   3.66661916e-01,   2.02037477e-01,\n",
       "         6.96202751e-02,   1.39445869e-02,   1.68472510e-03,\n",
       "         3.31591938e-03,   5.00648663e-03,   1.49447948e-03,\n",
       "         1.08845772e-04,   1.21982477e-03,   5.89777516e-04,\n",
       "         1.06575755e-03,   1.65544901e-04,   5.62370962e-05])"
      ]
     },
     "execution_count": 15,
     "metadata": {},
     "output_type": "execute_result"
    }
   ],
   "source": [
    "np.real_if_close(np.diag(state.reduced_dm([2])))"
   ]
  },
  {
   "cell_type": "markdown",
   "metadata": {},
   "source": [
    "This can also be returned via the state method `all_fock_probs`."
   ]
  },
  {
   "cell_type": "markdown",
   "metadata": {},
   "source": [
    "### Plotting the Wigner function"
   ]
  },
  {
   "cell_type": "markdown",
   "metadata": {},
   "source": [
    "<div class=\"alert alert-info\" style=\"border: 0px; border-left: 3px solid #31708f; color: black; background-color: #d9edf7\">\n",
    "<p style=\"color: #31708f;\">**Exercise**</p>\n",
    "\n",
    "Using the `state.wigner` function, plot the wigner function of the input state and the resulting teleported state.\n",
    "\n",
    "</div>"
   ]
  },
  {
   "cell_type": "code",
   "execution_count": 17,
   "metadata": {},
   "outputs": [],
   "source": [
    "import matplotlib.pyplot as plt"
   ]
  },
  {
   "cell_type": "code",
   "execution_count": 18,
   "metadata": {},
   "outputs": [],
   "source": [
    "x = np.arange(-5, 5, 0.1)\n",
    "p = np.arange(-5, 5, 0.1)"
   ]
  },
  {
   "cell_type": "code",
   "execution_count": 19,
   "metadata": {},
   "outputs": [],
   "source": [
    "W = state.wigner(2, x, p)"
   ]
  },
  {
   "cell_type": "code",
   "execution_count": 21,
   "metadata": {},
   "outputs": [
    {
     "data": {
      "text/plain": [
       "(100, 100)"
      ]
     },
     "execution_count": 21,
     "metadata": {},
     "output_type": "execute_result"
    }
   ],
   "source": [
    "W.shape"
   ]
  },
  {
   "cell_type": "code",
   "execution_count": 23,
   "metadata": {},
   "outputs": [
    {
     "data": {
      "text/plain": [
       "<matplotlib.contour.QuadContourSet at 0x7fd7c6d45048>"
      ]
     },
     "execution_count": 23,
     "metadata": {},
     "output_type": "execute_result"
    },
    {
     "data": {
      "image/png": "[encoded data removed]",
      "text/plain": [
       "<matplotlib.figure.Figure at 0x7fd7c6e3e4e0>"
      ]
     },
     "metadata": {},
     "output_type": "display_data"
    }
   ],
   "source": [
    "X, P = np.meshgrid(x, p)\n",
    "plt.contourf(X, P, W)"
   ]
  },
  {
   "cell_type": "markdown",
   "metadata": {},
   "source": [
    "<div class=\"alert alert-info\" style=\"border: 0px; border-left: 3px solid #31708f; color: black; background-color: #d9edf7\">\n",
    "<p style=\"color: #31708f;\">**Exercise**</p>\n",
    "\n",
    "Repeat this notebook, but using the `'gaussian'` backend instead. How does the teleportation fidelity compare to the fock backend?\n",
    "\n",
    "</div>"
   ]
  },
  {
   "cell_type": "code",
   "execution_count": null,
   "metadata": {},
   "outputs": [],
   "source": []
  }
 ],
 "metadata": {
  "kernelspec": {
   "display_name": "Python 3",
   "language": "python",
   "name": "python3"
  },
  "language_info": {
   "codemirror_mode": {
    "name": "ipython",
    "version": 3
   },
   "file_extension": ".py",
   "mimetype": "text/x-python",
   "name": "python",
   "nbconvert_exporter": "python",
   "pygments_lexer": "ipython3",
   "version": "3.6.3"
  },
  "toc": {
   "nav_menu": {},
   "number_sections": true,
   "sideBar": true,
   "skip_h1_title": false,
   "toc_cell": false,
   "toc_position": {},
   "toc_section_display": "block",
   "toc_window_display": false
  }
 },
 "nbformat": 4,
 "nbformat_minor": 2
}
